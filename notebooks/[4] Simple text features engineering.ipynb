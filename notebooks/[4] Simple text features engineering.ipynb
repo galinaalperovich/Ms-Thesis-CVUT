{
 "cells": [
  {
   "cell_type": "code",
   "execution_count": 1,
   "metadata": {
    "collapsed": false
   },
   "outputs": [],
   "source": [
    "import re\n",
    "import string"
   ]
  },
  {
   "cell_type": "markdown",
   "metadata": {},
   "source": [
    "# Simple text feature engineering"
   ]
  },
  {
   "cell_type": "markdown",
   "metadata": {},
   "source": [
    "In this nitebook we will extract simple features from text field: \n",
    "* len of the text\n",
    "* number of punctuation\n",
    "* number of digits\n",
    "* #numbers/len\n",
    "* number of upper case\n",
    "* number of spaces\n",
    "\n",
    "Links: https://www.quora.com/Natural-Language-Processing-What-are-the-possible-features-that-can-be-extracted-from-text"
   ]
  },
  {
   "cell_type": "code",
   "execution_count": 2,
   "metadata": {
    "collapsed": true
   },
   "outputs": [],
   "source": [
    "%store -r DATA_NUM_CL_WITH_NAN"
   ]
  },
  {
   "cell_type": "code",
   "execution_count": 3,
   "metadata": {
    "collapsed": true
   },
   "outputs": [],
   "source": [
    "data_cl = DATA_NUM_CL_WITH_NAN"
   ]
  },
  {
   "cell_type": "code",
   "execution_count": 4,
   "metadata": {
    "collapsed": false
   },
   "outputs": [
    {
     "data": {
      "text/html": [
       "<div>\n",
       "<table border=\"1\" class=\"dataframe\">\n",
       "  <thead>\n",
       "    <tr style=\"text-align: right;\">\n",
       "      <th></th>\n",
       "      <th>url</th>\n",
       "      <th>meta_name</th>\n",
       "      <th>text</th>\n",
       "      <th>tag</th>\n",
       "      <th>color_r</th>\n",
       "      <th>color_g</th>\n",
       "      <th>color_b</th>\n",
       "      <th>font_size</th>\n",
       "      <th>display</th>\n",
       "      <th>font_weight</th>\n",
       "      <th>...</th>\n",
       "      <th>font_family</th>\n",
       "      <th>text_align</th>\n",
       "      <th>line_height</th>\n",
       "      <th>num_siblings</th>\n",
       "      <th>x_coords</th>\n",
       "      <th>y_coords</th>\n",
       "      <th>block_height</th>\n",
       "      <th>block_width</th>\n",
       "      <th>height</th>\n",
       "      <th>width</th>\n",
       "    </tr>\n",
       "  </thead>\n",
       "  <tbody>\n",
       "    <tr>\n",
       "      <th>3</th>\n",
       "      <td>http://www.ticketbis.com/ar/entradas-schalke-0...</td>\n",
       "      <td>name</td>\n",
       "      <td>FC Ingolstadt - Schalke 04</td>\n",
       "      <td>26</td>\n",
       "      <td>94.0</td>\n",
       "      <td>103.0</td>\n",
       "      <td>113.0</td>\n",
       "      <td>11.0</td>\n",
       "      <td>4</td>\n",
       "      <td>400</td>\n",
       "      <td>...</td>\n",
       "      <td>143</td>\n",
       "      <td>5</td>\n",
       "      <td>20.15625</td>\n",
       "      <td>1.0</td>\n",
       "      <td>26.0</td>\n",
       "      <td>1245.0</td>\n",
       "      <td>14.0</td>\n",
       "      <td>163.0</td>\n",
       "      <td>-1.0</td>\n",
       "      <td>-1.0</td>\n",
       "    </tr>\n",
       "    <tr>\n",
       "      <th>8</th>\n",
       "      <td>http://www.chicagoparkdistrict.com/parks/Galew...</td>\n",
       "      <td>name</td>\n",
       "      <td>Movie Inside the Park at Mayfair Park</td>\n",
       "      <td>26</td>\n",
       "      <td>51.0</td>\n",
       "      <td>51.0</td>\n",
       "      <td>51.0</td>\n",
       "      <td>26.0</td>\n",
       "      <td>4</td>\n",
       "      <td>300</td>\n",
       "      <td>...</td>\n",
       "      <td>878</td>\n",
       "      <td>7</td>\n",
       "      <td>28.00000</td>\n",
       "      <td>2.0</td>\n",
       "      <td>15.0</td>\n",
       "      <td>200.0</td>\n",
       "      <td>60.0</td>\n",
       "      <td>357.0</td>\n",
       "      <td>-1.0</td>\n",
       "      <td>-1.0</td>\n",
       "    </tr>\n",
       "    <tr>\n",
       "      <th>10</th>\n",
       "      <td>http://www.chicagoparkdistrict.com/parks/Galew...</td>\n",
       "      <td>location</td>\n",
       "      <td>Mayfair Park\\n\\n \\n\\n                        4...</td>\n",
       "      <td>22</td>\n",
       "      <td>0.0</td>\n",
       "      <td>0.0</td>\n",
       "      <td>0.0</td>\n",
       "      <td>13.0</td>\n",
       "      <td>3</td>\n",
       "      <td>400</td>\n",
       "      <td>...</td>\n",
       "      <td>878</td>\n",
       "      <td>7</td>\n",
       "      <td>20.00000</td>\n",
       "      <td>NaN</td>\n",
       "      <td>15.0</td>\n",
       "      <td>313.0</td>\n",
       "      <td>100.0</td>\n",
       "      <td>370.0</td>\n",
       "      <td>100.0</td>\n",
       "      <td>370.0</td>\n",
       "    </tr>\n",
       "    <tr>\n",
       "      <th>11</th>\n",
       "      <td>http://www.chicagoparkdistrict.com/parks/Scott...</td>\n",
       "      <td>name</td>\n",
       "      <td>Night Out: Movies in the Parks at Sauganash</td>\n",
       "      <td>26</td>\n",
       "      <td>51.0</td>\n",
       "      <td>51.0</td>\n",
       "      <td>51.0</td>\n",
       "      <td>26.0</td>\n",
       "      <td>4</td>\n",
       "      <td>300</td>\n",
       "      <td>...</td>\n",
       "      <td>878</td>\n",
       "      <td>7</td>\n",
       "      <td>28.00000</td>\n",
       "      <td>2.0</td>\n",
       "      <td>15.0</td>\n",
       "      <td>200.0</td>\n",
       "      <td>60.0</td>\n",
       "      <td>363.0</td>\n",
       "      <td>-1.0</td>\n",
       "      <td>-1.0</td>\n",
       "    </tr>\n",
       "    <tr>\n",
       "      <th>14</th>\n",
       "      <td>http://www.chicagoparkdistrict.com/parks/Scott...</td>\n",
       "      <td>description</td>\n",
       "      <td>The Land Before TimeFive orphan dinosaurs trav...</td>\n",
       "      <td>26</td>\n",
       "      <td>0.0</td>\n",
       "      <td>0.0</td>\n",
       "      <td>0.0</td>\n",
       "      <td>13.0</td>\n",
       "      <td>4</td>\n",
       "      <td>400</td>\n",
       "      <td>...</td>\n",
       "      <td>878</td>\n",
       "      <td>7</td>\n",
       "      <td>20.00000</td>\n",
       "      <td>NaN</td>\n",
       "      <td>15.0</td>\n",
       "      <td>493.0</td>\n",
       "      <td>170.0</td>\n",
       "      <td>370.0</td>\n",
       "      <td>-1.0</td>\n",
       "      <td>-1.0</td>\n",
       "    </tr>\n",
       "  </tbody>\n",
       "</table>\n",
       "<p>5 rows × 24 columns</p>\n",
       "</div>"
      ],
      "text/plain": [
       "                                                  url    meta_name  \\\n",
       "3   http://www.ticketbis.com/ar/entradas-schalke-0...         name   \n",
       "8   http://www.chicagoparkdistrict.com/parks/Galew...         name   \n",
       "10  http://www.chicagoparkdistrict.com/parks/Galew...     location   \n",
       "11  http://www.chicagoparkdistrict.com/parks/Scott...         name   \n",
       "14  http://www.chicagoparkdistrict.com/parks/Scott...  description   \n",
       "\n",
       "                                                 text  tag  color_r  color_g  \\\n",
       "3                          FC Ingolstadt - Schalke 04   26     94.0    103.0   \n",
       "8               Movie Inside the Park at Mayfair Park   26     51.0     51.0   \n",
       "10  Mayfair Park\\n\\n \\n\\n                        4...   22      0.0      0.0   \n",
       "11        Night Out: Movies in the Parks at Sauganash   26     51.0     51.0   \n",
       "14  The Land Before TimeFive orphan dinosaurs trav...   26      0.0      0.0   \n",
       "\n",
       "    color_b  font_size  display  font_weight  ...    font_family  text_align  \\\n",
       "3     113.0       11.0        4          400  ...            143           5   \n",
       "8      51.0       26.0        4          300  ...            878           7   \n",
       "10      0.0       13.0        3          400  ...            878           7   \n",
       "11     51.0       26.0        4          300  ...            878           7   \n",
       "14      0.0       13.0        4          400  ...            878           7   \n",
       "\n",
       "    line_height  num_siblings  x_coords  y_coords  block_height  block_width  \\\n",
       "3      20.15625           1.0      26.0    1245.0          14.0        163.0   \n",
       "8      28.00000           2.0      15.0     200.0          60.0        357.0   \n",
       "10     20.00000           NaN      15.0     313.0         100.0        370.0   \n",
       "11     28.00000           2.0      15.0     200.0          60.0        363.0   \n",
       "14     20.00000           NaN      15.0     493.0         170.0        370.0   \n",
       "\n",
       "    height  width  \n",
       "3     -1.0   -1.0  \n",
       "8     -1.0   -1.0  \n",
       "10   100.0  370.0  \n",
       "11    -1.0   -1.0  \n",
       "14    -1.0   -1.0  \n",
       "\n",
       "[5 rows x 24 columns]"
      ]
     },
     "execution_count": 4,
     "metadata": {},
     "output_type": "execute_result"
    }
   ],
   "source": [
    "data_cl.head()"
   ]
  },
  {
   "cell_type": "markdown",
   "metadata": {},
   "source": [
    "All texts are not null"
   ]
  },
  {
   "cell_type": "code",
   "execution_count": 5,
   "metadata": {
    "collapsed": false
   },
   "outputs": [
    {
     "data": {
      "text/plain": [
       "0"
      ]
     },
     "execution_count": 5,
     "metadata": {},
     "output_type": "execute_result"
    }
   ],
   "source": [
    "data_cl.text.isnull().sum()"
   ]
  },
  {
   "cell_type": "code",
   "execution_count": 6,
   "metadata": {
    "collapsed": false
   },
   "outputs": [
    {
     "data": {
      "text/plain": [
       "(167872, 24)"
      ]
     },
     "execution_count": 6,
     "metadata": {},
     "output_type": "execute_result"
    }
   ],
   "source": [
    "data_cl.shape"
   ]
  },
  {
   "cell_type": "code",
   "execution_count": 7,
   "metadata": {
    "collapsed": false
   },
   "outputs": [],
   "source": [
    "data_cl['text_str'] = data_cl.text.apply(str).replace('nan','')"
   ]
  },
  {
   "cell_type": "code",
   "execution_count": 8,
   "metadata": {
    "collapsed": false
   },
   "outputs": [],
   "source": [
    "data_cl['text_str'] = data_cl['text_str'].apply(lambda x: x.replace('\\n', ''))"
   ]
  },
  {
   "cell_type": "code",
   "execution_count": 9,
   "metadata": {
    "collapsed": false
   },
   "outputs": [],
   "source": [
    "data_cl['text_len'] = data_cl.text_str.apply(len)"
   ]
  },
  {
   "cell_type": "code",
   "execution_count": 10,
   "metadata": {
    "collapsed": true
   },
   "outputs": [],
   "source": [
    "count = lambda l1, l2: len(list(filter(lambda c: c in l2, l1)))"
   ]
  },
  {
   "cell_type": "code",
   "execution_count": 11,
   "metadata": {
    "collapsed": false
   },
   "outputs": [],
   "source": [
    "data_cl['num_punctuation'] = data_cl.text_str.apply(lambda x: count(x, string.punctuation))\n",
    "data_cl['num_digits'] = data_cl.text_str.apply(lambda x: count(x, string.digits))\n",
    "data_cl['digits_share'] = data_cl.num_digits/data_cl.text_len\n",
    "data_cl['num_upper'] = data_cl.text_str.apply(lambda x: count(x, string.ascii_uppercase))\n",
    "data_cl['num_whitespace'] = data_cl.text_str.apply(lambda x: count(x, string.whitespace))"
   ]
  },
  {
   "cell_type": "code",
   "execution_count": 12,
   "metadata": {
    "collapsed": false
   },
   "outputs": [
    {
     "data": {
      "text/html": [
       "<div>\n",
       "<table border=\"1\" class=\"dataframe\">\n",
       "  <thead>\n",
       "    <tr style=\"text-align: right;\">\n",
       "      <th></th>\n",
       "      <th>url</th>\n",
       "      <th>meta_name</th>\n",
       "      <th>text</th>\n",
       "      <th>tag</th>\n",
       "      <th>color_r</th>\n",
       "      <th>color_g</th>\n",
       "      <th>color_b</th>\n",
       "      <th>font_size</th>\n",
       "      <th>display</th>\n",
       "      <th>font_weight</th>\n",
       "      <th>...</th>\n",
       "      <th>block_width</th>\n",
       "      <th>height</th>\n",
       "      <th>width</th>\n",
       "      <th>text_str</th>\n",
       "      <th>text_len</th>\n",
       "      <th>num_punctuation</th>\n",
       "      <th>num_digits</th>\n",
       "      <th>digits_share</th>\n",
       "      <th>num_upper</th>\n",
       "      <th>num_whitespace</th>\n",
       "    </tr>\n",
       "  </thead>\n",
       "  <tbody>\n",
       "    <tr>\n",
       "      <th>3</th>\n",
       "      <td>http://www.ticketbis.com/ar/entradas-schalke-0...</td>\n",
       "      <td>name</td>\n",
       "      <td>FC Ingolstadt - Schalke 04</td>\n",
       "      <td>26</td>\n",
       "      <td>94.0</td>\n",
       "      <td>103.0</td>\n",
       "      <td>113.0</td>\n",
       "      <td>11.0</td>\n",
       "      <td>4</td>\n",
       "      <td>400</td>\n",
       "      <td>...</td>\n",
       "      <td>163.0</td>\n",
       "      <td>-1.0</td>\n",
       "      <td>-1.0</td>\n",
       "      <td>FC Ingolstadt - Schalke 04</td>\n",
       "      <td>26</td>\n",
       "      <td>1</td>\n",
       "      <td>2</td>\n",
       "      <td>0.076923</td>\n",
       "      <td>4</td>\n",
       "      <td>4</td>\n",
       "    </tr>\n",
       "    <tr>\n",
       "      <th>8</th>\n",
       "      <td>http://www.chicagoparkdistrict.com/parks/Galew...</td>\n",
       "      <td>name</td>\n",
       "      <td>Movie Inside the Park at Mayfair Park</td>\n",
       "      <td>26</td>\n",
       "      <td>51.0</td>\n",
       "      <td>51.0</td>\n",
       "      <td>51.0</td>\n",
       "      <td>26.0</td>\n",
       "      <td>4</td>\n",
       "      <td>300</td>\n",
       "      <td>...</td>\n",
       "      <td>357.0</td>\n",
       "      <td>-1.0</td>\n",
       "      <td>-1.0</td>\n",
       "      <td>Movie Inside the Park at Mayfair Park</td>\n",
       "      <td>37</td>\n",
       "      <td>0</td>\n",
       "      <td>0</td>\n",
       "      <td>0.000000</td>\n",
       "      <td>5</td>\n",
       "      <td>6</td>\n",
       "    </tr>\n",
       "    <tr>\n",
       "      <th>10</th>\n",
       "      <td>http://www.chicagoparkdistrict.com/parks/Galew...</td>\n",
       "      <td>location</td>\n",
       "      <td>Mayfair Park\\n\\n \\n\\n                        4...</td>\n",
       "      <td>22</td>\n",
       "      <td>0.0</td>\n",
       "      <td>0.0</td>\n",
       "      <td>0.0</td>\n",
       "      <td>13.0</td>\n",
       "      <td>3</td>\n",
       "      <td>400</td>\n",
       "      <td>...</td>\n",
       "      <td>370.0</td>\n",
       "      <td>100.0</td>\n",
       "      <td>370.0</td>\n",
       "      <td>Mayfair Park                         4550 W. S...</td>\n",
       "      <td>150</td>\n",
       "      <td>6</td>\n",
       "      <td>19</td>\n",
       "      <td>0.126667</td>\n",
       "      <td>7</td>\n",
       "      <td>86</td>\n",
       "    </tr>\n",
       "    <tr>\n",
       "      <th>11</th>\n",
       "      <td>http://www.chicagoparkdistrict.com/parks/Scott...</td>\n",
       "      <td>name</td>\n",
       "      <td>Night Out: Movies in the Parks at Sauganash</td>\n",
       "      <td>26</td>\n",
       "      <td>51.0</td>\n",
       "      <td>51.0</td>\n",
       "      <td>51.0</td>\n",
       "      <td>26.0</td>\n",
       "      <td>4</td>\n",
       "      <td>300</td>\n",
       "      <td>...</td>\n",
       "      <td>363.0</td>\n",
       "      <td>-1.0</td>\n",
       "      <td>-1.0</td>\n",
       "      <td>Night Out: Movies in the Parks at Sauganash</td>\n",
       "      <td>43</td>\n",
       "      <td>1</td>\n",
       "      <td>0</td>\n",
       "      <td>0.000000</td>\n",
       "      <td>5</td>\n",
       "      <td>7</td>\n",
       "    </tr>\n",
       "    <tr>\n",
       "      <th>14</th>\n",
       "      <td>http://www.chicagoparkdistrict.com/parks/Scott...</td>\n",
       "      <td>description</td>\n",
       "      <td>The Land Before TimeFive orphan dinosaurs trav...</td>\n",
       "      <td>26</td>\n",
       "      <td>0.0</td>\n",
       "      <td>0.0</td>\n",
       "      <td>0.0</td>\n",
       "      <td>13.0</td>\n",
       "      <td>4</td>\n",
       "      <td>400</td>\n",
       "      <td>...</td>\n",
       "      <td>370.0</td>\n",
       "      <td>-1.0</td>\n",
       "      <td>-1.0</td>\n",
       "      <td>The Land Before TimeFive orphan dinosaurs trav...</td>\n",
       "      <td>253</td>\n",
       "      <td>6</td>\n",
       "      <td>6</td>\n",
       "      <td>0.023715</td>\n",
       "      <td>13</td>\n",
       "      <td>41</td>\n",
       "    </tr>\n",
       "  </tbody>\n",
       "</table>\n",
       "<p>5 rows × 31 columns</p>\n",
       "</div>"
      ],
      "text/plain": [
       "                                                  url    meta_name  \\\n",
       "3   http://www.ticketbis.com/ar/entradas-schalke-0...         name   \n",
       "8   http://www.chicagoparkdistrict.com/parks/Galew...         name   \n",
       "10  http://www.chicagoparkdistrict.com/parks/Galew...     location   \n",
       "11  http://www.chicagoparkdistrict.com/parks/Scott...         name   \n",
       "14  http://www.chicagoparkdistrict.com/parks/Scott...  description   \n",
       "\n",
       "                                                 text  tag  color_r  color_g  \\\n",
       "3                          FC Ingolstadt - Schalke 04   26     94.0    103.0   \n",
       "8               Movie Inside the Park at Mayfair Park   26     51.0     51.0   \n",
       "10  Mayfair Park\\n\\n \\n\\n                        4...   22      0.0      0.0   \n",
       "11        Night Out: Movies in the Parks at Sauganash   26     51.0     51.0   \n",
       "14  The Land Before TimeFive orphan dinosaurs trav...   26      0.0      0.0   \n",
       "\n",
       "    color_b  font_size  display  font_weight       ...        block_width  \\\n",
       "3     113.0       11.0        4          400       ...              163.0   \n",
       "8      51.0       26.0        4          300       ...              357.0   \n",
       "10      0.0       13.0        3          400       ...              370.0   \n",
       "11     51.0       26.0        4          300       ...              363.0   \n",
       "14      0.0       13.0        4          400       ...              370.0   \n",
       "\n",
       "    height  width                                           text_str  \\\n",
       "3     -1.0   -1.0                         FC Ingolstadt - Schalke 04   \n",
       "8     -1.0   -1.0              Movie Inside the Park at Mayfair Park   \n",
       "10   100.0  370.0  Mayfair Park                         4550 W. S...   \n",
       "11    -1.0   -1.0        Night Out: Movies in the Parks at Sauganash   \n",
       "14    -1.0   -1.0  The Land Before TimeFive orphan dinosaurs trav...   \n",
       "\n",
       "    text_len  num_punctuation  num_digits  digits_share  num_upper  \\\n",
       "3         26                1           2      0.076923          4   \n",
       "8         37                0           0      0.000000          5   \n",
       "10       150                6          19      0.126667          7   \n",
       "11        43                1           0      0.000000          5   \n",
       "14       253                6           6      0.023715         13   \n",
       "\n",
       "    num_whitespace  \n",
       "3                4  \n",
       "8                6  \n",
       "10              86  \n",
       "11               7  \n",
       "14              41  \n",
       "\n",
       "[5 rows x 31 columns]"
      ]
     },
     "execution_count": 12,
     "metadata": {},
     "output_type": "execute_result"
    }
   ],
   "source": [
    "data_cl.head()"
   ]
  },
  {
   "cell_type": "code",
   "execution_count": 13,
   "metadata": {
    "collapsed": false
   },
   "outputs": [],
   "source": [
    "data_cl['text'] = data_cl['text_str']"
   ]
  },
  {
   "cell_type": "code",
   "execution_count": 14,
   "metadata": {
    "collapsed": true
   },
   "outputs": [],
   "source": [
    "del data_cl['text_str']"
   ]
  },
  {
   "cell_type": "markdown",
   "metadata": {},
   "source": [
    "### Outliers"
   ]
  },
  {
   "cell_type": "code",
   "execution_count": 15,
   "metadata": {
    "collapsed": true
   },
   "outputs": [],
   "source": [
    "import numpy as np"
   ]
  },
  {
   "cell_type": "code",
   "execution_count": 16,
   "metadata": {
    "collapsed": true
   },
   "outputs": [],
   "source": [
    "def outliers_to_nan(series):\n",
    "    series_sorted = series.sort_values()\n",
    "    series_sorted = series_sorted.dropna()\n",
    "    Q1 = series_sorted.quantile(0.10)\n",
    "    Q3 = series_sorted.quantile(0.90)\n",
    "    IQR = Q3 - Q1\n",
    "    series[series >= Q3 + 1.5 * IQR] = np.nan\n",
    "    series[series <= Q1 - 1.5 * IQR] = np.nan\n",
    "    return series"
   ]
  },
  {
   "cell_type": "code",
   "execution_count": 17,
   "metadata": {
    "collapsed": false
   },
   "outputs": [
    {
     "name": "stderr",
     "output_type": "stream",
     "text": [
      "/Users/jetbrains/miniconda3/lib/python3.5/site-packages/ipykernel/__main__.py:7: SettingWithCopyWarning: \n",
      "A value is trying to be set on a copy of a slice from a DataFrame.\n",
      "Try using .loc[row_indexer,col_indexer] = value instead\n",
      "\n",
      "See the caveats in the documentation: http://pandas.pydata.org/pandas-docs/stable/indexing.html#indexing-view-versus-copy\n",
      "/Users/jetbrains/miniconda3/lib/python3.5/site-packages/pandas/core/frame.py:2392: SettingWithCopyWarning: \n",
      "A value is trying to be set on a copy of a slice from a DataFrame\n",
      "\n",
      "See the caveats in the documentation: http://pandas.pydata.org/pandas-docs/stable/indexing.html#indexing-view-versus-copy\n",
      "  self.where(-key, value, inplace=True)\n",
      "/Users/jetbrains/miniconda3/lib/python3.5/site-packages/ipykernel/__main__.py:7: SettingWithCopyWarning: \n",
      "A value is trying to be set on a copy of a slice from a DataFrame\n",
      "\n",
      "See the caveats in the documentation: http://pandas.pydata.org/pandas-docs/stable/indexing.html#indexing-view-versus-copy\n",
      "/Users/jetbrains/miniconda3/lib/python3.5/site-packages/ipykernel/__main__.py:8: SettingWithCopyWarning: \n",
      "A value is trying to be set on a copy of a slice from a DataFrame\n",
      "\n",
      "See the caveats in the documentation: http://pandas.pydata.org/pandas-docs/stable/indexing.html#indexing-view-versus-copy\n"
     ]
    }
   ],
   "source": [
    "# prepare data for outliers\n",
    "cols = ['num_punctuation','num_digits','digits_share','num_upper','num_whitespace', 'text_len']\n",
    "\n",
    "data_out1 = data_cl[cols]\n",
    "\n",
    "# fill negative values\n",
    "data_out1[data_out1 < 0] = np.nan\n",
    "\n",
    "# remove outliers for the first set\n",
    "data_out1_cl = data_out1.apply(outliers_to_nan)"
   ]
  },
  {
   "cell_type": "code",
   "execution_count": 18,
   "metadata": {
    "collapsed": false
   },
   "outputs": [],
   "source": [
    "data_cl[cols] = data_out1_cl"
   ]
  },
  {
   "cell_type": "code",
   "execution_count": 19,
   "metadata": {
    "collapsed": true
   },
   "outputs": [],
   "source": [
    "DATA_NUM_CL_WITH_NAN_TXT = data_cl"
   ]
  },
  {
   "cell_type": "code",
   "execution_count": 20,
   "metadata": {
    "collapsed": false
   },
   "outputs": [
    {
     "name": "stdout",
     "output_type": "stream",
     "text": [
      "Stored 'DATA_NUM_CL_WITH_NAN_TXT' (DataFrame)\n"
     ]
    }
   ],
   "source": [
    "%store DATA_NUM_CL_WITH_NAN_TXT"
   ]
  },
  {
   "cell_type": "code",
   "execution_count": 72,
   "metadata": {
    "collapsed": false
   },
   "outputs": [],
   "source": [
    "import h5py\n",
    "DATA_NUM_CL_WITH_NAN_TXT.to_hdf('store.h5', 'DATA_NUM_CL_WITH_NAN_TXT')"
   ]
  }
 ],
 "metadata": {
  "anaconda-cloud": {},
  "kernelspec": {
   "display_name": "Python [default]",
   "language": "python",
   "name": "python3"
  },
  "language_info": {
   "codemirror_mode": {
    "name": "ipython",
    "version": 3
   },
   "file_extension": ".py",
   "mimetype": "text/x-python",
   "name": "python",
   "nbconvert_exporter": "python",
   "pygments_lexer": "ipython3",
   "version": "3.5.2"
  }
 },
 "nbformat": 4,
 "nbformat_minor": 0
}
