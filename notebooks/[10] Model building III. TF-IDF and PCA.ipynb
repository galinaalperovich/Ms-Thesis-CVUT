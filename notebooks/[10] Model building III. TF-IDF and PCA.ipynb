{
 "cells": [
  {
   "cell_type": "code",
   "execution_count": 44,
   "metadata": {
    "collapsed": true
   },
   "outputs": [],
   "source": [
    "%matplotlib inline\n",
    "import warnings\n",
    "warnings.filterwarnings('ignore')"
   ]
  },
  {
   "cell_type": "code",
   "execution_count": 45,
   "metadata": {
    "collapsed": false
   },
   "outputs": [],
   "source": [
    "from utils_all import *\n",
    "\n",
    "from sklearn.cross_validation import train_test_split\n",
    "from sklearn.ensemble import RandomForestClassifier\n",
    "from sklearn import preprocessing\n",
    "\n",
    "from sklearn.ensemble import ExtraTreesClassifier\n",
    "from sklearn.svm import SVC\n",
    "from sklearn.linear_model import LogisticRegression\n",
    "from sklearn.model_selection import GridSearchCV\n",
    "\n",
    "from sklearn import metrics\n",
    "\n",
    "import pandas as pd\n",
    "import numpy as np\n",
    "import os\n",
    "\n",
    "import matplotlib.pyplot as plt\n",
    "from sklearn.model_selection import cross_val_score"
   ]
  },
  {
   "cell_type": "markdown",
   "metadata": {},
   "source": [
    "# Model building III: TF-IDF and PCA"
   ]
  },
  {
   "cell_type": "markdown",
   "metadata": {},
   "source": [
    "In this notebook we will perform: \n",
    "* Extract tf-idf matrix from the text field\n",
    "* Apply PCA on it and take 5 components\n",
    "* Build the same model and see the difference"
   ]
  },
  {
   "cell_type": "code",
   "execution_count": 3,
   "metadata": {
    "collapsed": true
   },
   "outputs": [],
   "source": [
    "%store -r DATA_NUM_CL_WITH_NAN_TXT_XY"
   ]
  },
  {
   "cell_type": "code",
   "execution_count": 4,
   "metadata": {
    "collapsed": false
   },
   "outputs": [],
   "source": [
    "data = DATA_NUM_CL_WITH_NAN_TXT_XY"
   ]
  },
  {
   "cell_type": "markdown",
   "metadata": {},
   "source": [
    "Construct numeric dataset"
   ]
  },
  {
   "cell_type": "code",
   "execution_count": 5,
   "metadata": {
    "collapsed": false
   },
   "outputs": [],
   "source": [
    "data['domain'] = data.url.apply(get_domain)\n",
    "\n",
    "data_num = data.select_dtypes(['int64', 'float64'])\n",
    "data_num = data_num.fillna(data_num.mean())\n",
    "data_num['meta_name'] = data.meta_name\n",
    "data_num['domain'] = data.domain\n",
    "data_num['text'] = data.text"
   ]
  },
  {
   "cell_type": "markdown",
   "metadata": {},
   "source": [
    "# Random Forest classifier"
   ]
  },
  {
   "cell_type": "markdown",
   "metadata": {},
   "source": [
    "### Name event component"
   ]
  },
  {
   "cell_type": "code",
   "execution_count": 25,
   "metadata": {
    "collapsed": false
   },
   "outputs": [
    {
     "name": "stdout",
     "output_type": "stream",
     "text": [
      "Current model: Random Forest, Prameter optimization: False\n",
      "1/5 iteration ...\n",
      "tf-idf and PCA: True\n",
      "Mean accuracy 0.8720\n",
      "2/5 iteration ...\n",
      "tf-idf and PCA: True\n",
      "Mean accuracy 0.8792\n",
      "3/5 iteration ...\n",
      "tf-idf and PCA: True\n",
      "Mean accuracy 0.8431\n",
      "4/5 iteration ...\n",
      "tf-idf and PCA: True\n",
      "Mean accuracy 0.8563\n",
      "5/5 iteration ...\n",
      "tf-idf and PCA: True\n",
      "Mean accuracy 0.8470\n",
      "The final CV=5 score for name and Random Forest: 0.8595\n",
      "METRICS:\n",
      "   f1_score  mean_accuracy  precision    recall\n",
      "0  0.856522       0.859513   0.861599  0.860582\n",
      "Feature importance:\n"
     ]
    }
   ],
   "source": [
    "result_name = analyse(\"name\", data_num, \"Random Forest\", tf_idf=True)"
   ]
  },
  {
   "cell_type": "code",
   "execution_count": null,
   "metadata": {
    "collapsed": false
   },
   "outputs": [],
   "source": []
  },
  {
   "cell_type": "code",
   "execution_count": null,
   "metadata": {
    "collapsed": true
   },
   "outputs": [],
   "source": []
  },
  {
   "cell_type": "markdown",
   "metadata": {},
   "source": [
    "### Location event component\n"
   ]
  },
  {
   "cell_type": "code",
   "execution_count": 26,
   "metadata": {
    "collapsed": false
   },
   "outputs": [
    {
     "name": "stdout",
     "output_type": "stream",
     "text": [
      "Current model: Random Forest, Prameter optimization: False\n",
      "1/5 iteration ...\n",
      "tf-idf and PCA: True\n",
      "Mean accuracy 0.7805\n",
      "2/5 iteration ...\n",
      "tf-idf and PCA: True\n",
      "Mean accuracy 0.8348\n",
      "3/5 iteration ...\n",
      "tf-idf and PCA: True\n",
      "Mean accuracy 0.7414\n",
      "4/5 iteration ...\n",
      "tf-idf and PCA: True\n",
      "Mean accuracy 0.8256\n",
      "5/5 iteration ...\n",
      "tf-idf and PCA: True\n",
      "Mean accuracy 0.7974\n",
      "The final CV=5 score for location and Random Forest: 0.7960\n",
      "METRICS:\n",
      "   f1_score  mean_accuracy  precision    recall\n",
      "0  0.813813       0.795961   0.766402  0.872227\n",
      "Feature importance:\n"
     ]
    }
   ],
   "source": [
    "result_location = analyse(\"location\", data_num, \"Random Forest\", tf_idf=True)"
   ]
  },
  {
   "cell_type": "code",
   "execution_count": null,
   "metadata": {
    "collapsed": true
   },
   "outputs": [],
   "source": []
  },
  {
   "cell_type": "code",
   "execution_count": null,
   "metadata": {
    "collapsed": true
   },
   "outputs": [],
   "source": []
  },
  {
   "cell_type": "markdown",
   "metadata": {},
   "source": [
    "### Start Date event component\n"
   ]
  },
  {
   "cell_type": "code",
   "execution_count": 27,
   "metadata": {
    "collapsed": false
   },
   "outputs": [
    {
     "name": "stdout",
     "output_type": "stream",
     "text": [
      "Current model: Random Forest, Prameter optimization: False\n",
      "1/5 iteration ...\n",
      "tf-idf and PCA: True\n",
      "Mean accuracy 0.8712\n",
      "2/5 iteration ...\n",
      "tf-idf and PCA: True\n",
      "Mean accuracy 0.9214\n",
      "3/5 iteration ...\n",
      "tf-idf and PCA: True\n",
      "Mean accuracy 0.8629\n",
      "4/5 iteration ...\n",
      "tf-idf and PCA: True\n",
      "Mean accuracy 0.9372\n",
      "5/5 iteration ...\n",
      "tf-idf and PCA: True\n",
      "Mean accuracy 0.9135\n",
      "The final CV=5 score for startDate and Random Forest: 0.9013\n",
      "METRICS:\n",
      "   f1_score  mean_accuracy  precision    recall\n",
      "0  0.907239       0.901255   0.897584  0.922642\n",
      "Feature importance:\n"
     ]
    }
   ],
   "source": [
    "result_date = analyse(\"startDate\", data_num, \"Random Forest\", tf_idf=True)"
   ]
  },
  {
   "cell_type": "code",
   "execution_count": null,
   "metadata": {
    "collapsed": true
   },
   "outputs": [],
   "source": []
  },
  {
   "cell_type": "code",
   "execution_count": null,
   "metadata": {
    "collapsed": true
   },
   "outputs": [],
   "source": []
  },
  {
   "cell_type": "markdown",
   "metadata": {
    "collapsed": true
   },
   "source": [
    "### Description event component\n"
   ]
  },
  {
   "cell_type": "code",
   "execution_count": 28,
   "metadata": {
    "collapsed": false
   },
   "outputs": [
    {
     "name": "stdout",
     "output_type": "stream",
     "text": [
      "Current model: Random Forest, Prameter optimization: False\n",
      "1/5 iteration ...\n",
      "tf-idf and PCA: True\n",
      "Mean accuracy 0.7180\n",
      "2/5 iteration ...\n",
      "tf-idf and PCA: True\n",
      "Mean accuracy 0.8431\n",
      "3/5 iteration ...\n",
      "tf-idf and PCA: True\n",
      "Mean accuracy 0.8590\n",
      "4/5 iteration ...\n",
      "tf-idf and PCA: True\n",
      "Mean accuracy 0.8842\n",
      "5/5 iteration ...\n",
      "tf-idf and PCA: True\n",
      "Mean accuracy 0.8541\n",
      "The final CV=5 score for description and Random Forest: 0.8317\n",
      "METRICS:\n",
      "   f1_score  mean_accuracy  precision    recall\n",
      "0  0.840922       0.831679   0.816643  0.879164\n",
      "Feature importance:\n"
     ]
    }
   ],
   "source": [
    "result_description = analyse(\"description\", data_num, \"Random Forest\", tf_idf=True)"
   ]
  },
  {
   "cell_type": "markdown",
   "metadata": {},
   "source": [
    "# Result for Random forest"
   ]
  },
  {
   "cell_type": "code",
   "execution_count": 31,
   "metadata": {
    "collapsed": false
   },
   "outputs": [],
   "source": [
    "result_all_rf = pd.concat([result_name, result_date, result_location, result_description])\n",
    "result_all_rf['meta_name'] = ['name', 'date', 'location', 'description']\n",
    "result_all_rf.ix[:,'model'] = 'Random forest'"
   ]
  },
  {
   "cell_type": "code",
   "execution_count": 32,
   "metadata": {
    "collapsed": false
   },
   "outputs": [
    {
     "data": {
      "text/html": [
       "<div>\n",
       "<table border=\"1\" class=\"dataframe\">\n",
       "  <thead>\n",
       "    <tr style=\"text-align: right;\">\n",
       "      <th></th>\n",
       "      <th>f1_score</th>\n",
       "      <th>mean_accuracy</th>\n",
       "      <th>precision</th>\n",
       "      <th>recall</th>\n",
       "      <th>meta_name</th>\n",
       "      <th>model</th>\n",
       "    </tr>\n",
       "  </thead>\n",
       "  <tbody>\n",
       "    <tr>\n",
       "      <th>0</th>\n",
       "      <td>0.8565</td>\n",
       "      <td>0.8595</td>\n",
       "      <td>0.8616</td>\n",
       "      <td>0.8606</td>\n",
       "      <td>name</td>\n",
       "      <td>Random forest</td>\n",
       "    </tr>\n",
       "    <tr>\n",
       "      <th>0</th>\n",
       "      <td>0.9072</td>\n",
       "      <td>0.9013</td>\n",
       "      <td>0.8976</td>\n",
       "      <td>0.9226</td>\n",
       "      <td>date</td>\n",
       "      <td>Random forest</td>\n",
       "    </tr>\n",
       "    <tr>\n",
       "      <th>0</th>\n",
       "      <td>0.8138</td>\n",
       "      <td>0.7960</td>\n",
       "      <td>0.7664</td>\n",
       "      <td>0.8722</td>\n",
       "      <td>location</td>\n",
       "      <td>Random forest</td>\n",
       "    </tr>\n",
       "    <tr>\n",
       "      <th>0</th>\n",
       "      <td>0.8409</td>\n",
       "      <td>0.8317</td>\n",
       "      <td>0.8166</td>\n",
       "      <td>0.8792</td>\n",
       "      <td>description</td>\n",
       "      <td>Random forest</td>\n",
       "    </tr>\n",
       "  </tbody>\n",
       "</table>\n",
       "</div>"
      ],
      "text/plain": [
       "   f1_score  mean_accuracy  precision  recall    meta_name          model\n",
       "0    0.8565         0.8595     0.8616  0.8606         name  Random forest\n",
       "0    0.9072         0.9013     0.8976  0.9226         date  Random forest\n",
       "0    0.8138         0.7960     0.7664  0.8722     location  Random forest\n",
       "0    0.8409         0.8317     0.8166  0.8792  description  Random forest"
      ]
     },
     "execution_count": 32,
     "metadata": {},
     "output_type": "execute_result"
    }
   ],
   "source": [
    "result_all_rf.round(4)"
   ]
  },
  {
   "cell_type": "markdown",
   "metadata": {},
   "source": [
    "# Logisitc regression"
   ]
  },
  {
   "cell_type": "code",
   "execution_count": 33,
   "metadata": {
    "collapsed": false
   },
   "outputs": [
    {
     "name": "stdout",
     "output_type": "stream",
     "text": [
      "Current model: Logistic regression, Prameter optimization: False\n",
      "1/5 iteration ...\n",
      "tf-idf and PCA: True\n",
      "Mean accuracy 0.7587\n",
      "2/5 iteration ...\n",
      "tf-idf and PCA: True\n",
      "Mean accuracy 0.7671\n",
      "3/5 iteration ...\n",
      "tf-idf and PCA: True\n",
      "Mean accuracy 0.7183\n",
      "4/5 iteration ...\n",
      "tf-idf and PCA: True\n",
      "Mean accuracy 0.7440\n",
      "5/5 iteration ...\n",
      "tf-idf and PCA: True\n",
      "Mean accuracy 0.7569\n",
      "The final CV=5 score for name and Logistic regression: 0.7490\n",
      "METRICS:\n",
      "   f1_score  mean_accuracy  precision   recall\n",
      "0  0.750989       0.749004   0.735665  0.78118\n",
      "Feature importance:\n",
      "Current model: Logistic regression, Prameter optimization: False\n",
      "1/5 iteration ...\n",
      "tf-idf and PCA: True\n",
      "Mean accuracy 0.7319\n",
      "2/5 iteration ...\n",
      "tf-idf and PCA: True\n",
      "Mean accuracy 0.8687\n",
      "3/5 iteration ...\n",
      "tf-idf and PCA: True\n",
      "Mean accuracy 0.8809\n",
      "4/5 iteration ...\n",
      "tf-idf and PCA: True\n",
      "Mean accuracy 0.7163\n",
      "5/5 iteration ...\n",
      "tf-idf and PCA: True\n",
      "Mean accuracy 0.8742\n",
      "The final CV=5 score for startDate and Logistic regression: 0.8144\n",
      "METRICS:\n",
      "   f1_score  mean_accuracy  precision    recall\n",
      "0  0.798943        0.81441   0.855912  0.789427\n",
      "Feature importance:\n",
      "Current model: Logistic regression, Prameter optimization: False\n",
      "1/5 iteration ...\n",
      "tf-idf and PCA: True\n",
      "Mean accuracy 0.7685\n",
      "2/5 iteration ...\n",
      "tf-idf and PCA: True\n",
      "Mean accuracy 0.7434\n",
      "3/5 iteration ...\n",
      "tf-idf and PCA: True\n",
      "Mean accuracy 0.8154\n",
      "4/5 iteration ...\n",
      "tf-idf and PCA: True\n",
      "Mean accuracy 0.7767\n",
      "5/5 iteration ...\n",
      "tf-idf and PCA: True\n",
      "Mean accuracy 0.7078\n",
      "The final CV=5 score for location and Logistic regression: 0.7623\n",
      "METRICS:\n",
      "   f1_score  mean_accuracy  precision    recall\n",
      "0  0.760318        0.76234   0.766671  0.774519\n",
      "Feature importance:\n",
      "Current model: Logistic regression, Prameter optimization: False\n",
      "1/5 iteration ...\n",
      "tf-idf and PCA: True\n",
      "Mean accuracy 0.7548\n",
      "2/5 iteration ...\n",
      "tf-idf and PCA: True\n",
      "Mean accuracy 0.8356\n",
      "3/5 iteration ...\n",
      "tf-idf and PCA: True\n",
      "Mean accuracy 0.8374\n",
      "4/5 iteration ...\n",
      "tf-idf and PCA: True\n",
      "Mean accuracy 0.6588\n",
      "5/5 iteration ...\n",
      "tf-idf and PCA: True\n",
      "Mean accuracy 0.7512\n",
      "The final CV=5 score for description and Logistic regression: 0.7676\n",
      "METRICS:\n",
      "   f1_score  mean_accuracy  precision   recall\n",
      "0  0.768137       0.767563   0.735889  0.82853\n",
      "Feature importance:\n"
     ]
    }
   ],
   "source": [
    "result_name = analyse(\"name\", data_num, \"Logistic regression\", tf_idf=True)\n",
    "result_date = analyse(\"startDate\", data_num, \"Logistic regression\", tf_idf=True)\n",
    "result_location = analyse(\"location\", data_num, \"Logistic regression\", tf_idf=True)\n",
    "result_descr = analyse(\"description\", data_num, \"Logistic regression\", tf_idf=True)"
   ]
  },
  {
   "cell_type": "markdown",
   "metadata": {},
   "source": [
    "# Result for Logisitc regression"
   ]
  },
  {
   "cell_type": "code",
   "execution_count": 34,
   "metadata": {
    "collapsed": false
   },
   "outputs": [
    {
     "data": {
      "text/html": [
       "<div>\n",
       "<table border=\"1\" class=\"dataframe\">\n",
       "  <thead>\n",
       "    <tr style=\"text-align: right;\">\n",
       "      <th></th>\n",
       "      <th>f1_score</th>\n",
       "      <th>mean_accuracy</th>\n",
       "      <th>precision</th>\n",
       "      <th>recall</th>\n",
       "      <th>meta_name</th>\n",
       "      <th>model</th>\n",
       "    </tr>\n",
       "  </thead>\n",
       "  <tbody>\n",
       "    <tr>\n",
       "      <th>0</th>\n",
       "      <td>0.7510</td>\n",
       "      <td>0.7490</td>\n",
       "      <td>0.7357</td>\n",
       "      <td>0.7812</td>\n",
       "      <td>name</td>\n",
       "      <td>Logistic regression</td>\n",
       "    </tr>\n",
       "    <tr>\n",
       "      <th>0</th>\n",
       "      <td>0.7989</td>\n",
       "      <td>0.8144</td>\n",
       "      <td>0.8559</td>\n",
       "      <td>0.7894</td>\n",
       "      <td>date</td>\n",
       "      <td>Logistic regression</td>\n",
       "    </tr>\n",
       "    <tr>\n",
       "      <th>0</th>\n",
       "      <td>0.7603</td>\n",
       "      <td>0.7623</td>\n",
       "      <td>0.7667</td>\n",
       "      <td>0.7745</td>\n",
       "      <td>location</td>\n",
       "      <td>Logistic regression</td>\n",
       "    </tr>\n",
       "    <tr>\n",
       "      <th>0</th>\n",
       "      <td>0.7681</td>\n",
       "      <td>0.7676</td>\n",
       "      <td>0.7359</td>\n",
       "      <td>0.8285</td>\n",
       "      <td>description</td>\n",
       "      <td>Logistic regression</td>\n",
       "    </tr>\n",
       "  </tbody>\n",
       "</table>\n",
       "</div>"
      ],
      "text/plain": [
       "   f1_score  mean_accuracy  precision  recall    meta_name  \\\n",
       "0    0.7510         0.7490     0.7357  0.7812         name   \n",
       "0    0.7989         0.8144     0.8559  0.7894         date   \n",
       "0    0.7603         0.7623     0.7667  0.7745     location   \n",
       "0    0.7681         0.7676     0.7359  0.8285  description   \n",
       "\n",
       "                 model  \n",
       "0  Logistic regression  \n",
       "0  Logistic regression  \n",
       "0  Logistic regression  \n",
       "0  Logistic regression  "
      ]
     },
     "execution_count": 34,
     "metadata": {},
     "output_type": "execute_result"
    }
   ],
   "source": [
    "result_all_lr = pd.concat([result_name, result_date, result_location, result_descr])\n",
    "result_all_lr['meta_name'] = ['name', 'date', 'location', 'description']\n",
    "result_all_lr.ix[:,'model'] = 'Logistic regression'\n",
    "result_all_lr.round(4)"
   ]
  },
  {
   "cell_type": "code",
   "execution_count": null,
   "metadata": {
    "collapsed": true
   },
   "outputs": [],
   "source": []
  },
  {
   "cell_type": "markdown",
   "metadata": {},
   "source": [
    "# SVM"
   ]
  },
  {
   "cell_type": "code",
   "execution_count": 35,
   "metadata": {
    "collapsed": false
   },
   "outputs": [
    {
     "name": "stdout",
     "output_type": "stream",
     "text": [
      "Current model: SVM, Prameter optimization: False\n",
      "1/5 iteration ...\n",
      "tf-idf and PCA: True\n",
      "Mean accuracy 0.8342\n",
      "2/5 iteration ...\n",
      "tf-idf and PCA: True\n",
      "Mean accuracy 0.8267\n",
      "3/5 iteration ...\n",
      "tf-idf and PCA: True\n",
      "Mean accuracy 0.8458\n",
      "4/5 iteration ...\n",
      "tf-idf and PCA: True\n",
      "Mean accuracy 0.8444\n",
      "5/5 iteration ...\n",
      "tf-idf and PCA: True\n",
      "Mean accuracy 0.7940\n",
      "The final CV=5 score for name and SVM: 0.8290\n",
      "METRICS:\n",
      "   f1_score  mean_accuracy  precision    recall\n",
      "0  0.823153        0.82901   0.821516  0.835133\n",
      "Feature importance:\n",
      "Current model: SVM, Prameter optimization: False\n",
      "1/5 iteration ...\n",
      "tf-idf and PCA: True\n",
      "Mean accuracy 0.8237\n",
      "2/5 iteration ...\n",
      "tf-idf and PCA: True\n",
      "Mean accuracy 0.8840\n",
      "3/5 iteration ...\n",
      "tf-idf and PCA: True\n",
      "Mean accuracy 0.9011\n",
      "4/5 iteration ...\n",
      "tf-idf and PCA: True\n",
      "Mean accuracy 0.8461\n",
      "5/5 iteration ...\n",
      "tf-idf and PCA: True\n",
      "Mean accuracy 0.8931\n",
      "The final CV=5 score for startDate and SVM: 0.8696\n",
      "METRICS:\n",
      "   f1_score  mean_accuracy  precision    recall\n",
      "0  0.869368       0.869606   0.890364  0.860814\n",
      "Feature importance:\n",
      "Current model: SVM, Prameter optimization: False\n",
      "1/5 iteration ...\n",
      "tf-idf and PCA: True\n",
      "Mean accuracy 0.8265\n",
      "2/5 iteration ...\n",
      "tf-idf and PCA: True\n",
      "Mean accuracy 0.7992\n",
      "3/5 iteration ...\n",
      "tf-idf and PCA: True\n",
      "Mean accuracy 0.7939\n",
      "4/5 iteration ...\n",
      "tf-idf and PCA: True\n",
      "Mean accuracy 0.7964\n",
      "5/5 iteration ...\n",
      "tf-idf and PCA: True\n",
      "Mean accuracy 0.8187\n",
      "The final CV=5 score for location and SVM: 0.8070\n",
      "METRICS:\n",
      "   f1_score  mean_accuracy  precision    recall\n",
      "0  0.809872        0.80695   0.808816  0.813847\n",
      "Feature importance:\n",
      "Current model: SVM, Prameter optimization: False\n",
      "1/5 iteration ...\n",
      "tf-idf and PCA: True\n",
      "Mean accuracy 0.8564\n",
      "2/5 iteration ...\n",
      "tf-idf and PCA: True\n",
      "Mean accuracy 0.8324\n",
      "3/5 iteration ...\n",
      "tf-idf and PCA: True\n",
      "Mean accuracy 0.7163\n",
      "4/5 iteration ...\n",
      "tf-idf and PCA: True\n",
      "Mean accuracy 0.8572\n",
      "5/5 iteration ...\n",
      "tf-idf and PCA: True\n",
      "Mean accuracy 0.8259\n",
      "The final CV=5 score for description and SVM: 0.8177\n",
      "METRICS:\n",
      "   f1_score  mean_accuracy  precision    recall\n",
      "0  0.820211       0.817653   0.784578  0.869202\n",
      "Feature importance:\n"
     ]
    }
   ],
   "source": [
    "result_name = analyse(\"name\", data_num, \"SVM\", tf_idf=True)\n",
    "result_date = analyse(\"startDate\", data_num, \"SVM\", tf_idf=True)\n",
    "result_location = analyse(\"location\", data_num, \"SVM\", tf_idf=True)\n",
    "result_descr = analyse(\"description\", data_num, \"SVM\", tf_idf=True)"
   ]
  },
  {
   "cell_type": "markdown",
   "metadata": {},
   "source": [
    "# Result for SVM"
   ]
  },
  {
   "cell_type": "code",
   "execution_count": 36,
   "metadata": {
    "collapsed": false
   },
   "outputs": [
    {
     "data": {
      "text/html": [
       "<div>\n",
       "<table border=\"1\" class=\"dataframe\">\n",
       "  <thead>\n",
       "    <tr style=\"text-align: right;\">\n",
       "      <th></th>\n",
       "      <th>f1_score</th>\n",
       "      <th>mean_accuracy</th>\n",
       "      <th>precision</th>\n",
       "      <th>recall</th>\n",
       "      <th>meta_name</th>\n",
       "      <th>model</th>\n",
       "    </tr>\n",
       "  </thead>\n",
       "  <tbody>\n",
       "    <tr>\n",
       "      <th>0</th>\n",
       "      <td>0.8232</td>\n",
       "      <td>0.8290</td>\n",
       "      <td>0.8215</td>\n",
       "      <td>0.8351</td>\n",
       "      <td>name</td>\n",
       "      <td>SVM</td>\n",
       "    </tr>\n",
       "    <tr>\n",
       "      <th>0</th>\n",
       "      <td>0.8694</td>\n",
       "      <td>0.8696</td>\n",
       "      <td>0.8904</td>\n",
       "      <td>0.8608</td>\n",
       "      <td>date</td>\n",
       "      <td>SVM</td>\n",
       "    </tr>\n",
       "    <tr>\n",
       "      <th>0</th>\n",
       "      <td>0.8099</td>\n",
       "      <td>0.8070</td>\n",
       "      <td>0.8088</td>\n",
       "      <td>0.8138</td>\n",
       "      <td>location</td>\n",
       "      <td>SVM</td>\n",
       "    </tr>\n",
       "    <tr>\n",
       "      <th>0</th>\n",
       "      <td>0.8202</td>\n",
       "      <td>0.8177</td>\n",
       "      <td>0.7846</td>\n",
       "      <td>0.8692</td>\n",
       "      <td>description</td>\n",
       "      <td>SVM</td>\n",
       "    </tr>\n",
       "  </tbody>\n",
       "</table>\n",
       "</div>"
      ],
      "text/plain": [
       "   f1_score  mean_accuracy  precision  recall    meta_name model\n",
       "0    0.8232         0.8290     0.8215  0.8351         name   SVM\n",
       "0    0.8694         0.8696     0.8904  0.8608         date   SVM\n",
       "0    0.8099         0.8070     0.8088  0.8138     location   SVM\n",
       "0    0.8202         0.8177     0.7846  0.8692  description   SVM"
      ]
     },
     "execution_count": 36,
     "metadata": {},
     "output_type": "execute_result"
    }
   ],
   "source": [
    "result_all_svm = pd.concat([result_name, result_date, result_location, result_descr])\n",
    "result_all_svm['meta_name'] = ['name', 'date', 'location', 'description']\n",
    "result_all_svm.ix[:,'model'] = 'SVM'\n",
    "result_all_svm.round(4)"
   ]
  },
  {
   "cell_type": "markdown",
   "metadata": {},
   "source": [
    "# Extreme Random Forest"
   ]
  },
  {
   "cell_type": "code",
   "execution_count": 37,
   "metadata": {
    "collapsed": false
   },
   "outputs": [
    {
     "name": "stdout",
     "output_type": "stream",
     "text": [
      "Current model: Extreme Random Forest, Prameter optimization: False\n",
      "1/5 iteration ...\n",
      "tf-idf and PCA: True\n",
      "Mean accuracy 0.8371\n",
      "2/5 iteration ...\n",
      "tf-idf and PCA: True\n",
      "Mean accuracy 0.8321\n",
      "3/5 iteration ...\n",
      "tf-idf and PCA: True\n",
      "Mean accuracy 0.8734\n",
      "4/5 iteration ...\n",
      "tf-idf and PCA: True\n",
      "Mean accuracy 0.8536\n",
      "5/5 iteration ...\n",
      "tf-idf and PCA: True\n",
      "Mean accuracy 0.8899\n",
      "The final CV=5 score for name and Extreme Random Forest: 0.8572\n",
      "METRICS:\n",
      "   f1_score  mean_accuracy  precision    recall\n",
      "0  0.849008       0.857206   0.811897  0.898433\n",
      "Feature importance:\n",
      "Current model: Extreme Random Forest, Prameter optimization: False\n",
      "1/5 iteration ...\n",
      "tf-idf and PCA: True\n",
      "Mean accuracy 0.9103\n",
      "2/5 iteration ...\n",
      "tf-idf and PCA: True\n",
      "Mean accuracy 0.9097\n",
      "3/5 iteration ...\n",
      "tf-idf and PCA: True\n",
      "Mean accuracy 0.9152\n",
      "4/5 iteration ...\n",
      "tf-idf and PCA: True\n",
      "Mean accuracy 0.9103\n",
      "5/5 iteration ...\n",
      "tf-idf and PCA: True\n",
      "Mean accuracy 0.9068\n",
      "The final CV=5 score for startDate and Extreme Random Forest: 0.9105\n",
      "METRICS:\n",
      "   f1_score  mean_accuracy  precision    recall\n",
      "0  0.912179       0.910455   0.877629  0.953455\n",
      "Feature importance:\n",
      "Current model: Extreme Random Forest, Prameter optimization: False\n",
      "1/5 iteration ...\n",
      "tf-idf and PCA: True\n",
      "Mean accuracy 0.7519\n",
      "2/5 iteration ...\n",
      "tf-idf and PCA: True\n",
      "Mean accuracy 0.8309\n",
      "3/5 iteration ...\n",
      "tf-idf and PCA: True\n",
      "Mean accuracy 0.8169\n",
      "4/5 iteration ...\n",
      "tf-idf and PCA: True\n",
      "Mean accuracy 0.7861\n",
      "5/5 iteration ...\n",
      "tf-idf and PCA: True\n",
      "Mean accuracy 0.8523\n",
      "The final CV=5 score for location and Extreme Random Forest: 0.8076\n",
      "METRICS:\n",
      "   f1_score  mean_accuracy  precision    recall\n",
      "0  0.821266       0.807623   0.754839  0.911579\n",
      "Feature importance:\n",
      "Current model: Extreme Random Forest, Prameter optimization: False\n",
      "1/5 iteration ...\n",
      "tf-idf and PCA: True\n",
      "Mean accuracy 0.9061\n",
      "2/5 iteration ...\n",
      "tf-idf and PCA: True\n",
      "Mean accuracy 0.8485\n",
      "3/5 iteration ...\n",
      "tf-idf and PCA: True\n",
      "Mean accuracy 0.8629\n",
      "4/5 iteration ...\n",
      "tf-idf and PCA: True\n",
      "Mean accuracy 0.8058\n",
      "5/5 iteration ...\n",
      "tf-idf and PCA: True\n",
      "Mean accuracy 0.9028\n",
      "The final CV=5 score for description and Extreme Random Forest: 0.8653\n",
      "METRICS:\n",
      "   f1_score  mean_accuracy  precision    recall\n",
      "0  0.864011       0.865252    0.83196  0.907903\n",
      "Feature importance:\n"
     ]
    }
   ],
   "source": [
    "result_name = analyse(\"name\", data_num, \"Extreme Random Forest\", tf_idf=True)\n",
    "result_date = analyse(\"startDate\", data_num, \"Extreme Random Forest\", tf_idf=True)\n",
    "result_location = analyse(\"location\", data_num, \"Extreme Random Forest\", tf_idf=True)\n",
    "result_descr = analyse(\"description\", data_num, \"Extreme Random Forest\", tf_idf=True)"
   ]
  },
  {
   "cell_type": "markdown",
   "metadata": {},
   "source": [
    "# Results for Extreme Random Forest"
   ]
  },
  {
   "cell_type": "code",
   "execution_count": 38,
   "metadata": {
    "collapsed": false
   },
   "outputs": [
    {
     "data": {
      "text/html": [
       "<div>\n",
       "<table border=\"1\" class=\"dataframe\">\n",
       "  <thead>\n",
       "    <tr style=\"text-align: right;\">\n",
       "      <th></th>\n",
       "      <th>f1_score</th>\n",
       "      <th>mean_accuracy</th>\n",
       "      <th>precision</th>\n",
       "      <th>recall</th>\n",
       "      <th>meta_name</th>\n",
       "      <th>model</th>\n",
       "    </tr>\n",
       "  </thead>\n",
       "  <tbody>\n",
       "    <tr>\n",
       "      <th>0</th>\n",
       "      <td>0.8490</td>\n",
       "      <td>0.8572</td>\n",
       "      <td>0.8119</td>\n",
       "      <td>0.8984</td>\n",
       "      <td>name</td>\n",
       "      <td>Extreme Random Forest</td>\n",
       "    </tr>\n",
       "    <tr>\n",
       "      <th>0</th>\n",
       "      <td>0.9122</td>\n",
       "      <td>0.9105</td>\n",
       "      <td>0.8776</td>\n",
       "      <td>0.9535</td>\n",
       "      <td>date</td>\n",
       "      <td>Extreme Random Forest</td>\n",
       "    </tr>\n",
       "    <tr>\n",
       "      <th>0</th>\n",
       "      <td>0.8213</td>\n",
       "      <td>0.8076</td>\n",
       "      <td>0.7548</td>\n",
       "      <td>0.9116</td>\n",
       "      <td>location</td>\n",
       "      <td>Extreme Random Forest</td>\n",
       "    </tr>\n",
       "    <tr>\n",
       "      <th>0</th>\n",
       "      <td>0.8640</td>\n",
       "      <td>0.8653</td>\n",
       "      <td>0.8320</td>\n",
       "      <td>0.9079</td>\n",
       "      <td>description</td>\n",
       "      <td>Extreme Random Forest</td>\n",
       "    </tr>\n",
       "  </tbody>\n",
       "</table>\n",
       "</div>"
      ],
      "text/plain": [
       "   f1_score  mean_accuracy  precision  recall    meta_name  \\\n",
       "0    0.8490         0.8572     0.8119  0.8984         name   \n",
       "0    0.9122         0.9105     0.8776  0.9535         date   \n",
       "0    0.8213         0.8076     0.7548  0.9116     location   \n",
       "0    0.8640         0.8653     0.8320  0.9079  description   \n",
       "\n",
       "                   model  \n",
       "0  Extreme Random Forest  \n",
       "0  Extreme Random Forest  \n",
       "0  Extreme Random Forest  \n",
       "0  Extreme Random Forest  "
      ]
     },
     "execution_count": 38,
     "metadata": {},
     "output_type": "execute_result"
    }
   ],
   "source": [
    "result_all_erf = pd.concat([result_name, result_date, result_location, result_descr])\n",
    "result_all_erf['meta_name'] = ['name', 'date', 'location', 'description']\n",
    "result_all_erf.ix[:,'model'] = 'Extreme Random Forest'\n",
    "result_all_erf.round(4)"
   ]
  },
  {
   "cell_type": "code",
   "execution_count": 39,
   "metadata": {
    "collapsed": true
   },
   "outputs": [],
   "source": [
    "result_all = pd.concat([result_all_rf, result_all_svm, result_all_lr, result_all_erf])"
   ]
  },
  {
   "cell_type": "markdown",
   "metadata": {},
   "source": [
    "# Result for all models"
   ]
  },
  {
   "cell_type": "code",
   "execution_count": null,
   "metadata": {
    "collapsed": false
   },
   "outputs": [],
   "source": []
  },
  {
   "cell_type": "code",
   "execution_count": 40,
   "metadata": {
    "collapsed": false
   },
   "outputs": [],
   "source": [
    "result_all = result_all.sort_values(by=['meta_name'],ascending=False).round(4)"
   ]
  },
  {
   "cell_type": "code",
   "execution_count": 41,
   "metadata": {
    "collapsed": true
   },
   "outputs": [],
   "source": [
    "result_all.round(2).to_latex(open('summary_result_PCA','w'))"
   ]
  },
  {
   "cell_type": "code",
   "execution_count": 43,
   "metadata": {
    "collapsed": false
   },
   "outputs": [
    {
     "data": {
      "text/html": [
       "<div>\n",
       "<table border=\"1\" class=\"dataframe\">\n",
       "  <thead>\n",
       "    <tr style=\"text-align: right;\">\n",
       "      <th></th>\n",
       "      <th>f1_score</th>\n",
       "      <th>mean_accuracy</th>\n",
       "      <th>precision</th>\n",
       "      <th>recall</th>\n",
       "      <th>meta_name</th>\n",
       "      <th>model</th>\n",
       "    </tr>\n",
       "  </thead>\n",
       "  <tbody>\n",
       "    <tr>\n",
       "      <th>0</th>\n",
       "      <td>0.8565</td>\n",
       "      <td>0.8595</td>\n",
       "      <td>0.8616</td>\n",
       "      <td>0.8606</td>\n",
       "      <td>name</td>\n",
       "      <td>Random forest</td>\n",
       "    </tr>\n",
       "    <tr>\n",
       "      <th>0</th>\n",
       "      <td>0.8232</td>\n",
       "      <td>0.8290</td>\n",
       "      <td>0.8215</td>\n",
       "      <td>0.8351</td>\n",
       "      <td>name</td>\n",
       "      <td>SVM</td>\n",
       "    </tr>\n",
       "    <tr>\n",
       "      <th>0</th>\n",
       "      <td>0.7510</td>\n",
       "      <td>0.7490</td>\n",
       "      <td>0.7357</td>\n",
       "      <td>0.7812</td>\n",
       "      <td>name</td>\n",
       "      <td>Logistic regression</td>\n",
       "    </tr>\n",
       "    <tr>\n",
       "      <th>0</th>\n",
       "      <td>0.8490</td>\n",
       "      <td>0.8572</td>\n",
       "      <td>0.8119</td>\n",
       "      <td>0.8984</td>\n",
       "      <td>name</td>\n",
       "      <td>Extreme Random Forest</td>\n",
       "    </tr>\n",
       "    <tr>\n",
       "      <th>0</th>\n",
       "      <td>0.8138</td>\n",
       "      <td>0.7960</td>\n",
       "      <td>0.7664</td>\n",
       "      <td>0.8722</td>\n",
       "      <td>location</td>\n",
       "      <td>Random forest</td>\n",
       "    </tr>\n",
       "    <tr>\n",
       "      <th>0</th>\n",
       "      <td>0.8099</td>\n",
       "      <td>0.8070</td>\n",
       "      <td>0.8088</td>\n",
       "      <td>0.8138</td>\n",
       "      <td>location</td>\n",
       "      <td>SVM</td>\n",
       "    </tr>\n",
       "    <tr>\n",
       "      <th>0</th>\n",
       "      <td>0.7603</td>\n",
       "      <td>0.7623</td>\n",
       "      <td>0.7667</td>\n",
       "      <td>0.7745</td>\n",
       "      <td>location</td>\n",
       "      <td>Logistic regression</td>\n",
       "    </tr>\n",
       "    <tr>\n",
       "      <th>0</th>\n",
       "      <td>0.8213</td>\n",
       "      <td>0.8076</td>\n",
       "      <td>0.7548</td>\n",
       "      <td>0.9116</td>\n",
       "      <td>location</td>\n",
       "      <td>Extreme Random Forest</td>\n",
       "    </tr>\n",
       "    <tr>\n",
       "      <th>0</th>\n",
       "      <td>0.8409</td>\n",
       "      <td>0.8317</td>\n",
       "      <td>0.8166</td>\n",
       "      <td>0.8792</td>\n",
       "      <td>description</td>\n",
       "      <td>Random forest</td>\n",
       "    </tr>\n",
       "    <tr>\n",
       "      <th>0</th>\n",
       "      <td>0.8202</td>\n",
       "      <td>0.8177</td>\n",
       "      <td>0.7846</td>\n",
       "      <td>0.8692</td>\n",
       "      <td>description</td>\n",
       "      <td>SVM</td>\n",
       "    </tr>\n",
       "    <tr>\n",
       "      <th>0</th>\n",
       "      <td>0.7681</td>\n",
       "      <td>0.7676</td>\n",
       "      <td>0.7359</td>\n",
       "      <td>0.8285</td>\n",
       "      <td>description</td>\n",
       "      <td>Logistic regression</td>\n",
       "    </tr>\n",
       "    <tr>\n",
       "      <th>0</th>\n",
       "      <td>0.8640</td>\n",
       "      <td>0.8653</td>\n",
       "      <td>0.8320</td>\n",
       "      <td>0.9079</td>\n",
       "      <td>description</td>\n",
       "      <td>Extreme Random Forest</td>\n",
       "    </tr>\n",
       "    <tr>\n",
       "      <th>0</th>\n",
       "      <td>0.9072</td>\n",
       "      <td>0.9013</td>\n",
       "      <td>0.8976</td>\n",
       "      <td>0.9226</td>\n",
       "      <td>date</td>\n",
       "      <td>Random forest</td>\n",
       "    </tr>\n",
       "    <tr>\n",
       "      <th>0</th>\n",
       "      <td>0.8694</td>\n",
       "      <td>0.8696</td>\n",
       "      <td>0.8904</td>\n",
       "      <td>0.8608</td>\n",
       "      <td>date</td>\n",
       "      <td>SVM</td>\n",
       "    </tr>\n",
       "    <tr>\n",
       "      <th>0</th>\n",
       "      <td>0.7989</td>\n",
       "      <td>0.8144</td>\n",
       "      <td>0.8559</td>\n",
       "      <td>0.7894</td>\n",
       "      <td>date</td>\n",
       "      <td>Logistic regression</td>\n",
       "    </tr>\n",
       "    <tr>\n",
       "      <th>0</th>\n",
       "      <td>0.9122</td>\n",
       "      <td>0.9105</td>\n",
       "      <td>0.8776</td>\n",
       "      <td>0.9535</td>\n",
       "      <td>date</td>\n",
       "      <td>Extreme Random Forest</td>\n",
       "    </tr>\n",
       "  </tbody>\n",
       "</table>\n",
       "</div>"
      ],
      "text/plain": [
       "   f1_score  mean_accuracy  precision  recall    meta_name  \\\n",
       "0    0.8565         0.8595     0.8616  0.8606         name   \n",
       "0    0.8232         0.8290     0.8215  0.8351         name   \n",
       "0    0.7510         0.7490     0.7357  0.7812         name   \n",
       "0    0.8490         0.8572     0.8119  0.8984         name   \n",
       "0    0.8138         0.7960     0.7664  0.8722     location   \n",
       "0    0.8099         0.8070     0.8088  0.8138     location   \n",
       "0    0.7603         0.7623     0.7667  0.7745     location   \n",
       "0    0.8213         0.8076     0.7548  0.9116     location   \n",
       "0    0.8409         0.8317     0.8166  0.8792  description   \n",
       "0    0.8202         0.8177     0.7846  0.8692  description   \n",
       "0    0.7681         0.7676     0.7359  0.8285  description   \n",
       "0    0.8640         0.8653     0.8320  0.9079  description   \n",
       "0    0.9072         0.9013     0.8976  0.9226         date   \n",
       "0    0.8694         0.8696     0.8904  0.8608         date   \n",
       "0    0.7989         0.8144     0.8559  0.7894         date   \n",
       "0    0.9122         0.9105     0.8776  0.9535         date   \n",
       "\n",
       "                   model  \n",
       "0          Random forest  \n",
       "0                    SVM  \n",
       "0    Logistic regression  \n",
       "0  Extreme Random Forest  \n",
       "0          Random forest  \n",
       "0                    SVM  \n",
       "0    Logistic regression  \n",
       "0  Extreme Random Forest  \n",
       "0          Random forest  \n",
       "0                    SVM  \n",
       "0    Logistic regression  \n",
       "0  Extreme Random Forest  \n",
       "0          Random forest  \n",
       "0                    SVM  \n",
       "0    Logistic regression  \n",
       "0  Extreme Random Forest  "
      ]
     },
     "execution_count": 43,
     "metadata": {},
     "output_type": "execute_result"
    }
   ],
   "source": [
    "result_all"
   ]
  },
  {
   "cell_type": "markdown",
   "metadata": {},
   "source": [
    "Here we used:\n",
    "* Numerica features + tf-idf for text + PCA of it\n",
    "* Fair splitting\n",
    "* Cross validation k = 5"
   ]
  },
  {
   "cell_type": "code",
   "execution_count": null,
   "metadata": {
    "collapsed": true
   },
   "outputs": [],
   "source": []
  },
  {
   "cell_type": "code",
   "execution_count": null,
   "metadata": {
    "collapsed": true
   },
   "outputs": [],
   "source": []
  }
 ],
 "metadata": {
  "anaconda-cloud": {},
  "kernelspec": {
   "display_name": "Python [conda env:py35]",
   "language": "python",
   "name": "conda-env-py35-py"
  },
  "language_info": {
   "codemirror_mode": {
    "name": "ipython",
    "version": 3
   },
   "file_extension": ".py",
   "mimetype": "text/x-python",
   "name": "python",
   "nbconvert_exporter": "python",
   "pygments_lexer": "ipython3",
   "version": "3.5.2"
  }
 },
 "nbformat": 4,
 "nbformat_minor": 0
}
