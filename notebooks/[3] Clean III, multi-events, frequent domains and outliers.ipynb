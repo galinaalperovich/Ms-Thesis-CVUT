{
 "cells": [
  {
   "cell_type": "code",
   "execution_count": 3,
   "metadata": {
    "collapsed": true
   },
   "outputs": [],
   "source": [
    "import warnings\n",
    "warnings.filterwarnings('ignore')"
   ]
  },
  {
   "cell_type": "code",
   "execution_count": 4,
   "metadata": {
    "collapsed": false
   },
   "outputs": [],
   "source": [
    "%matplotlib inline\n",
    "from utils_all import *\n",
    "from sklearn.preprocessing import LabelEncoder\n",
    "\n",
    "import pandas as pd\n",
    "import numpy as np\n",
    "\n",
    "import matplotlib.pyplot as plt"
   ]
  },
  {
   "cell_type": "markdown",
   "metadata": {},
   "source": [
    "# Cleaning 3: multi-events, frequent domain and outliers"
   ]
  },
  {
   "cell_type": "markdown",
   "metadata": {},
   "source": [
    "#### In this notebook we will do the following things: \n",
    "* Basic description of the dataset\n",
    "* Replace outliers with NaN based on IQR range\n",
    "* Remove multi-events pages\n",
    "* Clean those pages were a domain is too frequent "
   ]
  },
  {
   "cell_type": "code",
   "execution_count": 2,
   "metadata": {
    "collapsed": true
   },
   "outputs": [],
   "source": [
    "%store -r DATA_NUM"
   ]
  },
  {
   "cell_type": "code",
   "execution_count": 3,
   "metadata": {
    "collapsed": true
   },
   "outputs": [],
   "source": [
    "data = DATA_NUM"
   ]
  },
  {
   "cell_type": "markdown",
   "metadata": {},
   "source": [
    "### Describe dataset"
   ]
  },
  {
   "cell_type": "code",
   "execution_count": 4,
   "metadata": {
    "collapsed": false
   },
   "outputs": [
    {
     "data": {
      "text/plain": [
       "(290074, 21)"
      ]
     },
     "execution_count": 4,
     "metadata": {},
     "output_type": "execute_result"
    }
   ],
   "source": [
    "data.shape"
   ]
  },
  {
   "cell_type": "code",
   "execution_count": 5,
   "metadata": {
    "collapsed": false
   },
   "outputs": [
    {
     "name": "stdout",
     "output_type": "stream",
     "text": [
      "<class 'pandas.core.frame.DataFrame'>\n",
      "Int64Index: 290074 entries, 1 to 1597709\n",
      "Data columns (total 21 columns):\n",
      "url             290074 non-null object\n",
      "meta_name       290074 non-null object\n",
      "text            290074 non-null object\n",
      "x_coords        290074 non-null float64\n",
      "y_coords        290074 non-null float64\n",
      "block_height    290074 non-null float64\n",
      "block_width     290074 non-null float64\n",
      "tag             290074 non-null int64\n",
      "num_siblings    290074 non-null float64\n",
      "color_r         290074 non-null float64\n",
      "color_g         290074 non-null float64\n",
      "color_b         290074 non-null float64\n",
      "font_size       290074 non-null float64\n",
      "display         290074 non-null int64\n",
      "font_weight     290074 non-null int64\n",
      "width           290074 non-null float64\n",
      "height          290074 non-null float64\n",
      "font_family     290074 non-null int64\n",
      "text_align      290074 non-null int64\n",
      "line_height     290074 non-null float64\n",
      "locale          290074 non-null object\n",
      "dtypes: float64(12), int64(5), object(4)\n",
      "memory usage: 48.7+ MB\n"
     ]
    }
   ],
   "source": [
    "data.info()"
   ]
  },
  {
   "cell_type": "code",
   "execution_count": null,
   "metadata": {
    "collapsed": true
   },
   "outputs": [],
   "source": []
  },
  {
   "cell_type": "markdown",
   "metadata": {},
   "source": [
    "We clearly see outliers for X, Y, block height and width, num_siblings, width, height, we need to deal with them "
   ]
  },
  {
   "cell_type": "code",
   "execution_count": 6,
   "metadata": {
    "collapsed": false
   },
   "outputs": [],
   "source": [
    "desc = data.describe()"
   ]
  },
  {
   "cell_type": "code",
   "execution_count": 7,
   "metadata": {
    "collapsed": false
   },
   "outputs": [
    {
     "data": {
      "text/html": [
       "<div>\n",
       "<table border=\"1\" class=\"dataframe\">\n",
       "  <thead>\n",
       "    <tr style=\"text-align: right;\">\n",
       "      <th></th>\n",
       "      <th>x_coords</th>\n",
       "      <th>y_coords</th>\n",
       "      <th>block_height</th>\n",
       "      <th>block_width</th>\n",
       "      <th>tag</th>\n",
       "      <th>num_siblings</th>\n",
       "      <th>color_r</th>\n",
       "      <th>color_g</th>\n",
       "      <th>color_b</th>\n",
       "      <th>font_size</th>\n",
       "      <th>display</th>\n",
       "      <th>font_weight</th>\n",
       "      <th>width</th>\n",
       "      <th>height</th>\n",
       "      <th>font_family</th>\n",
       "      <th>text_align</th>\n",
       "      <th>line_height</th>\n",
       "    </tr>\n",
       "  </thead>\n",
       "  <tbody>\n",
       "    <tr>\n",
       "      <th>count</th>\n",
       "      <td>290074.000000</td>\n",
       "      <td>290074.000000</td>\n",
       "      <td>290074.000000</td>\n",
       "      <td>290074.000000</td>\n",
       "      <td>290074.000000</td>\n",
       "      <td>290074.000000</td>\n",
       "      <td>290074.000000</td>\n",
       "      <td>290074.000000</td>\n",
       "      <td>290074.000000</td>\n",
       "      <td>290074.000000</td>\n",
       "      <td>290074.000000</td>\n",
       "      <td>290074.000000</td>\n",
       "      <td>290074.000000</td>\n",
       "      <td>290074.000000</td>\n",
       "      <td>290074.000000</td>\n",
       "      <td>290074.000000</td>\n",
       "      <td>290074.000000</td>\n",
       "    </tr>\n",
       "    <tr>\n",
       "      <th>mean</th>\n",
       "      <td>161.534243</td>\n",
       "      <td>4533.679782</td>\n",
       "      <td>43.887501</td>\n",
       "      <td>208.869995</td>\n",
       "      <td>18.458635</td>\n",
       "      <td>3.040993</td>\n",
       "      <td>71.414270</td>\n",
       "      <td>77.851948</td>\n",
       "      <td>84.278332</td>\n",
       "      <td>15.211796</td>\n",
       "      <td>3.894072</td>\n",
       "      <td>460.221530</td>\n",
       "      <td>101.508672</td>\n",
       "      <td>25.039244</td>\n",
       "      <td>906.595434</td>\n",
       "      <td>5.694292</td>\n",
       "      <td>17.121171</td>\n",
       "    </tr>\n",
       "    <tr>\n",
       "      <th>std</th>\n",
       "      <td>469.596994</td>\n",
       "      <td>9088.113864</td>\n",
       "      <td>103.728598</td>\n",
       "      <td>149.291311</td>\n",
       "      <td>10.847205</td>\n",
       "      <td>4.051630</td>\n",
       "      <td>75.405601</td>\n",
       "      <td>72.642047</td>\n",
       "      <td>78.043212</td>\n",
       "      <td>4.731340</td>\n",
       "      <td>1.130860</td>\n",
       "      <td>131.869694</td>\n",
       "      <td>168.144926</td>\n",
       "      <td>116.345222</td>\n",
       "      <td>467.451537</td>\n",
       "      <td>1.335081</td>\n",
       "      <td>9.603470</td>\n",
       "    </tr>\n",
       "    <tr>\n",
       "      <th>min</th>\n",
       "      <td>-119988.000000</td>\n",
       "      <td>-99989.000000</td>\n",
       "      <td>0.000000</td>\n",
       "      <td>0.000000</td>\n",
       "      <td>0.000000</td>\n",
       "      <td>1.000000</td>\n",
       "      <td>0.000000</td>\n",
       "      <td>0.000000</td>\n",
       "      <td>0.000000</td>\n",
       "      <td>0.000000</td>\n",
       "      <td>0.000000</td>\n",
       "      <td>100.000000</td>\n",
       "      <td>-1.000000</td>\n",
       "      <td>-1.000000</td>\n",
       "      <td>0.000000</td>\n",
       "      <td>0.000000</td>\n",
       "      <td>0.000000</td>\n",
       "    </tr>\n",
       "    <tr>\n",
       "      <th>25%</th>\n",
       "      <td>25.000000</td>\n",
       "      <td>670.000000</td>\n",
       "      <td>16.000000</td>\n",
       "      <td>92.000000</td>\n",
       "      <td>7.000000</td>\n",
       "      <td>1.000000</td>\n",
       "      <td>4.000000</td>\n",
       "      <td>10.000000</td>\n",
       "      <td>17.000000</td>\n",
       "      <td>13.000000</td>\n",
       "      <td>3.000000</td>\n",
       "      <td>400.000000</td>\n",
       "      <td>-1.000000</td>\n",
       "      <td>-1.000000</td>\n",
       "      <td>550.000000</td>\n",
       "      <td>5.000000</td>\n",
       "      <td>15.000000</td>\n",
       "    </tr>\n",
       "    <tr>\n",
       "      <th>50%</th>\n",
       "      <td>79.000000</td>\n",
       "      <td>1798.000000</td>\n",
       "      <td>22.000000</td>\n",
       "      <td>172.000000</td>\n",
       "      <td>26.000000</td>\n",
       "      <td>2.000000</td>\n",
       "      <td>51.000000</td>\n",
       "      <td>51.000000</td>\n",
       "      <td>59.000000</td>\n",
       "      <td>14.000000</td>\n",
       "      <td>4.000000</td>\n",
       "      <td>400.000000</td>\n",
       "      <td>-1.000000</td>\n",
       "      <td>-1.000000</td>\n",
       "      <td>1079.000000</td>\n",
       "      <td>5.000000</td>\n",
       "      <td>20.000000</td>\n",
       "    </tr>\n",
       "    <tr>\n",
       "      <th>75%</th>\n",
       "      <td>220.000000</td>\n",
       "      <td>4202.000000</td>\n",
       "      <td>36.000000</td>\n",
       "      <td>312.000000</td>\n",
       "      <td>26.000000</td>\n",
       "      <td>4.000000</td>\n",
       "      <td>102.000000</td>\n",
       "      <td>115.000000</td>\n",
       "      <td>129.000000</td>\n",
       "      <td>16.000000</td>\n",
       "      <td>4.000000</td>\n",
       "      <td>400.000000</td>\n",
       "      <td>174.128906</td>\n",
       "      <td>21.000000</td>\n",
       "      <td>1231.000000</td>\n",
       "      <td>7.000000</td>\n",
       "      <td>22.000000</td>\n",
       "    </tr>\n",
       "    <tr>\n",
       "      <th>max</th>\n",
       "      <td>14972.000000</td>\n",
       "      <td>422496.000000</td>\n",
       "      <td>8318.000000</td>\n",
       "      <td>2831.000000</td>\n",
       "      <td>35.000000</td>\n",
       "      <td>136.000000</td>\n",
       "      <td>255.000000</td>\n",
       "      <td>255.000000</td>\n",
       "      <td>255.000000</td>\n",
       "      <td>112.000000</td>\n",
       "      <td>13.000000</td>\n",
       "      <td>900.000000</td>\n",
       "      <td>1376.000000</td>\n",
       "      <td>27000.000000</td>\n",
       "      <td>1786.000000</td>\n",
       "      <td>7.000000</td>\n",
       "      <td>150.000000</td>\n",
       "    </tr>\n",
       "  </tbody>\n",
       "</table>\n",
       "</div>"
      ],
      "text/plain": [
       "            x_coords       y_coords   block_height    block_width  \\\n",
       "count  290074.000000  290074.000000  290074.000000  290074.000000   \n",
       "mean      161.534243    4533.679782      43.887501     208.869995   \n",
       "std       469.596994    9088.113864     103.728598     149.291311   \n",
       "min   -119988.000000  -99989.000000       0.000000       0.000000   \n",
       "25%        25.000000     670.000000      16.000000      92.000000   \n",
       "50%        79.000000    1798.000000      22.000000     172.000000   \n",
       "75%       220.000000    4202.000000      36.000000     312.000000   \n",
       "max     14972.000000  422496.000000    8318.000000    2831.000000   \n",
       "\n",
       "                 tag   num_siblings        color_r        color_g  \\\n",
       "count  290074.000000  290074.000000  290074.000000  290074.000000   \n",
       "mean       18.458635       3.040993      71.414270      77.851948   \n",
       "std        10.847205       4.051630      75.405601      72.642047   \n",
       "min         0.000000       1.000000       0.000000       0.000000   \n",
       "25%         7.000000       1.000000       4.000000      10.000000   \n",
       "50%        26.000000       2.000000      51.000000      51.000000   \n",
       "75%        26.000000       4.000000     102.000000     115.000000   \n",
       "max        35.000000     136.000000     255.000000     255.000000   \n",
       "\n",
       "             color_b      font_size        display    font_weight  \\\n",
       "count  290074.000000  290074.000000  290074.000000  290074.000000   \n",
       "mean       84.278332      15.211796       3.894072     460.221530   \n",
       "std        78.043212       4.731340       1.130860     131.869694   \n",
       "min         0.000000       0.000000       0.000000     100.000000   \n",
       "25%        17.000000      13.000000       3.000000     400.000000   \n",
       "50%        59.000000      14.000000       4.000000     400.000000   \n",
       "75%       129.000000      16.000000       4.000000     400.000000   \n",
       "max       255.000000     112.000000      13.000000     900.000000   \n",
       "\n",
       "               width         height    font_family     text_align  \\\n",
       "count  290074.000000  290074.000000  290074.000000  290074.000000   \n",
       "mean      101.508672      25.039244     906.595434       5.694292   \n",
       "std       168.144926     116.345222     467.451537       1.335081   \n",
       "min        -1.000000      -1.000000       0.000000       0.000000   \n",
       "25%        -1.000000      -1.000000     550.000000       5.000000   \n",
       "50%        -1.000000      -1.000000    1079.000000       5.000000   \n",
       "75%       174.128906      21.000000    1231.000000       7.000000   \n",
       "max      1376.000000   27000.000000    1786.000000       7.000000   \n",
       "\n",
       "         line_height  \n",
       "count  290074.000000  \n",
       "mean       17.121171  \n",
       "std         9.603470  \n",
       "min         0.000000  \n",
       "25%        15.000000  \n",
       "50%        20.000000  \n",
       "75%        22.000000  \n",
       "max       150.000000  "
      ]
     },
     "execution_count": 7,
     "metadata": {},
     "output_type": "execute_result"
    }
   ],
   "source": [
    "desc"
   ]
  },
  {
   "cell_type": "code",
   "execution_count": 8,
   "metadata": {
    "collapsed": false
   },
   "outputs": [
    {
     "data": {
      "text/plain": [
       "{'boxes': [<matplotlib.lines.Line2D at 0x11a90eb00>,\n",
       "  <matplotlib.lines.Line2D at 0x11a92def0>],\n",
       " 'caps': [<matplotlib.lines.Line2D at 0x11a91be10>,\n",
       "  <matplotlib.lines.Line2D at 0x11a928d68>,\n",
       "  <matplotlib.lines.Line2D at 0x11a93ae80>,\n",
       "  <matplotlib.lines.Line2D at 0x11a93af98>],\n",
       " 'fliers': [<matplotlib.lines.Line2D at 0x11a92ddd8>,\n",
       "  <matplotlib.lines.Line2D at 0x11a945748>],\n",
       " 'means': [],\n",
       " 'medians': [<matplotlib.lines.Line2D at 0x11a928e80>,\n",
       "  <matplotlib.lines.Line2D at 0x11a93e7f0>],\n",
       " 'whiskers': [<matplotlib.lines.Line2D at 0x11a90e668>,\n",
       "  <matplotlib.lines.Line2D at 0x11a91bcf8>,\n",
       "  <matplotlib.lines.Line2D at 0x11a934e10>,\n",
       "  <matplotlib.lines.Line2D at 0x11a934f28>]}"
      ]
     },
     "execution_count": 8,
     "metadata": {},
     "output_type": "execute_result"
    },
    {
     "data": {
      "image/png": "[encoded data removed]",
      "text/plain": [
       "<matplotlib.figure.Figure at 0x11aaca1d0>"
      ]
     },
     "metadata": {},
     "output_type": "display_data"
    }
   ],
   "source": [
    "data[['x_coords', 'y_coords']].boxplot()"
   ]
  },
  {
   "cell_type": "code",
   "execution_count": 9,
   "metadata": {
    "collapsed": false
   },
   "outputs": [
    {
     "data": {
      "text/plain": [
       "{'boxes': [<matplotlib.lines.Line2D at 0x10de60320>,\n",
       "  <matplotlib.lines.Line2D at 0x10de74748>],\n",
       " 'caps': [<matplotlib.lines.Line2D at 0x10de68d68>,\n",
       "  <matplotlib.lines.Line2D at 0x10de68e80>,\n",
       "  <matplotlib.lines.Line2D at 0x10de7af98>,\n",
       "  <matplotlib.lines.Line2D at 0x10de7eef0>],\n",
       " 'fliers': [<matplotlib.lines.Line2D at 0x10de6eef0>,\n",
       "  <matplotlib.lines.Line2D at 0x10de84f60>],\n",
       " 'means': [],\n",
       " 'medians': [<matplotlib.lines.Line2D at 0x10de6e6d8>,\n",
       "  <matplotlib.lines.Line2D at 0x10de84048>],\n",
       " 'whiskers': [<matplotlib.lines.Line2D at 0x10de60cf8>,\n",
       "  <matplotlib.lines.Line2D at 0x10de60e10>,\n",
       "  <matplotlib.lines.Line2D at 0x10de74f28>,\n",
       "  <matplotlib.lines.Line2D at 0x10de7ae80>]}"
      ]
     },
     "execution_count": 9,
     "metadata": {},
     "output_type": "execute_result"
    },
    {
     "data": {
      "image/png": "[encoded data removed]",
      "text/plain": [
       "<matplotlib.figure.Figure at 0x11a90ecc0>"
      ]
     },
     "metadata": {},
     "output_type": "display_data"
    }
   ],
   "source": [
    "data[['block_height', 'block_width']].boxplot()"
   ]
  },
  {
   "cell_type": "code",
   "execution_count": 10,
   "metadata": {
    "collapsed": false
   },
   "outputs": [
    {
     "data": {
      "text/plain": [
       "{'boxes': [<matplotlib.lines.Line2D at 0x10e2e9940>,\n",
       "  <matplotlib.lines.Line2D at 0x10e2fcd68>],\n",
       " 'caps': [<matplotlib.lines.Line2D at 0x10e2f3c88>,\n",
       "  <matplotlib.lines.Line2D at 0x10e2f6be0>,\n",
       "  <matplotlib.lines.Line2D at 0x10e308cf8>,\n",
       "  <matplotlib.lines.Line2D at 0x10e308e10>],\n",
       " 'fliers': [<matplotlib.lines.Line2D at 0x10e2fcc50>,\n",
       "  <matplotlib.lines.Line2D at 0x10e754e80>],\n",
       " 'means': [],\n",
       " 'medians': [<matplotlib.lines.Line2D at 0x10e2f6cf8>,\n",
       "  <matplotlib.lines.Line2D at 0x10e754668>],\n",
       " 'whiskers': [<matplotlib.lines.Line2D at 0x10e2e9ac8>,\n",
       "  <matplotlib.lines.Line2D at 0x10e2f3b70>,\n",
       "  <matplotlib.lines.Line2D at 0x10e302c88>,\n",
       "  <matplotlib.lines.Line2D at 0x10e302da0>]}"
      ]
     },
     "execution_count": 10,
     "metadata": {},
     "output_type": "execute_result"
    },
    {
     "data": {
      "image/png": "[encoded data removed]",
      "text/plain": [
       "<matplotlib.figure.Figure at 0x11ad1b3c8>"
      ]
     },
     "metadata": {},
     "output_type": "display_data"
    }
   ],
   "source": [
    "data[['height', 'width']].boxplot()"
   ]
  },
  {
   "cell_type": "code",
   "execution_count": 11,
   "metadata": {
    "collapsed": false
   },
   "outputs": [
    {
     "data": {
      "text/plain": [
       "<matplotlib.axes._subplots.AxesSubplot at 0x10e00a400>"
      ]
     },
     "execution_count": 11,
     "metadata": {},
     "output_type": "execute_result"
    },
    {
     "data": {
      "image/png": "[encoded data removed]",
      "text/plain": [
       "<matplotlib.figure.Figure at 0x10dfdfa90>"
      ]
     },
     "metadata": {},
     "output_type": "display_data"
    }
   ],
   "source": [
    "data.num_siblings.plot('box')"
   ]
  },
  {
   "cell_type": "code",
   "execution_count": 12,
   "metadata": {
    "collapsed": false
   },
   "outputs": [
    {
     "data": {
      "text/plain": [
       "<matplotlib.axes._subplots.AxesSubplot at 0x10e788828>"
      ]
     },
     "execution_count": 12,
     "metadata": {},
     "output_type": "execute_result"
    },
    {
     "data": {
      "image/png": "[encoded data removed]",
      "text/plain": [
       "<matplotlib.figure.Figure at 0x110f889b0>"
      ]
     },
     "metadata": {},
     "output_type": "display_data"
    }
   ],
   "source": [
    "data.width[data.width != -1].plot('box')"
   ]
  },
  {
   "cell_type": "markdown",
   "metadata": {},
   "source": [
    "## Remove multi events pages"
   ]
  },
  {
   "cell_type": "code",
   "execution_count": 13,
   "metadata": {
    "collapsed": false
   },
   "outputs": [],
   "source": [
    "df = data[data.meta_name != 'not_event_element']"
   ]
  },
  {
   "cell_type": "code",
   "execution_count": 14,
   "metadata": {
    "collapsed": false
   },
   "outputs": [],
   "source": [
    "urls = df.url.unique()\n",
    "f = open('event_urls.txt', 'w')\n",
    "for url in urls:\n",
    "    f.write(url + '\\n')"
   ]
  },
  {
   "cell_type": "code",
   "execution_count": 15,
   "metadata": {
    "collapsed": false
   },
   "outputs": [
    {
     "data": {
      "text/plain": [
       "(154409, 21)"
      ]
     },
     "execution_count": 15,
     "metadata": {},
     "output_type": "execute_result"
    }
   ],
   "source": [
    "df.shape"
   ]
  },
  {
   "cell_type": "markdown",
   "metadata": {},
   "source": [
    "Number of unique urls"
   ]
  },
  {
   "cell_type": "code",
   "execution_count": 16,
   "metadata": {
    "collapsed": false
   },
   "outputs": [
    {
     "data": {
      "text/plain": [
       "99975"
      ]
     },
     "execution_count": 16,
     "metadata": {},
     "output_type": "execute_result"
    }
   ],
   "source": [
    "len(df.url.unique())"
   ]
  },
  {
   "cell_type": "code",
   "execution_count": 17,
   "metadata": {
    "collapsed": true
   },
   "outputs": [],
   "source": [
    "df_name = df[df.meta_name == 'name']"
   ]
  },
  {
   "cell_type": "markdown",
   "metadata": {},
   "source": [
    "Collect info about 'name' of event per URL"
   ]
  },
  {
   "cell_type": "code",
   "execution_count": 18,
   "metadata": {
    "collapsed": true
   },
   "outputs": [],
   "source": [
    "names_unique = df_name.url.value_counts().reset_index()\n",
    "names_unique.columns = ['url', 'count_names']"
   ]
  },
  {
   "cell_type": "code",
   "execution_count": 19,
   "metadata": {
    "collapsed": false
   },
   "outputs": [
    {
     "data": {
      "text/html": [
       "<div>\n",
       "<table border=\"1\" class=\"dataframe\">\n",
       "  <thead>\n",
       "    <tr style=\"text-align: right;\">\n",
       "      <th></th>\n",
       "      <th>url</th>\n",
       "      <th>count_names</th>\n",
       "    </tr>\n",
       "  </thead>\n",
       "  <tbody>\n",
       "    <tr>\n",
       "      <th>0</th>\n",
       "      <td>http://www.kokodatrail.com.au/forums/index.php...</td>\n",
       "      <td>22</td>\n",
       "    </tr>\n",
       "    <tr>\n",
       "      <th>1</th>\n",
       "      <td>http://www.kokodatrail.com.au/forums/index.php...</td>\n",
       "      <td>20</td>\n",
       "    </tr>\n",
       "    <tr>\n",
       "      <th>2</th>\n",
       "      <td>http://www.kokodatrail.com.au/forums/index.php...</td>\n",
       "      <td>20</td>\n",
       "    </tr>\n",
       "    <tr>\n",
       "      <th>3</th>\n",
       "      <td>http://www.kokodatrail.com.au/forums/index.php...</td>\n",
       "      <td>20</td>\n",
       "    </tr>\n",
       "    <tr>\n",
       "      <th>4</th>\n",
       "      <td>http://www.kokodatrail.com.au/forums/index.php...</td>\n",
       "      <td>18</td>\n",
       "    </tr>\n",
       "  </tbody>\n",
       "</table>\n",
       "</div>"
      ],
      "text/plain": [
       "                                                 url  count_names\n",
       "0  http://www.kokodatrail.com.au/forums/index.php...           22\n",
       "1  http://www.kokodatrail.com.au/forums/index.php...           20\n",
       "2  http://www.kokodatrail.com.au/forums/index.php...           20\n",
       "3  http://www.kokodatrail.com.au/forums/index.php...           20\n",
       "4  http://www.kokodatrail.com.au/forums/index.php...           18"
      ]
     },
     "execution_count": 19,
     "metadata": {},
     "output_type": "execute_result"
    }
   ],
   "source": [
    "names_unique.head()"
   ]
  },
  {
   "cell_type": "code",
   "execution_count": 20,
   "metadata": {
    "collapsed": false
   },
   "outputs": [
    {
     "data": {
      "text/plain": [
       "'http://www.fitchburgwi.gov/Calendar.aspx?EID=3119'"
      ]
     },
     "execution_count": 20,
     "metadata": {},
     "output_type": "execute_result"
    }
   ],
   "source": [
    "names_unique.iloc[100,0]"
   ]
  },
  {
   "cell_type": "markdown",
   "metadata": {},
   "source": [
    "We see that sometimes we have below 25 events per page, we need to remove it.§"
   ]
  },
  {
   "cell_type": "code",
   "execution_count": 21,
   "metadata": {
    "collapsed": false
   },
   "outputs": [
    {
     "data": {
      "text/plain": [
       "<matplotlib.axes._subplots.AxesSubplot at 0x110fac588>"
      ]
     },
     "execution_count": 21,
     "metadata": {},
     "output_type": "execute_result"
    },
    {
     "data": {
      "image/png": "[encoded data removed]",
      "text/plain": [
       "<matplotlib.figure.Figure at 0x110fb09e8>"
      ]
     },
     "metadata": {},
     "output_type": "display_data"
    }
   ],
   "source": [
    "names_unique.count_names.hist()"
   ]
  },
  {
   "cell_type": "markdown",
   "metadata": {},
   "source": [
    "99% of all pages has one event"
   ]
  },
  {
   "cell_type": "code",
   "execution_count": 22,
   "metadata": {
    "collapsed": false
   },
   "outputs": [
    {
     "data": {
      "text/plain": [
       "0.9918927545483562"
      ]
     },
     "execution_count": 22,
     "metadata": {},
     "output_type": "execute_result"
    }
   ],
   "source": [
    "len(names_unique[names_unique.count_names == 1])/ len(names_unique.count_names)"
   ]
  },
  {
   "cell_type": "markdown",
   "metadata": {},
   "source": [
    "Let's collect UTLs with more than 1 event"
   ]
  },
  {
   "cell_type": "code",
   "execution_count": 23,
   "metadata": {
    "collapsed": false
   },
   "outputs": [],
   "source": [
    "urls_1 = names_unique[names_unique.count_names == 1].url"
   ]
  },
  {
   "cell_type": "code",
   "execution_count": 24,
   "metadata": {
    "collapsed": false
   },
   "outputs": [],
   "source": [
    "df['one_event'] = df.url.isin(urls_1)"
   ]
  },
  {
   "cell_type": "markdown",
   "metadata": {},
   "source": [
    "df contains info about all fields, not only names, that's why we lost more than 1% of data"
   ]
  },
  {
   "cell_type": "code",
   "execution_count": 25,
   "metadata": {
    "collapsed": false
   },
   "outputs": [
    {
     "data": {
      "text/plain": [
       "(154409, 22)"
      ]
     },
     "execution_count": 25,
     "metadata": {},
     "output_type": "execute_result"
    }
   ],
   "source": [
    "df.shape"
   ]
  },
  {
   "cell_type": "code",
   "execution_count": 26,
   "metadata": {
    "collapsed": false
   },
   "outputs": [
    {
     "data": {
      "text/plain": [
       "106008"
      ]
     },
     "execution_count": 26,
     "metadata": {},
     "output_type": "execute_result"
    }
   ],
   "source": [
    "df.one_event.sum()"
   ]
  },
  {
   "cell_type": "code",
   "execution_count": 27,
   "metadata": {
    "collapsed": true
   },
   "outputs": [],
   "source": [
    "df_1 = df[df.one_event]"
   ]
  },
  {
   "cell_type": "markdown",
   "metadata": {},
   "source": [
    "No we have datasets of event components where one event was there"
   ]
  },
  {
   "cell_type": "code",
   "execution_count": 28,
   "metadata": {
    "collapsed": false
   },
   "outputs": [
    {
     "data": {
      "text/plain": [
       "(106008, 22)"
      ]
     },
     "execution_count": 28,
     "metadata": {},
     "output_type": "execute_result"
    }
   ],
   "source": [
    "df_1.shape"
   ]
  },
  {
   "cell_type": "markdown",
   "metadata": {},
   "source": [
    "## Events per domain"
   ]
  },
  {
   "cell_type": "markdown",
   "metadata": {},
   "source": [
    "Number of originally unique urls"
   ]
  },
  {
   "cell_type": "code",
   "execution_count": 29,
   "metadata": {
    "collapsed": false
   },
   "outputs": [
    {
     "data": {
      "text/plain": [
       "99975"
      ]
     },
     "execution_count": 29,
     "metadata": {},
     "output_type": "execute_result"
    }
   ],
   "source": [
    "df.url.unique().size"
   ]
  },
  {
   "cell_type": "markdown",
   "metadata": {},
   "source": [
    "Number of filtered urls with one event"
   ]
  },
  {
   "cell_type": "code",
   "execution_count": 30,
   "metadata": {
    "collapsed": false
   },
   "outputs": [
    {
     "data": {
      "text/plain": [
       "62152"
      ]
     },
     "execution_count": 30,
     "metadata": {},
     "output_type": "execute_result"
    }
   ],
   "source": [
    "df_1.url.unique().size"
   ]
  },
  {
   "cell_type": "markdown",
   "metadata": {},
   "source": [
    "Function which returns domain per url"
   ]
  },
  {
   "cell_type": "code",
   "execution_count": 31,
   "metadata": {
    "collapsed": true
   },
   "outputs": [],
   "source": [
    "def get_domain(url):\n",
    "    parts = url.split('//', 1)\n",
    "    return parts[1].split('/', 1)[0].replace('www.','')"
   ]
  },
  {
   "cell_type": "code",
   "execution_count": 32,
   "metadata": {
    "collapsed": false
   },
   "outputs": [],
   "source": [
    "df['domain'] = df.url.apply(get_domain)\n",
    "df_1['domain'] = df_1.url.apply(get_domain)"
   ]
  },
  {
   "cell_type": "markdown",
   "metadata": {},
   "source": [
    "Number of unique domains for original datasets"
   ]
  },
  {
   "cell_type": "code",
   "execution_count": 33,
   "metadata": {
    "collapsed": false
   },
   "outputs": [
    {
     "data": {
      "text/plain": [
       "4409"
      ]
     },
     "execution_count": 33,
     "metadata": {},
     "output_type": "execute_result"
    }
   ],
   "source": [
    "df.domain.unique().size"
   ]
  },
  {
   "cell_type": "markdown",
   "metadata": {},
   "source": [
    "Number of unique domains for urls with one event"
   ]
  },
  {
   "cell_type": "code",
   "execution_count": 34,
   "metadata": {
    "collapsed": false
   },
   "outputs": [
    {
     "data": {
      "text/plain": [
       "3865"
      ]
     },
     "execution_count": 34,
     "metadata": {},
     "output_type": "execute_result"
    }
   ],
   "source": [
    "df_1.domain.unique().size"
   ]
  },
  {
   "cell_type": "markdown",
   "metadata": {},
   "source": [
    "That means there are around 16 pages per one domain."
   ]
  },
  {
   "cell_type": "code",
   "execution_count": 35,
   "metadata": {
    "collapsed": false
   },
   "outputs": [
    {
     "data": {
      "text/plain": [
       "16.080724450194047"
      ]
     },
     "execution_count": 35,
     "metadata": {},
     "output_type": "execute_result"
    }
   ],
   "source": [
    "df_1.url.unique().size/df_1.domain.unique().size"
   ]
  },
  {
   "cell_type": "code",
   "execution_count": 36,
   "metadata": {
    "collapsed": true
   },
   "outputs": [],
   "source": [
    "df_1_dom_count = df_1.domain.value_counts().reset_index()\n",
    "df_1_dom_count.columns = ['domain', 'count_domain']"
   ]
  },
  {
   "cell_type": "code",
   "execution_count": 37,
   "metadata": {
    "collapsed": false
   },
   "outputs": [
    {
     "data": {
      "text/plain": [
       "<matplotlib.axes._subplots.AxesSubplot at 0x1176d1630>"
      ]
     },
     "execution_count": 37,
     "metadata": {},
     "output_type": "execute_result"
    },
    {
     "data": {
      "image/png": "[encoded data removed]",
      "text/plain": [
       "<matplotlib.figure.Figure at 0x10ff87cf8>"
      ]
     },
     "metadata": {},
     "output_type": "display_data"
    }
   ],
   "source": [
    "df_1_dom_count.count_domain.hist()"
   ]
  },
  {
   "cell_type": "code",
   "execution_count": 38,
   "metadata": {
    "collapsed": false
   },
   "outputs": [
    {
     "data": {
      "text/plain": [
       "<matplotlib.axes._subplots.AxesSubplot at 0x1177e6cc0>"
      ]
     },
     "execution_count": 38,
     "metadata": {},
     "output_type": "execute_result"
    },
    {
     "data": {
      "image/png": "[encoded data removed]",
      "text/plain": [
       "<matplotlib.figure.Figure at 0x1177a56d8>"
      ]
     },
     "metadata": {},
     "output_type": "display_data"
    }
   ],
   "source": [
    "df_1_dom_count.count_domain[df_1_dom_count.count_domain >= 100].hist()"
   ]
  },
  {
   "cell_type": "code",
   "execution_count": 39,
   "metadata": {
    "collapsed": false
   },
   "outputs": [
    {
     "data": {
      "text/plain": [
       "<matplotlib.axes._subplots.AxesSubplot at 0x1179570b8>"
      ]
     },
     "execution_count": 39,
     "metadata": {},
     "output_type": "execute_result"
    },
    {
     "data": {
      "image/png": "[encoded data removed]",
      "text/plain": [
       "<matplotlib.figure.Figure at 0x1179634e0>"
      ]
     },
     "metadata": {},
     "output_type": "display_data"
    }
   ],
   "source": [
    "df_1_dom_count.count_domain[df_1_dom_count.count_domain > 10][df_1_dom_count.count_domain < 500].hist()"
   ]
  },
  {
   "cell_type": "markdown",
   "metadata": {},
   "source": [
    "We will set the limit for thouse domains that have more than 100 pages"
   ]
  },
  {
   "cell_type": "code",
   "execution_count": 40,
   "metadata": {
    "collapsed": true
   },
   "outputs": [],
   "source": [
    "df_1_dom_count.count_domain[df_1_dom_count.count_domain > 100] = 100"
   ]
  },
  {
   "cell_type": "code",
   "execution_count": 41,
   "metadata": {
    "collapsed": false
   },
   "outputs": [
    {
     "data": {
      "text/plain": [
       "32212"
      ]
     },
     "execution_count": 41,
     "metadata": {},
     "output_type": "execute_result"
    }
   ],
   "source": [
    "df_1_dom_count.count_domain.sum()"
   ]
  },
  {
   "cell_type": "code",
   "execution_count": 42,
   "metadata": {
    "collapsed": false
   },
   "outputs": [
    {
     "data": {
      "text/plain": [
       "<matplotlib.axes._subplots.AxesSubplot at 0x1177c39b0>"
      ]
     },
     "execution_count": 42,
     "metadata": {},
     "output_type": "execute_result"
    },
    {
     "data": {
      "image/png": "[encoded data removed]",
      "text/plain": [
       "<matplotlib.figure.Figure at 0x10fa0eb70>"
      ]
     },
     "metadata": {},
     "output_type": "display_data"
    }
   ],
   "source": [
    "df_1_dom_count.count_domain.hist()"
   ]
  },
  {
   "cell_type": "code",
   "execution_count": 43,
   "metadata": {
    "collapsed": true
   },
   "outputs": [],
   "source": [
    "# return the number of domain with the cut\n",
    "def get_df_dom_count(df_1):\n",
    "    df_1_dom_count = df_1.domain.value_counts().reset_index()\n",
    "    df_1_dom_count.columns = ['domain', 'count_domain']\n",
    "    df_1_dom_count.count_domain[df_1_dom_count.count_domain > 100] = 100\n",
    "    return df_1_dom_count"
   ]
  },
  {
   "cell_type": "code",
   "execution_count": 44,
   "metadata": {
    "collapsed": true
   },
   "outputs": [],
   "source": [
    "df_1_dom_count = get_df_dom_count(df_1)"
   ]
  },
  {
   "cell_type": "code",
   "execution_count": 45,
   "metadata": {
    "collapsed": false
   },
   "outputs": [
    {
     "data": {
      "text/html": [
       "<div>\n",
       "<table border=\"1\" class=\"dataframe\">\n",
       "  <thead>\n",
       "    <tr style=\"text-align: right;\">\n",
       "      <th></th>\n",
       "      <th>domain</th>\n",
       "      <th>count_domain</th>\n",
       "    </tr>\n",
       "  </thead>\n",
       "  <tbody>\n",
       "    <tr>\n",
       "      <th>0</th>\n",
       "      <td>yardsales.net</td>\n",
       "      <td>100</td>\n",
       "    </tr>\n",
       "    <tr>\n",
       "      <th>1</th>\n",
       "      <td>bucuresteni.ro</td>\n",
       "      <td>100</td>\n",
       "    </tr>\n",
       "    <tr>\n",
       "      <th>2</th>\n",
       "      <td>hooversun.com</td>\n",
       "      <td>100</td>\n",
       "    </tr>\n",
       "    <tr>\n",
       "      <th>3</th>\n",
       "      <td>productpilot.com</td>\n",
       "      <td>100</td>\n",
       "    </tr>\n",
       "    <tr>\n",
       "      <th>4</th>\n",
       "      <td>ticketbis.com</td>\n",
       "      <td>100</td>\n",
       "    </tr>\n",
       "  </tbody>\n",
       "</table>\n",
       "</div>"
      ],
      "text/plain": [
       "             domain  count_domain\n",
       "0     yardsales.net           100\n",
       "1    bucuresteni.ro           100\n",
       "2     hooversun.com           100\n",
       "3  productpilot.com           100\n",
       "4     ticketbis.com           100"
      ]
     },
     "execution_count": 45,
     "metadata": {},
     "output_type": "execute_result"
    }
   ],
   "source": [
    "df_1_dom_count.head()"
   ]
  },
  {
   "cell_type": "markdown",
   "metadata": {},
   "source": [
    "### Remove URLs of those domains which are too frequent"
   ]
  },
  {
   "cell_type": "markdown",
   "metadata": {},
   "source": [
    "Some domains as we see are too frequent. Here we remove those pages"
   ]
  },
  {
   "cell_type": "code",
   "execution_count": 46,
   "metadata": {
    "collapsed": true
   },
   "outputs": [],
   "source": [
    "df_1_dom_count_100 = df_1_dom_count.domain[df_1_dom_count.count_domain == 100]\n",
    "\n",
    "def is_kept(s):\n",
    "    global df_1_dom_count_100\n",
    "    c = df_1_dom_count.count_domain[df_1_dom_count.domain == s].values[0]\n",
    "    if c != 0:\n",
    "        df_1_dom_count.count_domain[df_1_dom_count.domain == s] = c - 1\n",
    "        return 1\n",
    "    else:\n",
    "        return 0"
   ]
  },
  {
   "cell_type": "markdown",
   "metadata": {},
   "source": [
    "We separatr df_1 into two parts: with domains which have less than 100 pages and 100. First part we will keep without changes. Second part we will cut."
   ]
  },
  {
   "cell_type": "code",
   "execution_count": 47,
   "metadata": {
    "collapsed": false
   },
   "outputs": [
    {
     "data": {
      "text/plain": [
       "(111,)"
      ]
     },
     "execution_count": 47,
     "metadata": {},
     "output_type": "execute_result"
    }
   ],
   "source": [
    "df_1_dom_count_100.shape"
   ]
  },
  {
   "cell_type": "code",
   "execution_count": 48,
   "metadata": {
    "collapsed": false
   },
   "outputs": [
    {
     "data": {
      "text/plain": [
       "((84896, 23), (21112, 23))"
      ]
     },
     "execution_count": 48,
     "metadata": {},
     "output_type": "execute_result"
    }
   ],
   "source": [
    "df_1_100 = df_1[df_1.domain.isin(df_1_dom_count_100)]\n",
    "df_1_not_100 = df_1[~df_1.domain.isin(df_1_dom_count_100)]\n",
    "\n",
    "df_1_100.shape, df_1_not_100.shape"
   ]
  },
  {
   "cell_type": "markdown",
   "metadata": {},
   "source": [
    "We will keep or not to keep certain domain depending on how many times it already appeared."
   ]
  },
  {
   "cell_type": "code",
   "execution_count": null,
   "metadata": {
    "collapsed": true
   },
   "outputs": [],
   "source": [
    "# WARNING: time-consuming procedure, we keep the globabl variable df_1_dom_count \n",
    "# and stop when there is a limit for this particular domain\n",
    "\n",
    "df_1_100['keep'] = df_1_100.domain.apply(is_kept)\n",
    "df_1_not_100['keep'] = 1"
   ]
  },
  {
   "cell_type": "code",
   "execution_count": null,
   "metadata": {
    "collapsed": true
   },
   "outputs": [],
   "source": [
    "df_1_all = pd.concat(axis=0, objs=[df_1_100, df_1_not_100])"
   ]
  },
  {
   "cell_type": "code",
   "execution_count": null,
   "metadata": {
    "collapsed": true
   },
   "outputs": [],
   "source": [
    "df_1_final = df_1_all[df_1_all['keep'] == 1]"
   ]
  },
  {
   "cell_type": "code",
   "execution_count": null,
   "metadata": {
    "collapsed": false
   },
   "outputs": [],
   "source": [
    "df_1_final.head()"
   ]
  },
  {
   "cell_type": "code",
   "execution_count": null,
   "metadata": {
    "collapsed": false
   },
   "outputs": [],
   "source": [
    "df_1_final.shape"
   ]
  },
  {
   "cell_type": "code",
   "execution_count": null,
   "metadata": {
    "collapsed": false
   },
   "outputs": [],
   "source": [
    "df_1.shape"
   ]
  },
  {
   "cell_type": "code",
   "execution_count": null,
   "metadata": {
    "collapsed": false
   },
   "outputs": [],
   "source": [
    "df_1_final = df_1_final.drop(['one_event', 'domain', 'keep'], axis=1)"
   ]
  },
  {
   "cell_type": "markdown",
   "metadata": {},
   "source": [
    "Properties of the df_1_final dataset:\n",
    "  * It is cleaned (without zero - x, y, width, heigt vlues, without meta tags)\n",
    "  * It containes at most 100 different urls for one domain\n",
    "  * Every page contains only 1 event, the rest is removed\n",
    "  * Doesn't contain duplicates by numeric features"
   ]
  },
  {
   "cell_type": "code",
   "execution_count": null,
   "metadata": {
    "collapsed": false
   },
   "outputs": [],
   "source": [
    "data.shape"
   ]
  },
  {
   "cell_type": "markdown",
   "metadata": {},
   "source": [
    "We will keep event components and random elements in a differnet sets and clean them independently"
   ]
  },
  {
   "cell_type": "markdown",
   "metadata": {},
   "source": [
    "### Outliers subset of Event components"
   ]
  },
  {
   "cell_type": "code",
   "execution_count": null,
   "metadata": {
    "collapsed": true
   },
   "outputs": [],
   "source": [
    "cols = [col for col in df_1_final.columns if col not in ['num_siblings', 'x_coords', 'y_coords', 'height', 'width', 'block_height', 'block_width']]\n",
    "# first dataset, we won't change it\n",
    "data_out_text = df_1_final[cols]\n",
    "\n",
    "# in these two datasets we will look outliers\n",
    "data_out1 = df_1_final[['num_siblings', 'x_coords', 'y_coords', 'block_height', 'block_width']]\n",
    "data_out2 = df_1_final[['height', 'width']]"
   ]
  },
  {
   "cell_type": "code",
   "execution_count": null,
   "metadata": {
    "collapsed": false
   },
   "outputs": [],
   "source": [
    "data_out1.describe()"
   ]
  },
  {
   "cell_type": "markdown",
   "metadata": {},
   "source": [
    "Here a lot of \"-1\" which we added, so we will ignore them "
   ]
  },
  {
   "cell_type": "code",
   "execution_count": null,
   "metadata": {
    "collapsed": false
   },
   "outputs": [],
   "source": [
    "data_out2.describe()"
   ]
  },
  {
   "cell_type": "markdown",
   "metadata": {},
   "source": [
    "Remove negative numbers"
   ]
  },
  {
   "cell_type": "code",
   "execution_count": null,
   "metadata": {
    "collapsed": false
   },
   "outputs": [],
   "source": [
    "data_out1[data_out1 < 0] = np.nan"
   ]
  },
  {
   "cell_type": "code",
   "execution_count": null,
   "metadata": {
    "collapsed": false
   },
   "outputs": [],
   "source": [
    "data_out1.isnull().sum()"
   ]
  },
  {
   "cell_type": "markdown",
   "metadata": {},
   "source": [
    "In here -1 means auto, so it's ok"
   ]
  },
  {
   "cell_type": "code",
   "execution_count": null,
   "metadata": {
    "collapsed": true
   },
   "outputs": [],
   "source": [
    "data_out2[data_out2 < -1] = np.nan"
   ]
  },
  {
   "cell_type": "code",
   "execution_count": null,
   "metadata": {
    "collapsed": false
   },
   "outputs": [],
   "source": [
    "data_out2.isnull().sum()"
   ]
  },
  {
   "cell_type": "code",
   "execution_count": null,
   "metadata": {
    "collapsed": false
   },
   "outputs": [],
   "source": [
    "data_out1.describe()"
   ]
  },
  {
   "cell_type": "code",
   "execution_count": null,
   "metadata": {
    "collapsed": false
   },
   "outputs": [],
   "source": [
    "data_out2.describe()"
   ]
  },
  {
   "cell_type": "markdown",
   "metadata": {},
   "source": [
    "Let's write a function which set NaN for outiers, we will use IQR range. "
   ]
  },
  {
   "cell_type": "code",
   "execution_count": null,
   "metadata": {
    "collapsed": true
   },
   "outputs": [],
   "source": [
    "def outliers_to_nan(series):\n",
    "    series_sorted = series.sort_values()\n",
    "    series_sorted = series_sorted.dropna()\n",
    "    Q1 = series_sorted.quantile(0.10)\n",
    "    Q3 = series_sorted.quantile(0.90)\n",
    "    IQR = Q3 - Q1\n",
    "    series[series >= Q3 + 1.5 * IQR] = np.nan\n",
    "    series[series <= Q1 - 1.5 * IQR] = np.nan\n",
    "    return series"
   ]
  },
  {
   "cell_type": "code",
   "execution_count": null,
   "metadata": {
    "collapsed": false
   },
   "outputs": [],
   "source": [
    "data_out1_cl = data_out1.apply(outliers_to_nan)\n",
    "data_out1_cl.isnull().sum()"
   ]
  },
  {
   "cell_type": "code",
   "execution_count": null,
   "metadata": {
    "collapsed": false
   },
   "outputs": [],
   "source": [
    "data_out1_cl.describe()"
   ]
  },
  {
   "cell_type": "code",
   "execution_count": null,
   "metadata": {
    "collapsed": true
   },
   "outputs": [],
   "source": [
    "data_out_22 = data_out2"
   ]
  },
  {
   "cell_type": "code",
   "execution_count": null,
   "metadata": {
    "collapsed": true
   },
   "outputs": [],
   "source": [
    "data_out2_without_auto = data_out2"
   ]
  },
  {
   "cell_type": "markdown",
   "metadata": {},
   "source": [
    "We keep indecies to put them later"
   ]
  },
  {
   "cell_type": "code",
   "execution_count": null,
   "metadata": {
    "collapsed": true
   },
   "outputs": [],
   "source": [
    "idx_auto_width = data_out2.width == -1\n",
    "idx_auto_height = data_out2.height == -1"
   ]
  },
  {
   "cell_type": "code",
   "execution_count": null,
   "metadata": {
    "collapsed": false
   },
   "outputs": [],
   "source": [
    "data_out2_without_auto[data_out2_without_auto == -1] = np.nan"
   ]
  },
  {
   "cell_type": "code",
   "execution_count": null,
   "metadata": {
    "collapsed": false
   },
   "outputs": [],
   "source": [
    "data_out2_cl = data_out2_without_auto.apply(outliers_to_nan)\n",
    "data_out2_cl.isnull().sum()"
   ]
  },
  {
   "cell_type": "code",
   "execution_count": null,
   "metadata": {
    "collapsed": false
   },
   "outputs": [],
   "source": [
    "data_out2_cl.ix[idx_auto_width, 'width'] = -1\n",
    "data_out2_cl.ix[idx_auto_height, 'height'] = -1"
   ]
  },
  {
   "cell_type": "code",
   "execution_count": null,
   "metadata": {
    "collapsed": false
   },
   "outputs": [],
   "source": [
    "data_out2_cl.isnull().sum()"
   ]
  },
  {
   "cell_type": "markdown",
   "metadata": {},
   "source": [
    "At this point we consider subset of Event components and:\n",
    "\n",
    "* data_out1_cl - sub dataset of ['num_siblings', 'x_coords', 'y_coords', 'block_height', 'block_width'] where NaN is outlier\n",
    "* data_out2_cl - sub dataset of ['height', 'width'] where NaN is outlier\n",
    "\n",
    "Less than 500 outliers in every column"
   ]
  },
  {
   "cell_type": "code",
   "execution_count": null,
   "metadata": {
    "collapsed": true
   },
   "outputs": [],
   "source": [
    "data_event_clean = pd.concat([data_out_text, data_out1_cl, data_out2_cl], axis=1)"
   ]
  },
  {
   "cell_type": "code",
   "execution_count": null,
   "metadata": {
    "collapsed": false
   },
   "outputs": [],
   "source": [
    "data_event_clean.head()"
   ]
  },
  {
   "cell_type": "code",
   "execution_count": null,
   "metadata": {
    "collapsed": false
   },
   "outputs": [],
   "source": [
    "data_event_clean.shape"
   ]
  },
  {
   "cell_type": "code",
   "execution_count": null,
   "metadata": {
    "collapsed": false
   },
   "outputs": [],
   "source": [
    "data_event_clean.describe()"
   ]
  },
  {
   "cell_type": "markdown",
   "metadata": {},
   "source": [
    "### Outliers subset of random web elements"
   ]
  },
  {
   "cell_type": "code",
   "execution_count": null,
   "metadata": {
    "collapsed": true
   },
   "outputs": [],
   "source": [
    "df_not_event = data[data.meta_name == 'not_event_element']"
   ]
  },
  {
   "cell_type": "code",
   "execution_count": null,
   "metadata": {
    "collapsed": false
   },
   "outputs": [],
   "source": [
    "df_not_event_num.describe()"
   ]
  },
  {
   "cell_type": "code",
   "execution_count": null,
   "metadata": {
    "collapsed": true
   },
   "outputs": [],
   "source": [
    "# prepare data for outliers\n",
    "cols = [col for col in df_not_event.columns if col not in ['num_siblings', 'x_coords', 'y_coords', 'height', 'width', 'block_height', 'block_width']]\n",
    "# first dataset, we won't change it\n",
    "data_out_text = df_not_event[cols]\n",
    "\n",
    "data_out1 = df_not_event[['num_siblings', 'x_coords', 'y_coords', 'block_height', 'block_width']]\n",
    "data_out2 = df_not_event[['height', 'width']]\n",
    "\n",
    "# fill negative values\n",
    "data_out1[data_out1 < 0] = np.nan\n",
    "data_out2[data_out2 < -1] = np.nan\n",
    "\n",
    "# remove outliers for the first set\n",
    "data_out1_cl = data_out1.apply(outliers_to_nan)\n",
    "\n",
    "# keep -1 for auto in these CSS proeprties\n",
    "data_out2_without_auto = data_out2\n",
    "idx_auto_width = data_out2.width == -1\n",
    "idx_auto_height = data_out2.height == -1\n",
    "\n",
    "# remove outliers for the second set\n",
    "data_out2_without_auto[data_out2_without_auto == -1] = np.nan\n",
    "data_out2_cl = data_out2_without_auto.apply(outliers_to_nan)\n",
    "\n",
    "# fill those NaN with -1 again with -1\n",
    "data_out2_cl.ix[idx_auto_width, 'width'] = -1\n",
    "data_out2_cl.ix[idx_auto_height, 'height'] = -1"
   ]
  },
  {
   "cell_type": "code",
   "execution_count": null,
   "metadata": {
    "collapsed": false
   },
   "outputs": [],
   "source": [
    "data_out1_cl.isnull().sum()"
   ]
  },
  {
   "cell_type": "code",
   "execution_count": null,
   "metadata": {
    "collapsed": false
   },
   "outputs": [],
   "source": [
    "data_out2_cl.isnull().sum()"
   ]
  },
  {
   "cell_type": "markdown",
   "metadata": {},
   "source": [
    "At this point we consider subset of All elements from a page and:\n",
    "\n",
    "* data_out1_cl - sub dataset of ['num_siblings', 'x_coords', 'y_coords', 'block_height', 'block_width'] where NaN is outlier\n",
    "* data_out2_cl - sub dataset of ['height', 'width'] where NaN is outlier\n",
    "\n",
    "Less than 500 outliers in every column"
   ]
  },
  {
   "cell_type": "code",
   "execution_count": null,
   "metadata": {
    "collapsed": true
   },
   "outputs": [],
   "source": [
    "data_all_clean = pd.concat([data_out_text, data_out1_cl, data_out2_cl], axis=1)"
   ]
  },
  {
   "cell_type": "code",
   "execution_count": null,
   "metadata": {
    "collapsed": false
   },
   "outputs": [],
   "source": [
    "data_all_clean.shape"
   ]
  },
  {
   "cell_type": "code",
   "execution_count": null,
   "metadata": {
    "collapsed": false
   },
   "outputs": [],
   "source": [
    "data_all_clean.head()"
   ]
  },
  {
   "cell_type": "code",
   "execution_count": null,
   "metadata": {
    "collapsed": false
   },
   "outputs": [],
   "source": [
    "data_all_clean.describe()"
   ]
  },
  {
   "cell_type": "markdown",
   "metadata": {},
   "source": [
    "We will do the same operations for this set. "
   ]
  },
  {
   "cell_type": "markdown",
   "metadata": {},
   "source": [
    "### Combine data  from Event component and All elemetns"
   ]
  },
  {
   "cell_type": "code",
   "execution_count": null,
   "metadata": {
    "collapsed": false
   },
   "outputs": [],
   "source": [
    "data_event_clean.shape"
   ]
  },
  {
   "cell_type": "code",
   "execution_count": null,
   "metadata": {
    "collapsed": false
   },
   "outputs": [],
   "source": [
    "data_all_clean.shape"
   ]
  },
  {
   "cell_type": "code",
   "execution_count": null,
   "metadata": {
    "collapsed": true
   },
   "outputs": [],
   "source": [
    "data_clean_with_nan = pd.concat([data_event_clean, data_all_clean])"
   ]
  },
  {
   "cell_type": "code",
   "execution_count": null,
   "metadata": {
    "collapsed": false
   },
   "outputs": [],
   "source": [
    "data_clean_with_nan.shape"
   ]
  },
  {
   "cell_type": "code",
   "execution_count": null,
   "metadata": {
    "collapsed": false
   },
   "outputs": [],
   "source": [
    "data_clean_with_nan.head()"
   ]
  },
  {
   "cell_type": "code",
   "execution_count": null,
   "metadata": {
    "collapsed": false
   },
   "outputs": [],
   "source": [
    "data_clean_with_nan.describe()"
   ]
  },
  {
   "cell_type": "code",
   "execution_count": null,
   "metadata": {
    "collapsed": true
   },
   "outputs": [],
   "source": [
    "DATA_NUM_CL_WITH_NAN = data_clean_with_nan"
   ]
  },
  {
   "cell_type": "code",
   "execution_count": null,
   "metadata": {
    "collapsed": false
   },
   "outputs": [],
   "source": [
    "%store DATA_NUM_CL_WITH_NAN"
   ]
  },
  {
   "cell_type": "code",
   "execution_count": null,
   "metadata": {
    "collapsed": false
   },
   "outputs": [],
   "source": [
    "DATA_NUM_CL_WITH_NAN.shape"
   ]
  },
  {
   "cell_type": "markdown",
   "metadata": {},
   "source": [
    "Properties of DATA_NUM_CL_WITH_NAN:\n",
    "* all numerical features are numeric\n",
    "* NaN in the place of outliers for futher processing\n",
    "* Page with single event\n",
    "* Pages from frequent domains are removed"
   ]
  },
  {
   "cell_type": "code",
   "execution_count": null,
   "metadata": {
    "collapsed": true
   },
   "outputs": [],
   "source": [
    "import h5py\n",
    "DATA_NUM_CL_WITH_NAN.to_hdf('store.h5', 'DATA_NUM_CL_WITH_NAN')"
   ]
  },
  {
   "cell_type": "code",
   "execution_count": null,
   "metadata": {
    "collapsed": true
   },
   "outputs": [],
   "source": []
  }
 ],
 "metadata": {
  "anaconda-cloud": {},
  "kernelspec": {
   "display_name": "Python [default]",
   "language": "python",
   "name": "python3"
  },
  "language_info": {
   "codemirror_mode": {
    "name": "ipython",
    "version": 3
   },
   "file_extension": ".py",
   "mimetype": "text/x-python",
   "name": "python",
   "nbconvert_exporter": "python",
   "pygments_lexer": "ipython3",
   "version": "3.5.2"
  }
 },
 "nbformat": 4,
 "nbformat_minor": 1
}
