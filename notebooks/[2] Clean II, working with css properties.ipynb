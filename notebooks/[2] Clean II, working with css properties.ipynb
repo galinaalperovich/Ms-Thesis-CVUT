{
 "cells": [
  {
   "cell_type": "code",
   "execution_count": 22,
   "metadata": {
    "collapsed": true
   },
   "outputs": [],
   "source": [
    "%matplotlib inline\n",
    "import pandas as pd\n",
    "import numpy as np"
   ]
  },
  {
   "cell_type": "code",
   "execution_count": 2,
   "metadata": {
    "collapsed": true
   },
   "outputs": [],
   "source": [
    "from sklearn.preprocessing import LabelEncoder"
   ]
  },
  {
   "cell_type": "markdown",
   "metadata": {},
   "source": [
    "# Cleaning 2: processing CSS features"
   ]
  },
  {
   "cell_type": "markdown",
   "metadata": {},
   "source": [
    "In this notebook we will process data from previose notebook 'Upload_prepare_data [1 step - cleaned]'. \n",
    "Here we will do the follwing:\n",
    "* remove unnecessary CSS properties\n",
    "* create label encoding for every categorucal feature\n",
    "* remove duplicate features\n",
    "* replace standard textual values of CSS properties with numeric ones\n",
    "* see summary statistics for all numeric and categoriacal features"
   ]
  },
  {
   "cell_type": "code",
   "execution_count": 35,
   "metadata": {
    "collapsed": false
   },
   "outputs": [],
   "source": [
    "%store -r DATA_CL"
   ]
  },
  {
   "cell_type": "code",
   "execution_count": 36,
   "metadata": {
    "collapsed": false
   },
   "outputs": [],
   "source": [
    "data = DATA_CL"
   ]
  },
  {
   "cell_type": "code",
   "execution_count": 37,
   "metadata": {
    "collapsed": false
   },
   "outputs": [
    {
     "data": {
      "text/plain": [
       "(291030, 297)"
      ]
     },
     "execution_count": 37,
     "metadata": {},
     "output_type": "execute_result"
    }
   ],
   "source": [
    "data.shape"
   ]
  },
  {
   "cell_type": "markdown",
   "metadata": {},
   "source": [
    "Count missing values per columns"
   ]
  },
  {
   "cell_type": "code",
   "execution_count": 38,
   "metadata": {
    "collapsed": false
   },
   "outputs": [
    {
     "data": {
      "text/plain": [
       "url                                       0\n",
       "meta_name                                 1\n",
       "text                                    942\n",
       "x_coords                                  1\n",
       "y_coords                                  1\n",
       "block_height                              1\n",
       "block_width                               2\n",
       "tag                                     762\n",
       "num_child                            135866\n",
       "num_siblings                              2\n",
       "border-top-width                          2\n",
       "table-layout                              2\n",
       "-webkit-shape-margin                      2\n",
       "-webkit-flow-into                         2\n",
       "-webkit-animation-iteration-count         2\n",
       "min-height                                2\n",
       "-webkit-region-fragment                   2\n",
       "-webkit-highlight                         2\n",
       "-webkit-column-rule-width                 2\n",
       "-webkit-rtl-ordering                      2\n",
       "background-size                           2\n",
       "font-size                                 2\n",
       "text-shadow                               2\n",
       "-webkit-user-drag                         2\n",
       "-webkit-box-flex                          2\n",
       "clear                                     2\n",
       "-webkit-mask-box-image-width              2\n",
       "color                                     2\n",
       "-webkit-border-vertical-spacing           2\n",
       "-webkit-background-composite              2\n",
       "                                      ...  \n",
       "fill                                      9\n",
       "page-break-before                         9\n",
       "-webkit-animation-fill-mode               9\n",
       "-webkit-column-break-after                9\n",
       "font-variant                              9\n",
       "clip                                      9\n",
       "border-top-right-radius                   9\n",
       "-webkit-print-color-adjust                9\n",
       "empty-cells                              10\n",
       "word-spacing                             10\n",
       "-webkit-line-break                       10\n",
       "lighting-color                           10\n",
       "-webkit-text-fill-color                  10\n",
       "transition-delay                         10\n",
       "border-right-width                       10\n",
       "position                                 10\n",
       "flood-opacity                            10\n",
       "-webkit-text-combine                     10\n",
       "-webkit-font-variant-ligatures           10\n",
       "mask                                     10\n",
       "white-space                              10\n",
       "-webkit-box-lines                        10\n",
       "-webkit-animation-name                   10\n",
       "-webkit-align-items                      10\n",
       "page-break-inside                        10\n",
       "-webkit-grid-auto-rows                   10\n",
       "-webkit-clip-path                        10\n",
       "max-height                               10\n",
       "stroke-width                             10\n",
       "buffered-rendering                       10\n",
       "dtype: int64"
      ]
     },
     "execution_count": 38,
     "metadata": {},
     "output_type": "execute_result"
    }
   ],
   "source": [
    "data.isnull().sum()"
   ]
  },
  {
   "cell_type": "code",
   "execution_count": 39,
   "metadata": {
    "collapsed": false
   },
   "outputs": [],
   "source": [
    "# del data['num_child']"
   ]
  },
  {
   "cell_type": "markdown",
   "metadata": {},
   "source": [
    "Remove NA"
   ]
  },
  {
   "cell_type": "code",
   "execution_count": 40,
   "metadata": {
    "collapsed": false
   },
   "outputs": [],
   "source": [
    "data = data.dropna(subset=['block_width', 'text'])"
   ]
  },
  {
   "cell_type": "markdown",
   "metadata": {},
   "source": [
    "Fill tag with no_tag value"
   ]
  },
  {
   "cell_type": "code",
   "execution_count": 41,
   "metadata": {
    "collapsed": false
   },
   "outputs": [
    {
     "name": "stderr",
     "output_type": "stream",
     "text": [
      "/Users/jetbrains/miniconda3/lib/python3.5/site-packages/pandas/core/generic.py:2701: SettingWithCopyWarning: \n",
      "A value is trying to be set on a copy of a slice from a DataFrame.\n",
      "Try using .loc[row_indexer,col_indexer] = value instead\n",
      "\n",
      "See the caveats in the documentation: http://pandas.pydata.org/pandas-docs/stable/indexing.html#indexing-view-versus-copy\n",
      "  self[name] = value\n"
     ]
    }
   ],
   "source": [
    "data.tag = data.tag.fillna('no_tag')"
   ]
  },
  {
   "cell_type": "code",
   "execution_count": 42,
   "metadata": {
    "collapsed": false
   },
   "outputs": [
    {
     "data": {
      "text/plain": [
       "(290087, 297)"
      ]
     },
     "execution_count": 42,
     "metadata": {},
     "output_type": "execute_result"
    }
   ],
   "source": [
    "data.shape"
   ]
  },
  {
   "cell_type": "markdown",
   "metadata": {},
   "source": [
    "Remove small anount of rows which still have NA (around 10 rows)"
   ]
  },
  {
   "cell_type": "code",
   "execution_count": 43,
   "metadata": {
    "collapsed": true
   },
   "outputs": [],
   "source": [
    "data = data.dropna()"
   ]
  },
  {
   "cell_type": "markdown",
   "metadata": {},
   "source": [
    "## Missing values"
   ]
  },
  {
   "cell_type": "code",
   "execution_count": 44,
   "metadata": {
    "collapsed": true
   },
   "outputs": [],
   "source": [
    "def get_na_stat(data):\n",
    "    na_count_col = data.isnull().sum()\n",
    "    df = na_count_col.to_frame()\n",
    "    return df.sort_index()"
   ]
  },
  {
   "cell_type": "code",
   "execution_count": 45,
   "metadata": {
    "collapsed": false
   },
   "outputs": [
    {
     "data": {
      "text/html": [
       "<div>\n",
       "<table border=\"1\" class=\"dataframe\">\n",
       "  <thead>\n",
       "    <tr style=\"text-align: right;\">\n",
       "      <th></th>\n",
       "      <th>0</th>\n",
       "    </tr>\n",
       "  </thead>\n",
       "  <tbody>\n",
       "    <tr>\n",
       "      <th>-webkit-align-content</th>\n",
       "      <td>0</td>\n",
       "    </tr>\n",
       "    <tr>\n",
       "      <th>-webkit-align-items</th>\n",
       "      <td>0</td>\n",
       "    </tr>\n",
       "    <tr>\n",
       "      <th>-webkit-align-self</th>\n",
       "      <td>0</td>\n",
       "    </tr>\n",
       "    <tr>\n",
       "      <th>-webkit-animation-delay</th>\n",
       "      <td>0</td>\n",
       "    </tr>\n",
       "    <tr>\n",
       "      <th>-webkit-animation-direction</th>\n",
       "      <td>0</td>\n",
       "    </tr>\n",
       "    <tr>\n",
       "      <th>-webkit-animation-duration</th>\n",
       "      <td>0</td>\n",
       "    </tr>\n",
       "    <tr>\n",
       "      <th>-webkit-animation-fill-mode</th>\n",
       "      <td>0</td>\n",
       "    </tr>\n",
       "    <tr>\n",
       "      <th>-webkit-animation-iteration-count</th>\n",
       "      <td>0</td>\n",
       "    </tr>\n",
       "    <tr>\n",
       "      <th>-webkit-animation-name</th>\n",
       "      <td>0</td>\n",
       "    </tr>\n",
       "    <tr>\n",
       "      <th>-webkit-animation-play-state</th>\n",
       "      <td>0</td>\n",
       "    </tr>\n",
       "    <tr>\n",
       "      <th>-webkit-animation-timing-function</th>\n",
       "      <td>0</td>\n",
       "    </tr>\n",
       "    <tr>\n",
       "      <th>-webkit-appearance</th>\n",
       "      <td>0</td>\n",
       "    </tr>\n",
       "    <tr>\n",
       "      <th>-webkit-backface-visibility</th>\n",
       "      <td>0</td>\n",
       "    </tr>\n",
       "    <tr>\n",
       "      <th>-webkit-background-blend-mode</th>\n",
       "      <td>0</td>\n",
       "    </tr>\n",
       "    <tr>\n",
       "      <th>-webkit-background-clip</th>\n",
       "      <td>0</td>\n",
       "    </tr>\n",
       "    <tr>\n",
       "      <th>-webkit-background-composite</th>\n",
       "      <td>0</td>\n",
       "    </tr>\n",
       "    <tr>\n",
       "      <th>-webkit-background-origin</th>\n",
       "      <td>0</td>\n",
       "    </tr>\n",
       "    <tr>\n",
       "      <th>-webkit-background-size</th>\n",
       "      <td>0</td>\n",
       "    </tr>\n",
       "    <tr>\n",
       "      <th>-webkit-blend-mode</th>\n",
       "      <td>0</td>\n",
       "    </tr>\n",
       "    <tr>\n",
       "      <th>-webkit-border-fit</th>\n",
       "      <td>0</td>\n",
       "    </tr>\n",
       "    <tr>\n",
       "      <th>-webkit-border-horizontal-spacing</th>\n",
       "      <td>0</td>\n",
       "    </tr>\n",
       "    <tr>\n",
       "      <th>-webkit-border-image</th>\n",
       "      <td>0</td>\n",
       "    </tr>\n",
       "    <tr>\n",
       "      <th>-webkit-border-vertical-spacing</th>\n",
       "      <td>0</td>\n",
       "    </tr>\n",
       "    <tr>\n",
       "      <th>-webkit-box-align</th>\n",
       "      <td>0</td>\n",
       "    </tr>\n",
       "    <tr>\n",
       "      <th>-webkit-box-decoration-break</th>\n",
       "      <td>0</td>\n",
       "    </tr>\n",
       "    <tr>\n",
       "      <th>-webkit-box-direction</th>\n",
       "      <td>0</td>\n",
       "    </tr>\n",
       "    <tr>\n",
       "      <th>-webkit-box-flex</th>\n",
       "      <td>0</td>\n",
       "    </tr>\n",
       "    <tr>\n",
       "      <th>-webkit-box-flex-group</th>\n",
       "      <td>0</td>\n",
       "    </tr>\n",
       "    <tr>\n",
       "      <th>-webkit-box-lines</th>\n",
       "      <td>0</td>\n",
       "    </tr>\n",
       "    <tr>\n",
       "      <th>-webkit-box-ordinal-group</th>\n",
       "      <td>0</td>\n",
       "    </tr>\n",
       "    <tr>\n",
       "      <th>...</th>\n",
       "      <td>...</td>\n",
       "    </tr>\n",
       "    <tr>\n",
       "      <th>text</th>\n",
       "      <td>0</td>\n",
       "    </tr>\n",
       "    <tr>\n",
       "      <th>text-align</th>\n",
       "      <td>0</td>\n",
       "    </tr>\n",
       "    <tr>\n",
       "      <th>text-anchor</th>\n",
       "      <td>0</td>\n",
       "    </tr>\n",
       "    <tr>\n",
       "      <th>text-decoration</th>\n",
       "      <td>0</td>\n",
       "    </tr>\n",
       "    <tr>\n",
       "      <th>text-indent</th>\n",
       "      <td>0</td>\n",
       "    </tr>\n",
       "    <tr>\n",
       "      <th>text-overflow</th>\n",
       "      <td>0</td>\n",
       "    </tr>\n",
       "    <tr>\n",
       "      <th>text-rendering</th>\n",
       "      <td>0</td>\n",
       "    </tr>\n",
       "    <tr>\n",
       "      <th>text-shadow</th>\n",
       "      <td>0</td>\n",
       "    </tr>\n",
       "    <tr>\n",
       "      <th>text-transform</th>\n",
       "      <td>0</td>\n",
       "    </tr>\n",
       "    <tr>\n",
       "      <th>top</th>\n",
       "      <td>0</td>\n",
       "    </tr>\n",
       "    <tr>\n",
       "      <th>transition-delay</th>\n",
       "      <td>0</td>\n",
       "    </tr>\n",
       "    <tr>\n",
       "      <th>transition-duration</th>\n",
       "      <td>0</td>\n",
       "    </tr>\n",
       "    <tr>\n",
       "      <th>transition-property</th>\n",
       "      <td>0</td>\n",
       "    </tr>\n",
       "    <tr>\n",
       "      <th>transition-timing-function</th>\n",
       "      <td>0</td>\n",
       "    </tr>\n",
       "    <tr>\n",
       "      <th>unicode-bidi</th>\n",
       "      <td>0</td>\n",
       "    </tr>\n",
       "    <tr>\n",
       "      <th>url</th>\n",
       "      <td>0</td>\n",
       "    </tr>\n",
       "    <tr>\n",
       "      <th>vector-effect</th>\n",
       "      <td>0</td>\n",
       "    </tr>\n",
       "    <tr>\n",
       "      <th>vertical-align</th>\n",
       "      <td>0</td>\n",
       "    </tr>\n",
       "    <tr>\n",
       "      <th>visibility</th>\n",
       "      <td>0</td>\n",
       "    </tr>\n",
       "    <tr>\n",
       "      <th>white-space</th>\n",
       "      <td>0</td>\n",
       "    </tr>\n",
       "    <tr>\n",
       "      <th>widows</th>\n",
       "      <td>0</td>\n",
       "    </tr>\n",
       "    <tr>\n",
       "      <th>width</th>\n",
       "      <td>0</td>\n",
       "    </tr>\n",
       "    <tr>\n",
       "      <th>word-break</th>\n",
       "      <td>0</td>\n",
       "    </tr>\n",
       "    <tr>\n",
       "      <th>word-spacing</th>\n",
       "      <td>0</td>\n",
       "    </tr>\n",
       "    <tr>\n",
       "      <th>word-wrap</th>\n",
       "      <td>0</td>\n",
       "    </tr>\n",
       "    <tr>\n",
       "      <th>writing-mode</th>\n",
       "      <td>0</td>\n",
       "    </tr>\n",
       "    <tr>\n",
       "      <th>x_coords</th>\n",
       "      <td>0</td>\n",
       "    </tr>\n",
       "    <tr>\n",
       "      <th>y_coords</th>\n",
       "      <td>0</td>\n",
       "    </tr>\n",
       "    <tr>\n",
       "      <th>z-index</th>\n",
       "      <td>0</td>\n",
       "    </tr>\n",
       "    <tr>\n",
       "      <th>zoom</th>\n",
       "      <td>0</td>\n",
       "    </tr>\n",
       "  </tbody>\n",
       "</table>\n",
       "<p>297 rows × 1 columns</p>\n",
       "</div>"
      ],
      "text/plain": [
       "                                   0\n",
       "-webkit-align-content              0\n",
       "-webkit-align-items                0\n",
       "-webkit-align-self                 0\n",
       "-webkit-animation-delay            0\n",
       "-webkit-animation-direction        0\n",
       "-webkit-animation-duration         0\n",
       "-webkit-animation-fill-mode        0\n",
       "-webkit-animation-iteration-count  0\n",
       "-webkit-animation-name             0\n",
       "-webkit-animation-play-state       0\n",
       "-webkit-animation-timing-function  0\n",
       "-webkit-appearance                 0\n",
       "-webkit-backface-visibility        0\n",
       "-webkit-background-blend-mode      0\n",
       "-webkit-background-clip            0\n",
       "-webkit-background-composite       0\n",
       "-webkit-background-origin          0\n",
       "-webkit-background-size            0\n",
       "-webkit-blend-mode                 0\n",
       "-webkit-border-fit                 0\n",
       "-webkit-border-horizontal-spacing  0\n",
       "-webkit-border-image               0\n",
       "-webkit-border-vertical-spacing    0\n",
       "-webkit-box-align                  0\n",
       "-webkit-box-decoration-break       0\n",
       "-webkit-box-direction              0\n",
       "-webkit-box-flex                   0\n",
       "-webkit-box-flex-group             0\n",
       "-webkit-box-lines                  0\n",
       "-webkit-box-ordinal-group          0\n",
       "...                               ..\n",
       "text                               0\n",
       "text-align                         0\n",
       "text-anchor                        0\n",
       "text-decoration                    0\n",
       "text-indent                        0\n",
       "text-overflow                      0\n",
       "text-rendering                     0\n",
       "text-shadow                        0\n",
       "text-transform                     0\n",
       "top                                0\n",
       "transition-delay                   0\n",
       "transition-duration                0\n",
       "transition-property                0\n",
       "transition-timing-function         0\n",
       "unicode-bidi                       0\n",
       "url                                0\n",
       "vector-effect                      0\n",
       "vertical-align                     0\n",
       "visibility                         0\n",
       "white-space                        0\n",
       "widows                             0\n",
       "width                              0\n",
       "word-break                         0\n",
       "word-spacing                       0\n",
       "word-wrap                          0\n",
       "writing-mode                       0\n",
       "x_coords                           0\n",
       "y_coords                           0\n",
       "z-index                            0\n",
       "zoom                               0\n",
       "\n",
       "[297 rows x 1 columns]"
      ]
     },
     "execution_count": 45,
     "metadata": {},
     "output_type": "execute_result"
    }
   ],
   "source": [
    "na_count_col = get_na_stat(data)\n",
    "na_count_col"
   ]
  },
  {
   "cell_type": "markdown",
   "metadata": {},
   "source": [
    "## Working with CSS subset"
   ]
  },
  {
   "cell_type": "code",
   "execution_count": 46,
   "metadata": {
    "collapsed": false
   },
   "outputs": [],
   "source": [
    "css = data.iloc[:,9:]"
   ]
  },
  {
   "cell_type": "code",
   "execution_count": 47,
   "metadata": {
    "collapsed": false
   },
   "outputs": [
    {
     "data": {
      "text/plain": [
       "(154240, 288)"
      ]
     },
     "execution_count": 47,
     "metadata": {},
     "output_type": "execute_result"
    }
   ],
   "source": [
    "css.shape"
   ]
  },
  {
   "cell_type": "markdown",
   "metadata": {},
   "source": [
    "### Unique values of CSS properties"
   ]
  },
  {
   "cell_type": "markdown",
   "metadata": {},
   "source": [
    "Calculate number of unique values for every column"
   ]
  },
  {
   "cell_type": "code",
   "execution_count": 48,
   "metadata": {
    "collapsed": false
   },
   "outputs": [],
   "source": [
    "unique_css_val = pd.DataFrame(css.apply(lambda x: len(x.unique())), columns=['val']).reset_index().sort_values(by=['val'])"
   ]
  },
  {
   "cell_type": "markdown",
   "metadata": {},
   "source": [
    "We have a lot of properties with only one uniqe values, let's remove them"
   ]
  },
  {
   "cell_type": "code",
   "execution_count": 49,
   "metadata": {
    "collapsed": false
   },
   "outputs": [
    {
     "data": {
      "text/plain": [
       "(181, 2)"
      ]
     },
     "execution_count": 49,
     "metadata": {},
     "output_type": "execute_result"
    }
   ],
   "source": [
    "unique_css_val[unique_css_val.val.isin([1, 3, 4])].shape"
   ]
  },
  {
   "cell_type": "code",
   "execution_count": 50,
   "metadata": {
    "collapsed": false
   },
   "outputs": [
    {
     "data": {
      "text/plain": [
       "1       153\n",
       "2        36\n",
       "4        15\n",
       "3        13\n",
       "10        8\n",
       "5         7\n",
       "1807      5\n",
       "8         5\n",
       "7         3\n",
       "8600      2\n",
       "53        2\n",
       "68        2\n",
       "16        2\n",
       "15        2\n",
       "13        2\n",
       "9         2\n",
       "6         2\n",
       "14        1\n",
       "11        1\n",
       "27        1\n",
       "21        1\n",
       "22        1\n",
       "23        1\n",
       "24        1\n",
       "1519      1\n",
       "46        1\n",
       "149       1\n",
       "1829      1\n",
       "1816      1\n",
       "1815      1\n",
       "1810      1\n",
       "1808      1\n",
       "268       1\n",
       "1228      1\n",
       "147       1\n",
       "1517      1\n",
       "109       1\n",
       "107       1\n",
       "99        1\n",
       "95        1\n",
       "70        1\n",
       "65        1\n",
       "60        1\n",
       "50        1\n",
       "Name: val, dtype: int64"
      ]
     },
     "execution_count": 50,
     "metadata": {},
     "output_type": "execute_result"
    }
   ],
   "source": [
    "unique_css_val.val.value_counts()"
   ]
  },
  {
   "cell_type": "code",
   "execution_count": 51,
   "metadata": {
    "collapsed": false
   },
   "outputs": [],
   "source": [
    "css_col_1_3_4_val = unique_css_val[unique_css_val.val.isin([1, 3, 4])].index.values"
   ]
  },
  {
   "cell_type": "code",
   "execution_count": 52,
   "metadata": {
    "collapsed": false
   },
   "outputs": [
    {
     "data": {
      "text/html": [
       "<div>\n",
       "<table border=\"1\" class=\"dataframe\">\n",
       "  <thead>\n",
       "    <tr style=\"text-align: right;\">\n",
       "      <th></th>\n",
       "      <th>buffered-rendering</th>\n",
       "      <th>stroke-width</th>\n",
       "      <th>stroke-linejoin</th>\n",
       "      <th>-webkit-column-break-inside</th>\n",
       "      <th>fill-rule</th>\n",
       "      <th>-webkit-mask-size</th>\n",
       "      <th>-webkit-order</th>\n",
       "      <th>zoom</th>\n",
       "      <th>-webkit-column-count</th>\n",
       "      <th>-webkit-marquee-direction</th>\n",
       "      <th>...</th>\n",
       "      <th>text-rendering</th>\n",
       "      <th>background-repeat</th>\n",
       "      <th>widows</th>\n",
       "      <th>-webkit-text-stroke-width</th>\n",
       "      <th>transition-delay</th>\n",
       "      <th>border-right-style</th>\n",
       "      <th>clear</th>\n",
       "      <th>-webkit-transition-delay</th>\n",
       "      <th>orphans</th>\n",
       "      <th>border-left-style</th>\n",
       "    </tr>\n",
       "  </thead>\n",
       "  <tbody>\n",
       "    <tr>\n",
       "      <th>8</th>\n",
       "      <td>auto</td>\n",
       "      <td>1.0</td>\n",
       "      <td>miter</td>\n",
       "      <td>auto</td>\n",
       "      <td>nonzero</td>\n",
       "      <td>auto</td>\n",
       "      <td>0</td>\n",
       "      <td>1</td>\n",
       "      <td>auto</td>\n",
       "      <td>auto</td>\n",
       "      <td>...</td>\n",
       "      <td>auto</td>\n",
       "      <td>repeat</td>\n",
       "      <td>auto</td>\n",
       "      <td>0px</td>\n",
       "      <td>0s</td>\n",
       "      <td>none</td>\n",
       "      <td>none</td>\n",
       "      <td>0s</td>\n",
       "      <td>auto</td>\n",
       "      <td>none</td>\n",
       "    </tr>\n",
       "    <tr>\n",
       "      <th>10</th>\n",
       "      <td>auto</td>\n",
       "      <td>1.0</td>\n",
       "      <td>miter</td>\n",
       "      <td>auto</td>\n",
       "      <td>nonzero</td>\n",
       "      <td>auto</td>\n",
       "      <td>0</td>\n",
       "      <td>1</td>\n",
       "      <td>auto</td>\n",
       "      <td>auto</td>\n",
       "      <td>...</td>\n",
       "      <td>auto</td>\n",
       "      <td>repeat</td>\n",
       "      <td>auto</td>\n",
       "      <td>0px</td>\n",
       "      <td>0s</td>\n",
       "      <td>none</td>\n",
       "      <td>none</td>\n",
       "      <td>0s</td>\n",
       "      <td>auto</td>\n",
       "      <td>none</td>\n",
       "    </tr>\n",
       "    <tr>\n",
       "      <th>11</th>\n",
       "      <td>auto</td>\n",
       "      <td>1.0</td>\n",
       "      <td>miter</td>\n",
       "      <td>auto</td>\n",
       "      <td>nonzero</td>\n",
       "      <td>auto</td>\n",
       "      <td>0</td>\n",
       "      <td>1</td>\n",
       "      <td>auto</td>\n",
       "      <td>auto</td>\n",
       "      <td>...</td>\n",
       "      <td>auto</td>\n",
       "      <td>repeat</td>\n",
       "      <td>auto</td>\n",
       "      <td>0px</td>\n",
       "      <td>0s</td>\n",
       "      <td>none</td>\n",
       "      <td>none</td>\n",
       "      <td>0s</td>\n",
       "      <td>auto</td>\n",
       "      <td>none</td>\n",
       "    </tr>\n",
       "    <tr>\n",
       "      <th>14</th>\n",
       "      <td>auto</td>\n",
       "      <td>1.0</td>\n",
       "      <td>miter</td>\n",
       "      <td>auto</td>\n",
       "      <td>nonzero</td>\n",
       "      <td>auto</td>\n",
       "      <td>0</td>\n",
       "      <td>1</td>\n",
       "      <td>auto</td>\n",
       "      <td>auto</td>\n",
       "      <td>...</td>\n",
       "      <td>auto</td>\n",
       "      <td>repeat</td>\n",
       "      <td>auto</td>\n",
       "      <td>0px</td>\n",
       "      <td>0s</td>\n",
       "      <td>none</td>\n",
       "      <td>none</td>\n",
       "      <td>0s</td>\n",
       "      <td>auto</td>\n",
       "      <td>none</td>\n",
       "    </tr>\n",
       "    <tr>\n",
       "      <th>22</th>\n",
       "      <td>auto</td>\n",
       "      <td>1.0</td>\n",
       "      <td>miter</td>\n",
       "      <td>auto</td>\n",
       "      <td>nonzero</td>\n",
       "      <td>auto</td>\n",
       "      <td>0</td>\n",
       "      <td>1</td>\n",
       "      <td>auto</td>\n",
       "      <td>auto</td>\n",
       "      <td>...</td>\n",
       "      <td>auto</td>\n",
       "      <td>repeat</td>\n",
       "      <td>auto</td>\n",
       "      <td>0px</td>\n",
       "      <td>0s</td>\n",
       "      <td>none</td>\n",
       "      <td>none</td>\n",
       "      <td>0s</td>\n",
       "      <td>auto</td>\n",
       "      <td>none</td>\n",
       "    </tr>\n",
       "  </tbody>\n",
       "</table>\n",
       "<p>5 rows × 181 columns</p>\n",
       "</div>"
      ],
      "text/plain": [
       "   buffered-rendering  stroke-width stroke-linejoin  \\\n",
       "8                auto           1.0           miter   \n",
       "10               auto           1.0           miter   \n",
       "11               auto           1.0           miter   \n",
       "14               auto           1.0           miter   \n",
       "22               auto           1.0           miter   \n",
       "\n",
       "   -webkit-column-break-inside fill-rule -webkit-mask-size -webkit-order zoom  \\\n",
       "8                         auto   nonzero              auto             0    1   \n",
       "10                        auto   nonzero              auto             0    1   \n",
       "11                        auto   nonzero              auto             0    1   \n",
       "14                        auto   nonzero              auto             0    1   \n",
       "22                        auto   nonzero              auto             0    1   \n",
       "\n",
       "   -webkit-column-count -webkit-marquee-direction        ...         \\\n",
       "8                  auto                      auto        ...          \n",
       "10                 auto                      auto        ...          \n",
       "11                 auto                      auto        ...          \n",
       "14                 auto                      auto        ...          \n",
       "22                 auto                      auto        ...          \n",
       "\n",
       "   text-rendering background-repeat widows -webkit-text-stroke-width  \\\n",
       "8            auto            repeat   auto                       0px   \n",
       "10           auto            repeat   auto                       0px   \n",
       "11           auto            repeat   auto                       0px   \n",
       "14           auto            repeat   auto                       0px   \n",
       "22           auto            repeat   auto                       0px   \n",
       "\n",
       "   transition-delay border-right-style clear -webkit-transition-delay orphans  \\\n",
       "8                0s               none  none                       0s    auto   \n",
       "10               0s               none  none                       0s    auto   \n",
       "11               0s               none  none                       0s    auto   \n",
       "14               0s               none  none                       0s    auto   \n",
       "22               0s               none  none                       0s    auto   \n",
       "\n",
       "   border-left-style  \n",
       "8               none  \n",
       "10              none  \n",
       "11              none  \n",
       "14              none  \n",
       "22              none  \n",
       "\n",
       "[5 rows x 181 columns]"
      ]
     },
     "execution_count": 52,
     "metadata": {},
     "output_type": "execute_result"
    }
   ],
   "source": [
    "css[css_col_1_3_4_val].head()"
   ]
  },
  {
   "cell_type": "code",
   "execution_count": 53,
   "metadata": {
    "collapsed": false
   },
   "outputs": [],
   "source": [
    "css = css.drop(css.columns[css_col_1_3_4_val], axis=1)"
   ]
  },
  {
   "cell_type": "code",
   "execution_count": 54,
   "metadata": {
    "collapsed": false
   },
   "outputs": [
    {
     "data": {
      "text/plain": [
       "(154240, 107)"
      ]
     },
     "execution_count": 54,
     "metadata": {},
     "output_type": "execute_result"
    }
   ],
   "source": [
    "css.shape"
   ]
  },
  {
   "cell_type": "code",
   "execution_count": 55,
   "metadata": {
    "collapsed": false
   },
   "outputs": [
    {
     "data": {
      "text/html": [
       "<div>\n",
       "<table border=\"1\" class=\"dataframe\">\n",
       "  <thead>\n",
       "    <tr style=\"text-align: right;\">\n",
       "      <th></th>\n",
       "      <th>num_siblings</th>\n",
       "      <th>min-height</th>\n",
       "      <th>background-size</th>\n",
       "      <th>font-size</th>\n",
       "      <th>text-shadow</th>\n",
       "      <th>color</th>\n",
       "      <th>-webkit-border-vertical-spacing</th>\n",
       "      <th>-webkit-background-composite</th>\n",
       "      <th>background-origin</th>\n",
       "      <th>list-style-type</th>\n",
       "      <th>...</th>\n",
       "      <th>text-align</th>\n",
       "      <th>fill</th>\n",
       "      <th>font-variant</th>\n",
       "      <th>border-top-right-radius</th>\n",
       "      <th>word-spacing</th>\n",
       "      <th>-webkit-text-fill-color</th>\n",
       "      <th>-webkit-font-variant-ligatures</th>\n",
       "      <th>-webkit-animation-name</th>\n",
       "      <th>-webkit-align-items</th>\n",
       "      <th>max-height</th>\n",
       "    </tr>\n",
       "  </thead>\n",
       "  <tbody>\n",
       "    <tr>\n",
       "      <th>8</th>\n",
       "      <td>2</td>\n",
       "      <td>0px</td>\n",
       "      <td>auto</td>\n",
       "      <td>26px</td>\n",
       "      <td>none</td>\n",
       "      <td>rgb(51, 51, 51)</td>\n",
       "      <td>0px</td>\n",
       "      <td>source-over</td>\n",
       "      <td>padding-box</td>\n",
       "      <td>disc</td>\n",
       "      <td>...</td>\n",
       "      <td>start</td>\n",
       "      <td>#000000</td>\n",
       "      <td>normal</td>\n",
       "      <td>0px</td>\n",
       "      <td>0px</td>\n",
       "      <td>rgb(51, 51, 51)</td>\n",
       "      <td>normal</td>\n",
       "      <td>none</td>\n",
       "      <td>stretch</td>\n",
       "      <td>none</td>\n",
       "    </tr>\n",
       "    <tr>\n",
       "      <th>10</th>\n",
       "      <td>22</td>\n",
       "      <td>0px</td>\n",
       "      <td>auto</td>\n",
       "      <td>13px</td>\n",
       "      <td>none</td>\n",
       "      <td>rgb(0, 0, 0)</td>\n",
       "      <td>0px</td>\n",
       "      <td>source-over</td>\n",
       "      <td>padding-box</td>\n",
       "      <td>disc</td>\n",
       "      <td>...</td>\n",
       "      <td>start</td>\n",
       "      <td>#000000</td>\n",
       "      <td>normal</td>\n",
       "      <td>0px</td>\n",
       "      <td>0px</td>\n",
       "      <td>rgb(0, 0, 0)</td>\n",
       "      <td>normal</td>\n",
       "      <td>none</td>\n",
       "      <td>stretch</td>\n",
       "      <td>none</td>\n",
       "    </tr>\n",
       "    <tr>\n",
       "      <th>11</th>\n",
       "      <td>2</td>\n",
       "      <td>0px</td>\n",
       "      <td>auto</td>\n",
       "      <td>26px</td>\n",
       "      <td>none</td>\n",
       "      <td>rgb(51, 51, 51)</td>\n",
       "      <td>0px</td>\n",
       "      <td>source-over</td>\n",
       "      <td>padding-box</td>\n",
       "      <td>disc</td>\n",
       "      <td>...</td>\n",
       "      <td>start</td>\n",
       "      <td>#000000</td>\n",
       "      <td>normal</td>\n",
       "      <td>0px</td>\n",
       "      <td>0px</td>\n",
       "      <td>rgb(51, 51, 51)</td>\n",
       "      <td>normal</td>\n",
       "      <td>none</td>\n",
       "      <td>stretch</td>\n",
       "      <td>none</td>\n",
       "    </tr>\n",
       "    <tr>\n",
       "      <th>14</th>\n",
       "      <td>21</td>\n",
       "      <td>0px</td>\n",
       "      <td>auto</td>\n",
       "      <td>13px</td>\n",
       "      <td>none</td>\n",
       "      <td>rgb(0, 0, 0)</td>\n",
       "      <td>0px</td>\n",
       "      <td>source-over</td>\n",
       "      <td>padding-box</td>\n",
       "      <td>disc</td>\n",
       "      <td>...</td>\n",
       "      <td>start</td>\n",
       "      <td>#000000</td>\n",
       "      <td>normal</td>\n",
       "      <td>0px</td>\n",
       "      <td>0px</td>\n",
       "      <td>rgb(0, 0, 0)</td>\n",
       "      <td>normal</td>\n",
       "      <td>none</td>\n",
       "      <td>stretch</td>\n",
       "      <td>none</td>\n",
       "    </tr>\n",
       "    <tr>\n",
       "      <th>22</th>\n",
       "      <td>2</td>\n",
       "      <td>0px</td>\n",
       "      <td>auto</td>\n",
       "      <td>26px</td>\n",
       "      <td>none</td>\n",
       "      <td>rgb(51, 51, 51)</td>\n",
       "      <td>0px</td>\n",
       "      <td>source-over</td>\n",
       "      <td>padding-box</td>\n",
       "      <td>disc</td>\n",
       "      <td>...</td>\n",
       "      <td>start</td>\n",
       "      <td>#000000</td>\n",
       "      <td>normal</td>\n",
       "      <td>0px</td>\n",
       "      <td>0px</td>\n",
       "      <td>rgb(51, 51, 51)</td>\n",
       "      <td>normal</td>\n",
       "      <td>none</td>\n",
       "      <td>stretch</td>\n",
       "      <td>none</td>\n",
       "    </tr>\n",
       "  </tbody>\n",
       "</table>\n",
       "<p>5 rows × 107 columns</p>\n",
       "</div>"
      ],
      "text/plain": [
       "   num_siblings min-height background-size font-size text-shadow  \\\n",
       "8             2        0px            auto      26px        none   \n",
       "10           22        0px            auto      13px        none   \n",
       "11            2        0px            auto      26px        none   \n",
       "14           21        0px            auto      13px        none   \n",
       "22            2        0px            auto      26px        none   \n",
       "\n",
       "              color -webkit-border-vertical-spacing  \\\n",
       "8   rgb(51, 51, 51)                             0px   \n",
       "10     rgb(0, 0, 0)                             0px   \n",
       "11  rgb(51, 51, 51)                             0px   \n",
       "14     rgb(0, 0, 0)                             0px   \n",
       "22  rgb(51, 51, 51)                             0px   \n",
       "\n",
       "   -webkit-background-composite background-origin list-style-type    ...      \\\n",
       "8                   source-over       padding-box            disc    ...       \n",
       "10                  source-over       padding-box            disc    ...       \n",
       "11                  source-over       padding-box            disc    ...       \n",
       "14                  source-over       padding-box            disc    ...       \n",
       "22                  source-over       padding-box            disc    ...       \n",
       "\n",
       "   text-align     fill font-variant border-top-right-radius word-spacing  \\\n",
       "8       start  #000000       normal                     0px          0px   \n",
       "10      start  #000000       normal                     0px          0px   \n",
       "11      start  #000000       normal                     0px          0px   \n",
       "14      start  #000000       normal                     0px          0px   \n",
       "22      start  #000000       normal                     0px          0px   \n",
       "\n",
       "   -webkit-text-fill-color -webkit-font-variant-ligatures  \\\n",
       "8          rgb(51, 51, 51)                         normal   \n",
       "10            rgb(0, 0, 0)                         normal   \n",
       "11         rgb(51, 51, 51)                         normal   \n",
       "14            rgb(0, 0, 0)                         normal   \n",
       "22         rgb(51, 51, 51)                         normal   \n",
       "\n",
       "   -webkit-animation-name -webkit-align-items max-height  \n",
       "8                    none             stretch       none  \n",
       "10                   none             stretch       none  \n",
       "11                   none             stretch       none  \n",
       "14                   none             stretch       none  \n",
       "22                   none             stretch       none  \n",
       "\n",
       "[5 rows x 107 columns]"
      ]
     },
     "execution_count": 55,
     "metadata": {},
     "output_type": "execute_result"
    }
   ],
   "source": [
    "css.head()"
   ]
  },
  {
   "cell_type": "code",
   "execution_count": 56,
   "metadata": {
    "collapsed": false
   },
   "outputs": [
    {
     "name": "stdout",
     "output_type": "stream",
     "text": [
      "<class 'pandas.core.frame.DataFrame'>\n",
      "Int64Index: 154240 entries, 8 to 1243363\n",
      "Columns: 107 entries, num_siblings to max-height\n",
      "dtypes: object(107)\n",
      "memory usage: 127.1+ MB\n"
     ]
    }
   ],
   "source": [
    "css.info()"
   ]
  },
  {
   "cell_type": "code",
   "execution_count": 57,
   "metadata": {
    "collapsed": true
   },
   "outputs": [],
   "source": [
    "css_obj = css[css.columns[css.dtypes == 'object']]\n"
   ]
  },
  {
   "cell_type": "code",
   "execution_count": 58,
   "metadata": {
    "collapsed": false
   },
   "outputs": [
    {
     "name": "stdout",
     "output_type": "stream",
     "text": [
      "<class 'pandas.core.frame.DataFrame'>\n",
      "Int64Index: 154240 entries, 8 to 1243363\n",
      "Columns: 107 entries, num_siblings to max-height\n",
      "dtypes: object(107)\n",
      "memory usage: 127.1+ MB\n"
     ]
    }
   ],
   "source": [
    "css_obj.info()\n"
   ]
  },
  {
   "cell_type": "markdown",
   "metadata": {},
   "source": [
    "Remove px and rgb, we will convert it to numeric"
   ]
  },
  {
   "cell_type": "code",
   "execution_count": 59,
   "metadata": {
    "collapsed": true
   },
   "outputs": [],
   "source": [
    "css_obj = css_obj.applymap(lambda x: str(x).replace('px', ''))\n",
    "css_obj = css_obj.applymap(lambda x: str(x).replace('rgb', ''))"
   ]
  },
  {
   "cell_type": "code",
   "execution_count": 60,
   "metadata": {
    "collapsed": true
   },
   "outputs": [],
   "source": [
    "css_obj = css_obj.applymap(lambda x: str(x).replace('a(', '('))"
   ]
  },
  {
   "cell_type": "code",
   "execution_count": 61,
   "metadata": {
    "collapsed": false
   },
   "outputs": [],
   "source": [
    "css[css.columns[css.dtypes == 'object']] = css_obj"
   ]
  },
  {
   "cell_type": "code",
   "execution_count": 62,
   "metadata": {
    "collapsed": false
   },
   "outputs": [
    {
     "data": {
      "text/plain": [
       "(154240, 107)"
      ]
     },
     "execution_count": 62,
     "metadata": {},
     "output_type": "execute_result"
    }
   ],
   "source": [
    "css.shape"
   ]
  },
  {
   "cell_type": "markdown",
   "metadata": {},
   "source": [
    "### 'None' values"
   ]
  },
  {
   "cell_type": "code",
   "execution_count": 63,
   "metadata": {
    "collapsed": false
   },
   "outputs": [],
   "source": [
    "count_none = lambda x: (x == 'none').sum()/len(x)"
   ]
  },
  {
   "cell_type": "code",
   "execution_count": 64,
   "metadata": {
    "collapsed": false
   },
   "outputs": [],
   "source": [
    "none_css_val = css.apply(count_none).to_frame().reset_index()"
   ]
  },
  {
   "cell_type": "code",
   "execution_count": 65,
   "metadata": {
    "collapsed": true
   },
   "outputs": [],
   "source": [
    "none_css_val.columns = ['prop', 'val']\n",
    "none_css_val = none_css_val.sort_values(by='val', ascending=False)"
   ]
  },
  {
   "cell_type": "markdown",
   "metadata": {},
   "source": [
    "Some CSS properties really have a lot of None values, let's remove them!"
   ]
  },
  {
   "cell_type": "code",
   "execution_count": 69,
   "metadata": {
    "collapsed": false
   },
   "outputs": [
    {
     "data": {
      "text/html": [
       "<div>\n",
       "<table border=\"1\" class=\"dataframe\">\n",
       "  <thead>\n",
       "    <tr style=\"text-align: right;\">\n",
       "      <th></th>\n",
       "      <th>prop</th>\n",
       "      <th>val</th>\n",
       "    </tr>\n",
       "  </thead>\n",
       "  <tbody>\n",
       "    <tr>\n",
       "      <th>104</th>\n",
       "      <td>-webkit-animation-name</td>\n",
       "      <td>0.999987</td>\n",
       "    </tr>\n",
       "    <tr>\n",
       "      <th>90</th>\n",
       "      <td>list-style-image</td>\n",
       "      <td>0.999793</td>\n",
       "    </tr>\n",
       "    <tr>\n",
       "      <th>40</th>\n",
       "      <td>-webkit-box-shadow</td>\n",
       "      <td>0.999637</td>\n",
       "    </tr>\n",
       "    <tr>\n",
       "      <th>41</th>\n",
       "      <td>box-shadow</td>\n",
       "      <td>0.999637</td>\n",
       "    </tr>\n",
       "    <tr>\n",
       "      <th>52</th>\n",
       "      <td>stroke</td>\n",
       "      <td>0.998301</td>\n",
       "    </tr>\n",
       "    <tr>\n",
       "      <th>58</th>\n",
       "      <td>max-width</td>\n",
       "      <td>0.997873</td>\n",
       "    </tr>\n",
       "    <tr>\n",
       "      <th>49</th>\n",
       "      <td>background-image</td>\n",
       "      <td>0.997076</td>\n",
       "    </tr>\n",
       "    <tr>\n",
       "      <th>43</th>\n",
       "      <td>border-top-style</td>\n",
       "      <td>0.996966</td>\n",
       "    </tr>\n",
       "    <tr>\n",
       "      <th>106</th>\n",
       "      <td>max-height</td>\n",
       "      <td>0.996480</td>\n",
       "    </tr>\n",
       "    <tr>\n",
       "      <th>83</th>\n",
       "      <td>border-bottom-style</td>\n",
       "      <td>0.994262</td>\n",
       "    </tr>\n",
       "    <tr>\n",
       "      <th>4</th>\n",
       "      <td>text-shadow</td>\n",
       "      <td>0.948314</td>\n",
       "    </tr>\n",
       "    <tr>\n",
       "      <th>9</th>\n",
       "      <td>list-style-type</td>\n",
       "      <td>0.209271</td>\n",
       "    </tr>\n",
       "    <tr>\n",
       "      <th>15</th>\n",
       "      <td>display</td>\n",
       "      <td>0.035866</td>\n",
       "    </tr>\n",
       "    <tr>\n",
       "      <th>78</th>\n",
       "      <td>speak</td>\n",
       "      <td>0.000214</td>\n",
       "    </tr>\n",
       "    <tr>\n",
       "      <th>87</th>\n",
       "      <td>pointer-events</td>\n",
       "      <td>0.000052</td>\n",
       "    </tr>\n",
       "    <tr>\n",
       "      <th>71</th>\n",
       "      <td>text-indent</td>\n",
       "      <td>0.000000</td>\n",
       "    </tr>\n",
       "    <tr>\n",
       "      <th>76</th>\n",
       "      <td>border-bottom-left-radius</td>\n",
       "      <td>0.000000</td>\n",
       "    </tr>\n",
       "    <tr>\n",
       "      <th>75</th>\n",
       "      <td>image-rendering</td>\n",
       "      <td>0.000000</td>\n",
       "    </tr>\n",
       "    <tr>\n",
       "      <th>74</th>\n",
       "      <td>-webkit-transition-property</td>\n",
       "      <td>0.000000</td>\n",
       "    </tr>\n",
       "    <tr>\n",
       "      <th>60</th>\n",
       "      <td>border-right-color</td>\n",
       "      <td>0.000000</td>\n",
       "    </tr>\n",
       "  </tbody>\n",
       "</table>\n",
       "</div>"
      ],
      "text/plain": [
       "                            prop       val\n",
       "104       -webkit-animation-name  0.999987\n",
       "90              list-style-image  0.999793\n",
       "40            -webkit-box-shadow  0.999637\n",
       "41                    box-shadow  0.999637\n",
       "52                        stroke  0.998301\n",
       "58                     max-width  0.997873\n",
       "49              background-image  0.997076\n",
       "43              border-top-style  0.996966\n",
       "106                   max-height  0.996480\n",
       "83           border-bottom-style  0.994262\n",
       "4                    text-shadow  0.948314\n",
       "9                list-style-type  0.209271\n",
       "15                       display  0.035866\n",
       "78                         speak  0.000214\n",
       "87                pointer-events  0.000052\n",
       "71                   text-indent  0.000000\n",
       "76     border-bottom-left-radius  0.000000\n",
       "75               image-rendering  0.000000\n",
       "74   -webkit-transition-property  0.000000\n",
       "60            border-right-color  0.000000"
      ]
     },
     "execution_count": 69,
     "metadata": {},
     "output_type": "execute_result"
    }
   ],
   "source": [
    "none_css_val.head(20)"
   ]
  },
  {
   "cell_type": "markdown",
   "metadata": {},
   "source": [
    "CSS properties with many None values"
   ]
  },
  {
   "cell_type": "code",
   "execution_count": 70,
   "metadata": {
    "collapsed": false
   },
   "outputs": [],
   "source": [
    "css_col_none = none_css_val.prop[none_css_val.val > 0.3].index.values"
   ]
  },
  {
   "cell_type": "code",
   "execution_count": 71,
   "metadata": {
    "collapsed": false
   },
   "outputs": [
    {
     "data": {
      "text/plain": [
       "array([104,  90,  40,  41,  52,  58,  49,  43, 106,  83,   4])"
      ]
     },
     "execution_count": 71,
     "metadata": {},
     "output_type": "execute_result"
    }
   ],
   "source": [
    "css_col_none"
   ]
  },
  {
   "cell_type": "code",
   "execution_count": 72,
   "metadata": {
    "collapsed": false
   },
   "outputs": [],
   "source": [
    "css = css.drop(css.columns[css_col_none], axis=1)"
   ]
  },
  {
   "cell_type": "markdown",
   "metadata": {},
   "source": [
    "We just reduce the number of CSS properties, number of rows didn't change"
   ]
  },
  {
   "cell_type": "code",
   "execution_count": 73,
   "metadata": {
    "collapsed": false
   },
   "outputs": [
    {
     "data": {
      "text/plain": [
       "(154240, 96)"
      ]
     },
     "execution_count": 73,
     "metadata": {},
     "output_type": "execute_result"
    }
   ],
   "source": [
    "css.shape"
   ]
  },
  {
   "cell_type": "code",
   "execution_count": 74,
   "metadata": {
    "collapsed": false
   },
   "outputs": [
    {
     "data": {
      "text/plain": [
       "(154240, 297)"
      ]
     },
     "execution_count": 74,
     "metadata": {},
     "output_type": "execute_result"
    }
   ],
   "source": [
    "data.shape"
   ]
  },
  {
   "cell_type": "markdown",
   "metadata": {},
   "source": [
    "### Working with color columns"
   ]
  },
  {
   "cell_type": "markdown",
   "metadata": {},
   "source": [
    "Working with color columns, we want to find only those columns where the last column is 'color', otherwise it's something else"
   ]
  },
  {
   "cell_type": "markdown",
   "metadata": {},
   "source": [
    "All colors seems to be the same, let's consider only 'color' column"
   ]
  },
  {
   "cell_type": "code",
   "execution_count": 75,
   "metadata": {
    "collapsed": false
   },
   "outputs": [],
   "source": [
    "color_cols = [col for col in css.columns if 'color' == col[-5:]]"
   ]
  },
  {
   "cell_type": "code",
   "execution_count": 76,
   "metadata": {
    "collapsed": false
   },
   "outputs": [],
   "source": [
    "color_col = css.color"
   ]
  },
  {
   "cell_type": "code",
   "execution_count": 77,
   "metadata": {
    "collapsed": true
   },
   "outputs": [],
   "source": [
    "css_color_df = css[color_cols]"
   ]
  },
  {
   "cell_type": "code",
   "execution_count": 80,
   "metadata": {
    "collapsed": false
   },
   "outputs": [
    {
     "data": {
      "text/html": [
       "<div>\n",
       "<table border=\"1\" class=\"dataframe\">\n",
       "  <thead>\n",
       "    <tr style=\"text-align: right;\">\n",
       "      <th></th>\n",
       "      <th>color</th>\n",
       "      <th>border-left-color</th>\n",
       "      <th>border-bottom-color</th>\n",
       "      <th>-webkit-tap-highlight-color</th>\n",
       "      <th>outline-color</th>\n",
       "      <th>border-right-color</th>\n",
       "      <th>-webkit-column-rule-color</th>\n",
       "      <th>border-top-color</th>\n",
       "      <th>-webkit-text-stroke-color</th>\n",
       "      <th>background-color</th>\n",
       "      <th>-webkit-text-emphasis-color</th>\n",
       "      <th>-webkit-text-fill-color</th>\n",
       "    </tr>\n",
       "  </thead>\n",
       "  <tbody>\n",
       "    <tr>\n",
       "      <th>8</th>\n",
       "      <td>(51, 51, 51)</td>\n",
       "      <td>(51, 51, 51)</td>\n",
       "      <td>(51, 51, 51)</td>\n",
       "      <td>(0, 0, 0, 0)</td>\n",
       "      <td>(51, 51, 51)</td>\n",
       "      <td>(51, 51, 51)</td>\n",
       "      <td>(51, 51, 51)</td>\n",
       "      <td>(51, 51, 51)</td>\n",
       "      <td>(51, 51, 51)</td>\n",
       "      <td>(0, 0, 0, 0)</td>\n",
       "      <td>(51, 51, 51)</td>\n",
       "      <td>(51, 51, 51)</td>\n",
       "    </tr>\n",
       "    <tr>\n",
       "      <th>10</th>\n",
       "      <td>(0, 0, 0)</td>\n",
       "      <td>(0, 0, 0)</td>\n",
       "      <td>(0, 0, 0)</td>\n",
       "      <td>(0, 0, 0, 0)</td>\n",
       "      <td>(0, 0, 0)</td>\n",
       "      <td>(0, 0, 0)</td>\n",
       "      <td>(0, 0, 0)</td>\n",
       "      <td>(0, 0, 0)</td>\n",
       "      <td>(0, 0, 0)</td>\n",
       "      <td>(0, 0, 0, 0)</td>\n",
       "      <td>(0, 0, 0)</td>\n",
       "      <td>(0, 0, 0)</td>\n",
       "    </tr>\n",
       "    <tr>\n",
       "      <th>11</th>\n",
       "      <td>(51, 51, 51)</td>\n",
       "      <td>(51, 51, 51)</td>\n",
       "      <td>(51, 51, 51)</td>\n",
       "      <td>(0, 0, 0, 0)</td>\n",
       "      <td>(51, 51, 51)</td>\n",
       "      <td>(51, 51, 51)</td>\n",
       "      <td>(51, 51, 51)</td>\n",
       "      <td>(51, 51, 51)</td>\n",
       "      <td>(51, 51, 51)</td>\n",
       "      <td>(0, 0, 0, 0)</td>\n",
       "      <td>(51, 51, 51)</td>\n",
       "      <td>(51, 51, 51)</td>\n",
       "    </tr>\n",
       "    <tr>\n",
       "      <th>14</th>\n",
       "      <td>(0, 0, 0)</td>\n",
       "      <td>(0, 0, 0)</td>\n",
       "      <td>(0, 0, 0)</td>\n",
       "      <td>(0, 0, 0, 0)</td>\n",
       "      <td>(0, 0, 0)</td>\n",
       "      <td>(0, 0, 0)</td>\n",
       "      <td>(0, 0, 0)</td>\n",
       "      <td>(0, 0, 0)</td>\n",
       "      <td>(0, 0, 0)</td>\n",
       "      <td>(0, 0, 0, 0)</td>\n",
       "      <td>(0, 0, 0)</td>\n",
       "      <td>(0, 0, 0)</td>\n",
       "    </tr>\n",
       "    <tr>\n",
       "      <th>22</th>\n",
       "      <td>(51, 51, 51)</td>\n",
       "      <td>(51, 51, 51)</td>\n",
       "      <td>(51, 51, 51)</td>\n",
       "      <td>(0, 0, 0, 0)</td>\n",
       "      <td>(51, 51, 51)</td>\n",
       "      <td>(51, 51, 51)</td>\n",
       "      <td>(51, 51, 51)</td>\n",
       "      <td>(51, 51, 51)</td>\n",
       "      <td>(51, 51, 51)</td>\n",
       "      <td>(0, 0, 0, 0)</td>\n",
       "      <td>(51, 51, 51)</td>\n",
       "      <td>(51, 51, 51)</td>\n",
       "    </tr>\n",
       "  </tbody>\n",
       "</table>\n",
       "</div>"
      ],
      "text/plain": [
       "           color border-left-color border-bottom-color  \\\n",
       "8   (51, 51, 51)      (51, 51, 51)        (51, 51, 51)   \n",
       "10     (0, 0, 0)         (0, 0, 0)           (0, 0, 0)   \n",
       "11  (51, 51, 51)      (51, 51, 51)        (51, 51, 51)   \n",
       "14     (0, 0, 0)         (0, 0, 0)           (0, 0, 0)   \n",
       "22  (51, 51, 51)      (51, 51, 51)        (51, 51, 51)   \n",
       "\n",
       "   -webkit-tap-highlight-color outline-color border-right-color  \\\n",
       "8                 (0, 0, 0, 0)  (51, 51, 51)       (51, 51, 51)   \n",
       "10                (0, 0, 0, 0)     (0, 0, 0)          (0, 0, 0)   \n",
       "11                (0, 0, 0, 0)  (51, 51, 51)       (51, 51, 51)   \n",
       "14                (0, 0, 0, 0)     (0, 0, 0)          (0, 0, 0)   \n",
       "22                (0, 0, 0, 0)  (51, 51, 51)       (51, 51, 51)   \n",
       "\n",
       "   -webkit-column-rule-color border-top-color -webkit-text-stroke-color  \\\n",
       "8               (51, 51, 51)     (51, 51, 51)              (51, 51, 51)   \n",
       "10                 (0, 0, 0)        (0, 0, 0)                 (0, 0, 0)   \n",
       "11              (51, 51, 51)     (51, 51, 51)              (51, 51, 51)   \n",
       "14                 (0, 0, 0)        (0, 0, 0)                 (0, 0, 0)   \n",
       "22              (51, 51, 51)     (51, 51, 51)              (51, 51, 51)   \n",
       "\n",
       "   background-color -webkit-text-emphasis-color -webkit-text-fill-color  \n",
       "8      (0, 0, 0, 0)                (51, 51, 51)            (51, 51, 51)  \n",
       "10     (0, 0, 0, 0)                   (0, 0, 0)               (0, 0, 0)  \n",
       "11     (0, 0, 0, 0)                (51, 51, 51)            (51, 51, 51)  \n",
       "14     (0, 0, 0, 0)                   (0, 0, 0)               (0, 0, 0)  \n",
       "22     (0, 0, 0, 0)                (51, 51, 51)            (51, 51, 51)  "
      ]
     },
     "execution_count": 80,
     "metadata": {},
     "output_type": "execute_result"
    }
   ],
   "source": [
    "css_color_df.head()"
   ]
  },
  {
   "cell_type": "code",
   "execution_count": 81,
   "metadata": {
    "collapsed": false
   },
   "outputs": [
    {
     "data": {
      "text/plain": [
       "(154240, 12)"
      ]
     },
     "execution_count": 81,
     "metadata": {},
     "output_type": "execute_result"
    }
   ],
   "source": [
    "css_color_df.shape"
   ]
  },
  {
   "cell_type": "markdown",
   "metadata": {},
   "source": [
    "List of Dataframes with expanded colors"
   ]
  },
  {
   "cell_type": "code",
   "execution_count": 82,
   "metadata": {
    "collapsed": true
   },
   "outputs": [],
   "source": [
    "def color_df_to_expand(series):\n",
    "    series_exp = series.str[1:-1].str.split(',', expand=True).astype(float)\n",
    "    series_exp = series_exp.iloc[:,:-1] #remove last NAN\n",
    "    return series_exp"
   ]
  },
  {
   "cell_type": "code",
   "execution_count": 83,
   "metadata": {
    "collapsed": false
   },
   "outputs": [],
   "source": [
    "color_col = color_df_to_expand(color_col)"
   ]
  },
  {
   "cell_type": "code",
   "execution_count": 84,
   "metadata": {
    "collapsed": false
   },
   "outputs": [],
   "source": [
    "color_col.columns = ['color_r', 'color_g', 'color_b']"
   ]
  },
  {
   "cell_type": "markdown",
   "metadata": {},
   "source": [
    "Remove all color columns except 'color' one because all colors seems to be the same"
   ]
  },
  {
   "cell_type": "code",
   "execution_count": 85,
   "metadata": {
    "collapsed": true
   },
   "outputs": [],
   "source": [
    "css = css.drop(css[color_cols], axis=1)"
   ]
  },
  {
   "cell_type": "markdown",
   "metadata": {},
   "source": [
    "Append extracted colors R, G, B columns"
   ]
  },
  {
   "cell_type": "code",
   "execution_count": 86,
   "metadata": {
    "collapsed": false
   },
   "outputs": [],
   "source": [
    "css = pd.concat([color_col, css], axis=1)"
   ]
  },
  {
   "cell_type": "code",
   "execution_count": 87,
   "metadata": {
    "collapsed": false
   },
   "outputs": [],
   "source": [
    "css_filt = css[['color_r', 'color_g', 'color_b', 'font-size', 'display', \n",
    "     'font-weight', '-webkit-locale', 'width', 'height', 'font-family',\n",
    "     'text-align', 'line-height']]"
   ]
  },
  {
   "cell_type": "code",
   "execution_count": 88,
   "metadata": {
    "collapsed": false
   },
   "outputs": [],
   "source": [
    "css_filt.columns = ['color_r', 'color_g', 'color_b', 'font_size', 'display', \n",
    "     'font_weight', 'locale', 'width', 'height', 'font_family',\n",
    "     'text_align', 'line_height']"
   ]
  },
  {
   "cell_type": "code",
   "execution_count": 89,
   "metadata": {
    "collapsed": false
   },
   "outputs": [
    {
     "data": {
      "text/plain": [
       "(154240, 12)"
      ]
     },
     "execution_count": 89,
     "metadata": {},
     "output_type": "execute_result"
    }
   ],
   "source": [
    "css_filt.shape"
   ]
  },
  {
   "cell_type": "markdown",
   "metadata": {},
   "source": [
    "### font_size"
   ]
  },
  {
   "cell_type": "markdown",
   "metadata": {},
   "source": [
    "This feature is already numeric, nothing to do with it."
   ]
  },
  {
   "cell_type": "code",
   "execution_count": 90,
   "metadata": {
    "collapsed": false
   },
   "outputs": [
    {
     "data": {
      "text/plain": [
       "14    21298\n",
       "13    20791\n",
       "12    18929\n",
       "16    18258\n",
       "11    16573\n",
       "Name: font_size, dtype: int64"
      ]
     },
     "execution_count": 90,
     "metadata": {},
     "output_type": "execute_result"
    }
   ],
   "source": [
    "css_filt.font_size.value_counts().head()"
   ]
  },
  {
   "cell_type": "markdown",
   "metadata": {},
   "source": [
    "### display"
   ]
  },
  {
   "cell_type": "markdown",
   "metadata": {},
   "source": [
    "Create label encoder for 'display' feature"
   ]
  },
  {
   "cell_type": "code",
   "execution_count": 91,
   "metadata": {
    "collapsed": false
   },
   "outputs": [
    {
     "data": {
      "text/plain": [
       "inline                92514\n",
       "block                 51704\n",
       "none                   5532\n",
       "inline-block           2031\n",
       "table-cell             1038\n",
       "table-row               674\n",
       "list-item               405\n",
       "table                   330\n",
       "-webkit-box               6\n",
       "-webkit-flex              2\n",
       "table-caption             2\n",
       "table-row-group           1\n",
       "table-footer-group        1\n",
       "Name: display, dtype: int64"
      ]
     },
     "execution_count": 91,
     "metadata": {},
     "output_type": "execute_result"
    }
   ],
   "source": [
    "css_filt.display.value_counts()"
   ]
  },
  {
   "cell_type": "code",
   "execution_count": 92,
   "metadata": {
    "collapsed": false
   },
   "outputs": [
    {
     "name": "stderr",
     "output_type": "stream",
     "text": [
      "/Users/jetbrains/miniconda3/lib/python3.5/site-packages/pandas/core/indexing.py:465: SettingWithCopyWarning: \n",
      "A value is trying to be set on a copy of a slice from a DataFrame.\n",
      "Try using .loc[row_indexer,col_indexer] = value instead\n",
      "\n",
      "See the caveats in the documentation: http://pandas.pydata.org/pandas-docs/stable/indexing.html#indexing-view-versus-copy\n",
      "  self.obj[item] = s\n"
     ]
    }
   ],
   "source": [
    "le_css_display = LabelEncoder()\n",
    "le_css_display = le_css_display.fit_transform(css_filt.display.values)\n",
    "css_filt.loc[:,'display'] = le_css_display"
   ]
  },
  {
   "cell_type": "markdown",
   "metadata": {},
   "source": [
    "### locale"
   ]
  },
  {
   "cell_type": "markdown",
   "metadata": {},
   "source": [
    "We will filter by locale later, let's exemine the number of every locale. In future we will leave only English language"
   ]
  },
  {
   "cell_type": "code",
   "execution_count": 93,
   "metadata": {
    "collapsed": false
   },
   "outputs": [
    {
     "data": {
      "text/plain": [
       "en       41945\n",
       "auto     26159\n",
       "de-DE    15958\n",
       "en-us    14895\n",
       "en-US    14758\n",
       "ro        7855\n",
       "de        5496\n",
       "en-GB     2037\n",
       "in-ID     1865\n",
       "fr        1819\n",
       "Name: locale, dtype: int64"
      ]
     },
     "execution_count": 93,
     "metadata": {},
     "output_type": "execute_result"
    }
   ],
   "source": [
    "css_filt.locale.value_counts().head(10)"
   ]
  },
  {
   "cell_type": "markdown",
   "metadata": {},
   "source": [
    "Working with font_weight"
   ]
  },
  {
   "cell_type": "markdown",
   "metadata": {},
   "source": [
    "### font_weight"
   ]
  },
  {
   "cell_type": "code",
   "execution_count": 96,
   "metadata": {
    "collapsed": false
   },
   "outputs": [
    {
     "data": {
      "text/plain": [
       "400    100760\n",
       "700     35382\n",
       "300     11523\n",
       "500      4494\n",
       "600      1475\n",
       "200       311\n",
       "100       179\n",
       "900        74\n",
       "800        42\n",
       "Name: font_weight, dtype: int64"
      ]
     },
     "execution_count": 96,
     "metadata": {},
     "output_type": "execute_result"
    }
   ],
   "source": [
    "css_filt.font_weight.value_counts()"
   ]
  },
  {
   "cell_type": "code",
   "execution_count": 97,
   "metadata": {
    "collapsed": false
   },
   "outputs": [
    {
     "name": "stderr",
     "output_type": "stream",
     "text": [
      "/Users/jetbrains/miniconda3/lib/python3.5/site-packages/ipykernel/__main__.py:1: SettingWithCopyWarning: \n",
      "A value is trying to be set on a copy of a slice from a DataFrame\n",
      "\n",
      "See the caveats in the documentation: http://pandas.pydata.org/pandas-docs/stable/indexing.html#indexing-view-versus-copy\n",
      "  if __name__ == '__main__':\n",
      "/Users/jetbrains/miniconda3/lib/python3.5/site-packages/pandas/core/generic.py:4485: SettingWithCopyWarning: \n",
      "A value is trying to be set on a copy of a slice from a DataFrame\n",
      "\n",
      "See the caveats in the documentation: http://pandas.pydata.org/pandas-docs/stable/indexing.html#indexing-view-versus-copy\n",
      "  self._update_inplace(new_data)\n",
      "/Users/jetbrains/miniconda3/lib/python3.5/site-packages/IPython/core/interactiveshell.py:2881: SettingWithCopyWarning: \n",
      "A value is trying to be set on a copy of a slice from a DataFrame\n",
      "\n",
      "See the caveats in the documentation: http://pandas.pydata.org/pandas-docs/stable/indexing.html#indexing-view-versus-copy\n",
      "  exec(code_obj, self.user_global_ns, self.user_ns)\n",
      "/Users/jetbrains/miniconda3/lib/python3.5/site-packages/ipykernel/__main__.py:2: SettingWithCopyWarning: \n",
      "A value is trying to be set on a copy of a slice from a DataFrame\n",
      "\n",
      "See the caveats in the documentation: http://pandas.pydata.org/pandas-docs/stable/indexing.html#indexing-view-versus-copy\n",
      "  from ipykernel import kernelapp as app\n"
     ]
    }
   ],
   "source": [
    "css_filt.font_weight[css_filt.font_weight == 'bold'] = 700\n",
    "css_filt.font_weight[css_filt.font_weight == 'normal'] = 400"
   ]
  },
  {
   "cell_type": "markdown",
   "metadata": {},
   "source": [
    "### font_family"
   ]
  },
  {
   "cell_type": "code",
   "execution_count": 98,
   "metadata": {
    "collapsed": true
   },
   "outputs": [],
   "source": [
    "def font_df_to_expand(series):\n",
    "    series_exp = series.str.split(',', expand=True)\n",
    "    series_exp = series_exp.iloc[:,0] #only family of font\n",
    "    series_exp = series_exp.apply(lambda x: x.replace(\"'\",\"\").replace('b\"',''))\n",
    "    return series_exp"
   ]
  },
  {
   "cell_type": "markdown",
   "metadata": {},
   "source": [
    "Working with Font family, we will left only familiy without subtypes"
   ]
  },
  {
   "cell_type": "code",
   "execution_count": 99,
   "metadata": {
    "collapsed": false
   },
   "outputs": [],
   "source": [
    "font = font_df_to_expand(css_filt.font_family)"
   ]
  },
  {
   "cell_type": "code",
   "execution_count": 100,
   "metadata": {
    "collapsed": false
   },
   "outputs": [
    {
     "name": "stderr",
     "output_type": "stream",
     "text": [
      "/Users/jetbrains/miniconda3/lib/python3.5/site-packages/pandas/core/indexing.py:465: SettingWithCopyWarning: \n",
      "A value is trying to be set on a copy of a slice from a DataFrame.\n",
      "Try using .loc[row_indexer,col_indexer] = value instead\n",
      "\n",
      "See the caveats in the documentation: http://pandas.pydata.org/pandas-docs/stable/indexing.html#indexing-view-versus-copy\n",
      "  self.obj[item] = s\n"
     ]
    }
   ],
   "source": [
    "le_css_font = LabelEncoder()\n",
    "le_css_font = le_css_font.fit_transform(css_filt.font_family.values)\n",
    "css_filt.loc[:,'font_family'] = le_css_font"
   ]
  },
  {
   "cell_type": "code",
   "execution_count": 101,
   "metadata": {
    "collapsed": false
   },
   "outputs": [
    {
     "data": {
      "text/plain": [
       "(154240, 12)"
      ]
     },
     "execution_count": 101,
     "metadata": {},
     "output_type": "execute_result"
    }
   ],
   "source": [
    "css_filt.shape"
   ]
  },
  {
   "cell_type": "code",
   "execution_count": 102,
   "metadata": {
    "collapsed": false
   },
   "outputs": [
    {
     "data": {
      "text/plain": [
       "(154240, 297)"
      ]
     },
     "execution_count": 102,
     "metadata": {},
     "output_type": "execute_result"
    }
   ],
   "source": [
    "data.shape"
   ]
  },
  {
   "cell_type": "markdown",
   "metadata": {},
   "source": [
    "### text align"
   ]
  },
  {
   "cell_type": "markdown",
   "metadata": {},
   "source": [
    "Working with text align, create label encoder"
   ]
  },
  {
   "cell_type": "code",
   "execution_count": 103,
   "metadata": {
    "collapsed": false
   },
   "outputs": [
    {
     "data": {
      "text/plain": [
       "start             86482\n",
       "left              57652\n",
       "center             8676\n",
       "-webkit-left        520\n",
       "right               449\n",
       "justify             408\n",
       "-webkit-center       49\n",
       "-webkit-right         4\n",
       "Name: text_align, dtype: int64"
      ]
     },
     "execution_count": 103,
     "metadata": {},
     "output_type": "execute_result"
    }
   ],
   "source": [
    "css_filt.text_align.value_counts()"
   ]
  },
  {
   "cell_type": "code",
   "execution_count": 104,
   "metadata": {
    "collapsed": false
   },
   "outputs": [
    {
     "name": "stderr",
     "output_type": "stream",
     "text": [
      "/Users/jetbrains/miniconda3/lib/python3.5/site-packages/pandas/core/indexing.py:465: SettingWithCopyWarning: \n",
      "A value is trying to be set on a copy of a slice from a DataFrame.\n",
      "Try using .loc[row_indexer,col_indexer] = value instead\n",
      "\n",
      "See the caveats in the documentation: http://pandas.pydata.org/pandas-docs/stable/indexing.html#indexing-view-versus-copy\n",
      "  self.obj[item] = s\n"
     ]
    }
   ],
   "source": [
    "le_css_text_align = LabelEncoder()\n",
    "le_css_text_align = le_css_text_align.fit_transform(css_filt.text_align.values)\n",
    "css_filt.loc[:,'text_align'] = le_css_text_align"
   ]
  },
  {
   "cell_type": "markdown",
   "metadata": {},
   "source": [
    "### width and  height"
   ]
  },
  {
   "cell_type": "markdown",
   "metadata": {},
   "source": [
    "Replace value 'auto' with -1"
   ]
  },
  {
   "cell_type": "code",
   "execution_count": 105,
   "metadata": {
    "collapsed": false
   },
   "outputs": [
    {
     "name": "stderr",
     "output_type": "stream",
     "text": [
      "/Users/jetbrains/miniconda3/lib/python3.5/site-packages/pandas/core/frame.py:2378: SettingWithCopyWarning: \n",
      "A value is trying to be set on a copy of a slice from a DataFrame.\n",
      "Try using .loc[row_indexer,col_indexer] = value instead\n",
      "\n",
      "See the caveats in the documentation: http://pandas.pydata.org/pandas-docs/stable/indexing.html#indexing-view-versus-copy\n",
      "  self[k1] = value[k2]\n"
     ]
    }
   ],
   "source": [
    "css_filt[['width', 'height']] = css_filt[['width', 'height']].apply(lambda x: x.replace('auto', -1))"
   ]
  },
  {
   "cell_type": "markdown",
   "metadata": {},
   "source": [
    "### line_height"
   ]
  },
  {
   "cell_type": "markdown",
   "metadata": {},
   "source": [
    "Replace value 'normal' with 1.2"
   ]
  },
  {
   "cell_type": "code",
   "execution_count": 106,
   "metadata": {
    "collapsed": false
   },
   "outputs": [
    {
     "name": "stderr",
     "output_type": "stream",
     "text": [
      "/Users/jetbrains/miniconda3/lib/python3.5/site-packages/ipykernel/__main__.py:3: SettingWithCopyWarning: \n",
      "A value is trying to be set on a copy of a slice from a DataFrame\n",
      "\n",
      "See the caveats in the documentation: http://pandas.pydata.org/pandas-docs/stable/indexing.html#indexing-view-versus-copy\n",
      "  app.launch_new_instance()\n",
      "/Users/jetbrains/miniconda3/lib/python3.5/site-packages/pandas/core/generic.py:4485: SettingWithCopyWarning: \n",
      "A value is trying to be set on a copy of a slice from a DataFrame\n",
      "\n",
      "See the caveats in the documentation: http://pandas.pydata.org/pandas-docs/stable/indexing.html#indexing-view-versus-copy\n",
      "  self._update_inplace(new_data)\n",
      "/Users/jetbrains/miniconda3/lib/python3.5/site-packages/IPython/core/interactiveshell.py:2881: SettingWithCopyWarning: \n",
      "A value is trying to be set on a copy of a slice from a DataFrame\n",
      "\n",
      "See the caveats in the documentation: http://pandas.pydata.org/pandas-docs/stable/indexing.html#indexing-view-versus-copy\n",
      "  exec(code_obj, self.user_global_ns, self.user_ns)\n"
     ]
    }
   ],
   "source": [
    "# Source: https://developer.mozilla.org/en/docs/Web/CSS/line-height?v=control\n",
    "\n",
    "css_filt['line_height'][css_filt['line_height'] == 'normal'] = 1.2"
   ]
  },
  {
   "cell_type": "markdown",
   "metadata": {},
   "source": [
    "## Convert CSS columns to numeric"
   ]
  },
  {
   "cell_type": "markdown",
   "metadata": {},
   "source": [
    "Now everything is ready for converting the sub dataframe to a numeric form."
   ]
  },
  {
   "cell_type": "code",
   "execution_count": 107,
   "metadata": {
    "collapsed": false
   },
   "outputs": [],
   "source": [
    "num_css_col = [col for col in css_filt.columns if col != 'locale']"
   ]
  },
  {
   "cell_type": "code",
   "execution_count": 108,
   "metadata": {
    "collapsed": false
   },
   "outputs": [],
   "source": [
    "css_filt_num = css_filt[num_css_col]"
   ]
  },
  {
   "cell_type": "code",
   "execution_count": 109,
   "metadata": {
    "collapsed": false
   },
   "outputs": [
    {
     "name": "stderr",
     "output_type": "stream",
     "text": [
      "/Users/jetbrains/miniconda3/lib/python3.5/site-packages/ipykernel/__main__.py:1: FutureWarning: convert_objects is deprecated.  Use the data-type specific converters pd.to_datetime, pd.to_timedelta and pd.to_numeric.\n",
      "  if __name__ == '__main__':\n"
     ]
    }
   ],
   "source": [
    "css_filt_num = css_filt_num.convert_objects(convert_numeric=True)"
   ]
  },
  {
   "cell_type": "code",
   "execution_count": 110,
   "metadata": {
    "collapsed": false
   },
   "outputs": [
    {
     "data": {
      "text/html": [
       "<div>\n",
       "<table border=\"1\" class=\"dataframe\">\n",
       "  <thead>\n",
       "    <tr style=\"text-align: right;\">\n",
       "      <th></th>\n",
       "      <th>color_r</th>\n",
       "      <th>color_g</th>\n",
       "      <th>color_b</th>\n",
       "      <th>font_size</th>\n",
       "      <th>display</th>\n",
       "      <th>font_weight</th>\n",
       "      <th>width</th>\n",
       "      <th>height</th>\n",
       "      <th>font_family</th>\n",
       "      <th>text_align</th>\n",
       "      <th>line_height</th>\n",
       "    </tr>\n",
       "  </thead>\n",
       "  <tbody>\n",
       "    <tr>\n",
       "      <th>8</th>\n",
       "      <td>51.0</td>\n",
       "      <td>51.0</td>\n",
       "      <td>51.0</td>\n",
       "      <td>26</td>\n",
       "      <td>3</td>\n",
       "      <td>300</td>\n",
       "      <td>-1.0</td>\n",
       "      <td>-1.0</td>\n",
       "      <td>856</td>\n",
       "      <td>7</td>\n",
       "      <td>28.0</td>\n",
       "    </tr>\n",
       "    <tr>\n",
       "      <th>10</th>\n",
       "      <td>0.0</td>\n",
       "      <td>0.0</td>\n",
       "      <td>0.0</td>\n",
       "      <td>13</td>\n",
       "      <td>2</td>\n",
       "      <td>400</td>\n",
       "      <td>370.0</td>\n",
       "      <td>100.0</td>\n",
       "      <td>856</td>\n",
       "      <td>7</td>\n",
       "      <td>20.0</td>\n",
       "    </tr>\n",
       "    <tr>\n",
       "      <th>11</th>\n",
       "      <td>51.0</td>\n",
       "      <td>51.0</td>\n",
       "      <td>51.0</td>\n",
       "      <td>26</td>\n",
       "      <td>3</td>\n",
       "      <td>300</td>\n",
       "      <td>-1.0</td>\n",
       "      <td>-1.0</td>\n",
       "      <td>856</td>\n",
       "      <td>7</td>\n",
       "      <td>28.0</td>\n",
       "    </tr>\n",
       "    <tr>\n",
       "      <th>14</th>\n",
       "      <td>0.0</td>\n",
       "      <td>0.0</td>\n",
       "      <td>0.0</td>\n",
       "      <td>13</td>\n",
       "      <td>3</td>\n",
       "      <td>400</td>\n",
       "      <td>-1.0</td>\n",
       "      <td>-1.0</td>\n",
       "      <td>856</td>\n",
       "      <td>7</td>\n",
       "      <td>20.0</td>\n",
       "    </tr>\n",
       "    <tr>\n",
       "      <th>22</th>\n",
       "      <td>51.0</td>\n",
       "      <td>51.0</td>\n",
       "      <td>51.0</td>\n",
       "      <td>26</td>\n",
       "      <td>3</td>\n",
       "      <td>300</td>\n",
       "      <td>-1.0</td>\n",
       "      <td>-1.0</td>\n",
       "      <td>856</td>\n",
       "      <td>7</td>\n",
       "      <td>28.0</td>\n",
       "    </tr>\n",
       "  </tbody>\n",
       "</table>\n",
       "</div>"
      ],
      "text/plain": [
       "    color_r  color_g  color_b  font_size  display  font_weight  width  height  \\\n",
       "8      51.0     51.0     51.0         26        3          300   -1.0    -1.0   \n",
       "10      0.0      0.0      0.0         13        2          400  370.0   100.0   \n",
       "11     51.0     51.0     51.0         26        3          300   -1.0    -1.0   \n",
       "14      0.0      0.0      0.0         13        3          400   -1.0    -1.0   \n",
       "22     51.0     51.0     51.0         26        3          300   -1.0    -1.0   \n",
       "\n",
       "    font_family  text_align  line_height  \n",
       "8           856           7         28.0  \n",
       "10          856           7         20.0  \n",
       "11          856           7         28.0  \n",
       "14          856           7         20.0  \n",
       "22          856           7         28.0  "
      ]
     },
     "execution_count": 110,
     "metadata": {},
     "output_type": "execute_result"
    }
   ],
   "source": [
    "css_filt_num.head()"
   ]
  },
  {
   "cell_type": "markdown",
   "metadata": {},
   "source": [
    "Remove all CSS columns from original data"
   ]
  },
  {
   "cell_type": "code",
   "execution_count": 111,
   "metadata": {
    "collapsed": false
   },
   "outputs": [],
   "source": [
    "data = data.iloc[:,:9]"
   ]
  },
  {
   "cell_type": "code",
   "execution_count": 112,
   "metadata": {
    "collapsed": false
   },
   "outputs": [
    {
     "data": {
      "text/plain": [
       "(154240, 9)"
      ]
     },
     "execution_count": 112,
     "metadata": {},
     "output_type": "execute_result"
    }
   ],
   "source": [
    "data.shape"
   ]
  },
  {
   "cell_type": "code",
   "execution_count": 113,
   "metadata": {
    "collapsed": false
   },
   "outputs": [
    {
     "data": {
      "text/plain": [
       "(154240, 11)"
      ]
     },
     "execution_count": 113,
     "metadata": {},
     "output_type": "execute_result"
    }
   ],
   "source": [
    "css_filt_num.shape"
   ]
  },
  {
   "cell_type": "code",
   "execution_count": 114,
   "metadata": {
    "collapsed": true
   },
   "outputs": [],
   "source": [
    "data_css_num = pd.concat([data, css_filt_num], axis=1)"
   ]
  },
  {
   "cell_type": "code",
   "execution_count": 115,
   "metadata": {
    "collapsed": false
   },
   "outputs": [
    {
     "data": {
      "text/plain": [
       "(154240, 20)"
      ]
     },
     "execution_count": 115,
     "metadata": {},
     "output_type": "execute_result"
    }
   ],
   "source": [
    "data_css_num.shape"
   ]
  },
  {
   "cell_type": "code",
   "execution_count": 116,
   "metadata": {
    "collapsed": false
   },
   "outputs": [
    {
     "data": {
      "text/html": [
       "<div>\n",
       "<table border=\"1\" class=\"dataframe\">\n",
       "  <thead>\n",
       "    <tr style=\"text-align: right;\">\n",
       "      <th></th>\n",
       "      <th>url</th>\n",
       "      <th>meta_name</th>\n",
       "      <th>text</th>\n",
       "      <th>x_coords</th>\n",
       "      <th>y_coords</th>\n",
       "      <th>block_height</th>\n",
       "      <th>block_width</th>\n",
       "      <th>tag</th>\n",
       "      <th>num_child</th>\n",
       "      <th>color_r</th>\n",
       "      <th>color_g</th>\n",
       "      <th>color_b</th>\n",
       "      <th>font_size</th>\n",
       "      <th>display</th>\n",
       "      <th>font_weight</th>\n",
       "      <th>width</th>\n",
       "      <th>height</th>\n",
       "      <th>font_family</th>\n",
       "      <th>text_align</th>\n",
       "      <th>line_height</th>\n",
       "    </tr>\n",
       "  </thead>\n",
       "  <tbody>\n",
       "    <tr>\n",
       "      <th>8</th>\n",
       "      <td>http://www.chicagoparkdistrict.com/parks/Galew...</td>\n",
       "      <td>name</td>\n",
       "      <td>Movie Inside the Park at Mayfair Park</td>\n",
       "      <td>15</td>\n",
       "      <td>200</td>\n",
       "      <td>60</td>\n",
       "      <td>357</td>\n",
       "      <td>span</td>\n",
       "      <td>None</td>\n",
       "      <td>51.0</td>\n",
       "      <td>51.0</td>\n",
       "      <td>51.0</td>\n",
       "      <td>26</td>\n",
       "      <td>3</td>\n",
       "      <td>300</td>\n",
       "      <td>-1.0</td>\n",
       "      <td>-1.0</td>\n",
       "      <td>856</td>\n",
       "      <td>7</td>\n",
       "      <td>28.0</td>\n",
       "    </tr>\n",
       "    <tr>\n",
       "      <th>10</th>\n",
       "      <td>http://www.chicagoparkdistrict.com/parks/Galew...</td>\n",
       "      <td>location</td>\n",
       "      <td>Mayfair Park\\n\\n \\n\\n                        4...</td>\n",
       "      <td>15</td>\n",
       "      <td>313</td>\n",
       "      <td>100</td>\n",
       "      <td>370</td>\n",
       "      <td>p</td>\n",
       "      <td>None</td>\n",
       "      <td>0.0</td>\n",
       "      <td>0.0</td>\n",
       "      <td>0.0</td>\n",
       "      <td>13</td>\n",
       "      <td>2</td>\n",
       "      <td>400</td>\n",
       "      <td>370.0</td>\n",
       "      <td>100.0</td>\n",
       "      <td>856</td>\n",
       "      <td>7</td>\n",
       "      <td>20.0</td>\n",
       "    </tr>\n",
       "    <tr>\n",
       "      <th>11</th>\n",
       "      <td>http://www.chicagoparkdistrict.com/parks/Scott...</td>\n",
       "      <td>name</td>\n",
       "      <td>Night Out: Movies in the Parks at Sauganash</td>\n",
       "      <td>15</td>\n",
       "      <td>200</td>\n",
       "      <td>60</td>\n",
       "      <td>363</td>\n",
       "      <td>span</td>\n",
       "      <td>None</td>\n",
       "      <td>51.0</td>\n",
       "      <td>51.0</td>\n",
       "      <td>51.0</td>\n",
       "      <td>26</td>\n",
       "      <td>3</td>\n",
       "      <td>300</td>\n",
       "      <td>-1.0</td>\n",
       "      <td>-1.0</td>\n",
       "      <td>856</td>\n",
       "      <td>7</td>\n",
       "      <td>28.0</td>\n",
       "    </tr>\n",
       "    <tr>\n",
       "      <th>14</th>\n",
       "      <td>http://www.chicagoparkdistrict.com/parks/Scott...</td>\n",
       "      <td>description</td>\n",
       "      <td>The Land Before TimeFive orphan dinosaurs trav...</td>\n",
       "      <td>15</td>\n",
       "      <td>493</td>\n",
       "      <td>170</td>\n",
       "      <td>370</td>\n",
       "      <td>span</td>\n",
       "      <td>None</td>\n",
       "      <td>0.0</td>\n",
       "      <td>0.0</td>\n",
       "      <td>0.0</td>\n",
       "      <td>13</td>\n",
       "      <td>3</td>\n",
       "      <td>400</td>\n",
       "      <td>-1.0</td>\n",
       "      <td>-1.0</td>\n",
       "      <td>856</td>\n",
       "      <td>7</td>\n",
       "      <td>20.0</td>\n",
       "    </tr>\n",
       "    <tr>\n",
       "      <th>22</th>\n",
       "      <td>http://www.chicagoparkdistrict.com/events/movi...</td>\n",
       "      <td>name</td>\n",
       "      <td>Movies in the Park: The Smurfs</td>\n",
       "      <td>15</td>\n",
       "      <td>200</td>\n",
       "      <td>32</td>\n",
       "      <td>339</td>\n",
       "      <td>span</td>\n",
       "      <td>None</td>\n",
       "      <td>51.0</td>\n",
       "      <td>51.0</td>\n",
       "      <td>51.0</td>\n",
       "      <td>26</td>\n",
       "      <td>3</td>\n",
       "      <td>300</td>\n",
       "      <td>-1.0</td>\n",
       "      <td>-1.0</td>\n",
       "      <td>856</td>\n",
       "      <td>7</td>\n",
       "      <td>28.0</td>\n",
       "    </tr>\n",
       "  </tbody>\n",
       "</table>\n",
       "</div>"
      ],
      "text/plain": [
       "                                                  url    meta_name  \\\n",
       "8   http://www.chicagoparkdistrict.com/parks/Galew...         name   \n",
       "10  http://www.chicagoparkdistrict.com/parks/Galew...     location   \n",
       "11  http://www.chicagoparkdistrict.com/parks/Scott...         name   \n",
       "14  http://www.chicagoparkdistrict.com/parks/Scott...  description   \n",
       "22  http://www.chicagoparkdistrict.com/events/movi...         name   \n",
       "\n",
       "                                                 text x_coords y_coords  \\\n",
       "8               Movie Inside the Park at Mayfair Park       15      200   \n",
       "10  Mayfair Park\\n\\n \\n\\n                        4...       15      313   \n",
       "11        Night Out: Movies in the Parks at Sauganash       15      200   \n",
       "14  The Land Before TimeFive orphan dinosaurs trav...       15      493   \n",
       "22                     Movies in the Park: The Smurfs       15      200   \n",
       "\n",
       "   block_height block_width   tag num_child  color_r  color_g  color_b  \\\n",
       "8            60         357  span      None     51.0     51.0     51.0   \n",
       "10          100         370     p      None      0.0      0.0      0.0   \n",
       "11           60         363  span      None     51.0     51.0     51.0   \n",
       "14          170         370  span      None      0.0      0.0      0.0   \n",
       "22           32         339  span      None     51.0     51.0     51.0   \n",
       "\n",
       "    font_size  display  font_weight  width  height  font_family  text_align  \\\n",
       "8          26        3          300   -1.0    -1.0          856           7   \n",
       "10         13        2          400  370.0   100.0          856           7   \n",
       "11         26        3          300   -1.0    -1.0          856           7   \n",
       "14         13        3          400   -1.0    -1.0          856           7   \n",
       "22         26        3          300   -1.0    -1.0          856           7   \n",
       "\n",
       "    line_height  \n",
       "8          28.0  \n",
       "10         20.0  \n",
       "11         28.0  \n",
       "14         20.0  \n",
       "22         28.0  "
      ]
     },
     "execution_count": 116,
     "metadata": {},
     "output_type": "execute_result"
    }
   ],
   "source": [
    "data_css_num.head()"
   ]
  },
  {
   "cell_type": "markdown",
   "metadata": {},
   "source": [
    "### tag"
   ]
  },
  {
   "cell_type": "code",
   "execution_count": 117,
   "metadata": {
    "collapsed": false
   },
   "outputs": [
    {
     "data": {
      "text/plain": [
       "span    80985\n",
       "div     27368\n",
       "time    18027\n",
       "p        7327\n",
       "h1       3760\n",
       "Name: tag, dtype: int64"
      ]
     },
     "execution_count": 117,
     "metadata": {},
     "output_type": "execute_result"
    }
   ],
   "source": [
    "data_css_num.tag.value_counts().head()"
   ]
  },
  {
   "cell_type": "code",
   "execution_count": 118,
   "metadata": {
    "collapsed": false
   },
   "outputs": [],
   "source": [
    "le_tag = LabelEncoder()\n",
    "le_tag = le_tag.fit_transform(data_css_num.tag.values)\n",
    "data_css_num.loc[:,'tag'] = le_tag"
   ]
  },
  {
   "cell_type": "markdown",
   "metadata": {},
   "source": [
    "### meta_name"
   ]
  },
  {
   "cell_type": "code",
   "execution_count": 119,
   "metadata": {
    "collapsed": false
   },
   "outputs": [
    {
     "data": {
      "text/plain": [
       "name           63320\n",
       "location       37954\n",
       "startDate      33525\n",
       "description    19441\n",
       "Name: meta_name, dtype: int64"
      ]
     },
     "execution_count": 119,
     "metadata": {},
     "output_type": "execute_result"
    }
   ],
   "source": [
    "data_css_num.meta_name.value_counts()"
   ]
  },
  {
   "cell_type": "markdown",
   "metadata": {},
   "source": [
    "We will do label encoding later, no it would more convenient to see original label"
   ]
  },
  {
   "cell_type": "code",
   "execution_count": 120,
   "metadata": {
    "collapsed": false
   },
   "outputs": [
    {
     "name": "stderr",
     "output_type": "stream",
     "text": [
      "/Users/jetbrains/miniconda3/lib/python3.5/site-packages/ipykernel/__main__.py:3: FutureWarning: convert_objects is deprecated.  Use the data-type specific converters pd.to_datetime, pd.to_timedelta and pd.to_numeric.\n",
      "  app.launch_new_instance()\n"
     ]
    }
   ],
   "source": [
    "data_css_num.iloc[:,3:]\n",
    "\n",
    "data_num = data_css_num.iloc[:,3:].convert_objects(convert_numeric=True)"
   ]
  },
  {
   "cell_type": "code",
   "execution_count": 121,
   "metadata": {
    "collapsed": false
   },
   "outputs": [],
   "source": [
    "data_css_num.iloc[:,3:] = data_num"
   ]
  },
  {
   "cell_type": "code",
   "execution_count": 122,
   "metadata": {
    "collapsed": false
   },
   "outputs": [],
   "source": [
    "DATA_NUM = data_css_num"
   ]
  },
  {
   "cell_type": "code",
   "execution_count": 123,
   "metadata": {
    "collapsed": true
   },
   "outputs": [],
   "source": [
    "DATA_NUM['locale'] = css_filt.locale"
   ]
  },
  {
   "cell_type": "code",
   "execution_count": 124,
   "metadata": {
    "collapsed": false
   },
   "outputs": [
    {
     "data": {
      "text/html": [
       "<div>\n",
       "<table border=\"1\" class=\"dataframe\">\n",
       "  <thead>\n",
       "    <tr style=\"text-align: right;\">\n",
       "      <th></th>\n",
       "      <th>url</th>\n",
       "      <th>meta_name</th>\n",
       "      <th>text</th>\n",
       "      <th>x_coords</th>\n",
       "      <th>y_coords</th>\n",
       "      <th>block_height</th>\n",
       "      <th>block_width</th>\n",
       "      <th>tag</th>\n",
       "      <th>num_child</th>\n",
       "      <th>color_r</th>\n",
       "      <th>...</th>\n",
       "      <th>color_b</th>\n",
       "      <th>font_size</th>\n",
       "      <th>display</th>\n",
       "      <th>font_weight</th>\n",
       "      <th>width</th>\n",
       "      <th>height</th>\n",
       "      <th>font_family</th>\n",
       "      <th>text_align</th>\n",
       "      <th>line_height</th>\n",
       "      <th>locale</th>\n",
       "    </tr>\n",
       "  </thead>\n",
       "  <tbody>\n",
       "    <tr>\n",
       "      <th>8</th>\n",
       "      <td>http://www.chicagoparkdistrict.com/parks/Galew...</td>\n",
       "      <td>name</td>\n",
       "      <td>Movie Inside the Park at Mayfair Park</td>\n",
       "      <td>15</td>\n",
       "      <td>200</td>\n",
       "      <td>60</td>\n",
       "      <td>357</td>\n",
       "      <td>25</td>\n",
       "      <td>None</td>\n",
       "      <td>51.0</td>\n",
       "      <td>...</td>\n",
       "      <td>51.0</td>\n",
       "      <td>26</td>\n",
       "      <td>3</td>\n",
       "      <td>300</td>\n",
       "      <td>-1.0</td>\n",
       "      <td>-1.0</td>\n",
       "      <td>856</td>\n",
       "      <td>7</td>\n",
       "      <td>28.0</td>\n",
       "      <td>en</td>\n",
       "    </tr>\n",
       "    <tr>\n",
       "      <th>10</th>\n",
       "      <td>http://www.chicagoparkdistrict.com/parks/Galew...</td>\n",
       "      <td>location</td>\n",
       "      <td>Mayfair Park\\n\\n \\n\\n                        4...</td>\n",
       "      <td>15</td>\n",
       "      <td>313</td>\n",
       "      <td>100</td>\n",
       "      <td>370</td>\n",
       "      <td>21</td>\n",
       "      <td>None</td>\n",
       "      <td>0.0</td>\n",
       "      <td>...</td>\n",
       "      <td>0.0</td>\n",
       "      <td>13</td>\n",
       "      <td>2</td>\n",
       "      <td>400</td>\n",
       "      <td>370.0</td>\n",
       "      <td>100.0</td>\n",
       "      <td>856</td>\n",
       "      <td>7</td>\n",
       "      <td>20.0</td>\n",
       "      <td>en</td>\n",
       "    </tr>\n",
       "    <tr>\n",
       "      <th>11</th>\n",
       "      <td>http://www.chicagoparkdistrict.com/parks/Scott...</td>\n",
       "      <td>name</td>\n",
       "      <td>Night Out: Movies in the Parks at Sauganash</td>\n",
       "      <td>15</td>\n",
       "      <td>200</td>\n",
       "      <td>60</td>\n",
       "      <td>363</td>\n",
       "      <td>25</td>\n",
       "      <td>None</td>\n",
       "      <td>51.0</td>\n",
       "      <td>...</td>\n",
       "      <td>51.0</td>\n",
       "      <td>26</td>\n",
       "      <td>3</td>\n",
       "      <td>300</td>\n",
       "      <td>-1.0</td>\n",
       "      <td>-1.0</td>\n",
       "      <td>856</td>\n",
       "      <td>7</td>\n",
       "      <td>28.0</td>\n",
       "      <td>en</td>\n",
       "    </tr>\n",
       "    <tr>\n",
       "      <th>14</th>\n",
       "      <td>http://www.chicagoparkdistrict.com/parks/Scott...</td>\n",
       "      <td>description</td>\n",
       "      <td>The Land Before TimeFive orphan dinosaurs trav...</td>\n",
       "      <td>15</td>\n",
       "      <td>493</td>\n",
       "      <td>170</td>\n",
       "      <td>370</td>\n",
       "      <td>25</td>\n",
       "      <td>None</td>\n",
       "      <td>0.0</td>\n",
       "      <td>...</td>\n",
       "      <td>0.0</td>\n",
       "      <td>13</td>\n",
       "      <td>3</td>\n",
       "      <td>400</td>\n",
       "      <td>-1.0</td>\n",
       "      <td>-1.0</td>\n",
       "      <td>856</td>\n",
       "      <td>7</td>\n",
       "      <td>20.0</td>\n",
       "      <td>en</td>\n",
       "    </tr>\n",
       "    <tr>\n",
       "      <th>22</th>\n",
       "      <td>http://www.chicagoparkdistrict.com/events/movi...</td>\n",
       "      <td>name</td>\n",
       "      <td>Movies in the Park: The Smurfs</td>\n",
       "      <td>15</td>\n",
       "      <td>200</td>\n",
       "      <td>32</td>\n",
       "      <td>339</td>\n",
       "      <td>25</td>\n",
       "      <td>None</td>\n",
       "      <td>51.0</td>\n",
       "      <td>...</td>\n",
       "      <td>51.0</td>\n",
       "      <td>26</td>\n",
       "      <td>3</td>\n",
       "      <td>300</td>\n",
       "      <td>-1.0</td>\n",
       "      <td>-1.0</td>\n",
       "      <td>856</td>\n",
       "      <td>7</td>\n",
       "      <td>28.0</td>\n",
       "      <td>en</td>\n",
       "    </tr>\n",
       "  </tbody>\n",
       "</table>\n",
       "<p>5 rows × 21 columns</p>\n",
       "</div>"
      ],
      "text/plain": [
       "                                                  url    meta_name  \\\n",
       "8   http://www.chicagoparkdistrict.com/parks/Galew...         name   \n",
       "10  http://www.chicagoparkdistrict.com/parks/Galew...     location   \n",
       "11  http://www.chicagoparkdistrict.com/parks/Scott...         name   \n",
       "14  http://www.chicagoparkdistrict.com/parks/Scott...  description   \n",
       "22  http://www.chicagoparkdistrict.com/events/movi...         name   \n",
       "\n",
       "                                                 text  x_coords  y_coords  \\\n",
       "8               Movie Inside the Park at Mayfair Park        15       200   \n",
       "10  Mayfair Park\\n\\n \\n\\n                        4...        15       313   \n",
       "11        Night Out: Movies in the Parks at Sauganash        15       200   \n",
       "14  The Land Before TimeFive orphan dinosaurs trav...        15       493   \n",
       "22                     Movies in the Park: The Smurfs        15       200   \n",
       "\n",
       "    block_height  block_width  tag num_child  color_r   ...    color_b  \\\n",
       "8             60          357   25      None     51.0   ...       51.0   \n",
       "10           100          370   21      None      0.0   ...        0.0   \n",
       "11            60          363   25      None     51.0   ...       51.0   \n",
       "14           170          370   25      None      0.0   ...        0.0   \n",
       "22            32          339   25      None     51.0   ...       51.0   \n",
       "\n",
       "    font_size  display  font_weight  width  height  font_family  text_align  \\\n",
       "8          26        3          300   -1.0    -1.0          856           7   \n",
       "10         13        2          400  370.0   100.0          856           7   \n",
       "11         26        3          300   -1.0    -1.0          856           7   \n",
       "14         13        3          400   -1.0    -1.0          856           7   \n",
       "22         26        3          300   -1.0    -1.0          856           7   \n",
       "\n",
       "    line_height  locale  \n",
       "8          28.0      en  \n",
       "10         20.0      en  \n",
       "11         28.0      en  \n",
       "14         20.0      en  \n",
       "22         28.0      en  \n",
       "\n",
       "[5 rows x 21 columns]"
      ]
     },
     "execution_count": 124,
     "metadata": {},
     "output_type": "execute_result"
    }
   ],
   "source": [
    "DATA_NUM.head()"
   ]
  },
  {
   "cell_type": "code",
   "execution_count": null,
   "metadata": {
    "collapsed": true
   },
   "outputs": [],
   "source": []
  },
  {
   "cell_type": "code",
   "execution_count": 125,
   "metadata": {
    "collapsed": true
   },
   "outputs": [],
   "source": [
    "DATA_NUM = DATA_NUM.dropna()"
   ]
  },
  {
   "cell_type": "code",
   "execution_count": 128,
   "metadata": {
    "collapsed": false
   },
   "outputs": [
    {
     "data": {
      "text/html": [
       "<div>\n",
       "<table border=\"1\" class=\"dataframe\">\n",
       "  <thead>\n",
       "    <tr style=\"text-align: right;\">\n",
       "      <th></th>\n",
       "      <th>x_coords</th>\n",
       "      <th>y_coords</th>\n",
       "      <th>block_height</th>\n",
       "      <th>block_width</th>\n",
       "      <th>tag</th>\n",
       "      <th>num_child</th>\n",
       "      <th>color_r</th>\n",
       "      <th>color_g</th>\n",
       "      <th>color_b</th>\n",
       "      <th>font_size</th>\n",
       "      <th>display</th>\n",
       "      <th>font_weight</th>\n",
       "      <th>width</th>\n",
       "      <th>height</th>\n",
       "      <th>font_family</th>\n",
       "      <th>text_align</th>\n",
       "      <th>line_height</th>\n",
       "      <th>locale</th>\n",
       "    </tr>\n",
       "  </thead>\n",
       "  <tbody>\n",
       "    <tr>\n",
       "      <th>8</th>\n",
       "      <td>15</td>\n",
       "      <td>200</td>\n",
       "      <td>60</td>\n",
       "      <td>357</td>\n",
       "      <td>25</td>\n",
       "      <td>None</td>\n",
       "      <td>51.0</td>\n",
       "      <td>51.0</td>\n",
       "      <td>51.0</td>\n",
       "      <td>26</td>\n",
       "      <td>3</td>\n",
       "      <td>300</td>\n",
       "      <td>-1.0</td>\n",
       "      <td>-1.0</td>\n",
       "      <td>856</td>\n",
       "      <td>7</td>\n",
       "      <td>28.0</td>\n",
       "      <td>en</td>\n",
       "    </tr>\n",
       "    <tr>\n",
       "      <th>10</th>\n",
       "      <td>15</td>\n",
       "      <td>313</td>\n",
       "      <td>100</td>\n",
       "      <td>370</td>\n",
       "      <td>21</td>\n",
       "      <td>None</td>\n",
       "      <td>0.0</td>\n",
       "      <td>0.0</td>\n",
       "      <td>0.0</td>\n",
       "      <td>13</td>\n",
       "      <td>2</td>\n",
       "      <td>400</td>\n",
       "      <td>370.0</td>\n",
       "      <td>100.0</td>\n",
       "      <td>856</td>\n",
       "      <td>7</td>\n",
       "      <td>20.0</td>\n",
       "      <td>en</td>\n",
       "    </tr>\n",
       "    <tr>\n",
       "      <th>11</th>\n",
       "      <td>15</td>\n",
       "      <td>200</td>\n",
       "      <td>60</td>\n",
       "      <td>363</td>\n",
       "      <td>25</td>\n",
       "      <td>None</td>\n",
       "      <td>51.0</td>\n",
       "      <td>51.0</td>\n",
       "      <td>51.0</td>\n",
       "      <td>26</td>\n",
       "      <td>3</td>\n",
       "      <td>300</td>\n",
       "      <td>-1.0</td>\n",
       "      <td>-1.0</td>\n",
       "      <td>856</td>\n",
       "      <td>7</td>\n",
       "      <td>28.0</td>\n",
       "      <td>en</td>\n",
       "    </tr>\n",
       "    <tr>\n",
       "      <th>14</th>\n",
       "      <td>15</td>\n",
       "      <td>493</td>\n",
       "      <td>170</td>\n",
       "      <td>370</td>\n",
       "      <td>25</td>\n",
       "      <td>None</td>\n",
       "      <td>0.0</td>\n",
       "      <td>0.0</td>\n",
       "      <td>0.0</td>\n",
       "      <td>13</td>\n",
       "      <td>3</td>\n",
       "      <td>400</td>\n",
       "      <td>-1.0</td>\n",
       "      <td>-1.0</td>\n",
       "      <td>856</td>\n",
       "      <td>7</td>\n",
       "      <td>20.0</td>\n",
       "      <td>en</td>\n",
       "    </tr>\n",
       "    <tr>\n",
       "      <th>22</th>\n",
       "      <td>15</td>\n",
       "      <td>200</td>\n",
       "      <td>32</td>\n",
       "      <td>339</td>\n",
       "      <td>25</td>\n",
       "      <td>None</td>\n",
       "      <td>51.0</td>\n",
       "      <td>51.0</td>\n",
       "      <td>51.0</td>\n",
       "      <td>26</td>\n",
       "      <td>3</td>\n",
       "      <td>300</td>\n",
       "      <td>-1.0</td>\n",
       "      <td>-1.0</td>\n",
       "      <td>856</td>\n",
       "      <td>7</td>\n",
       "      <td>28.0</td>\n",
       "      <td>en</td>\n",
       "    </tr>\n",
       "  </tbody>\n",
       "</table>\n",
       "</div>"
      ],
      "text/plain": [
       "    x_coords  y_coords  block_height  block_width  tag num_child  color_r  \\\n",
       "8         15       200            60          357   25      None     51.0   \n",
       "10        15       313           100          370   21      None      0.0   \n",
       "11        15       200            60          363   25      None     51.0   \n",
       "14        15       493           170          370   25      None      0.0   \n",
       "22        15       200            32          339   25      None     51.0   \n",
       "\n",
       "    color_g  color_b  font_size  display  font_weight  width  height  \\\n",
       "8      51.0     51.0         26        3          300   -1.0    -1.0   \n",
       "10      0.0      0.0         13        2          400  370.0   100.0   \n",
       "11     51.0     51.0         26        3          300   -1.0    -1.0   \n",
       "14      0.0      0.0         13        3          400   -1.0    -1.0   \n",
       "22     51.0     51.0         26        3          300   -1.0    -1.0   \n",
       "\n",
       "    font_family  text_align  line_height locale  \n",
       "8           856           7         28.0     en  \n",
       "10          856           7         20.0     en  \n",
       "11          856           7         28.0     en  \n",
       "14          856           7         20.0     en  \n",
       "22          856           7         28.0     en  "
      ]
     },
     "execution_count": 128,
     "metadata": {},
     "output_type": "execute_result"
    }
   ],
   "source": [
    "DATA_NUM.head().iloc[:,3:]"
   ]
  },
  {
   "cell_type": "code",
   "execution_count": 129,
   "metadata": {
    "collapsed": false
   },
   "outputs": [
    {
     "data": {
      "text/plain": [
       "Index(['x_coords', 'y_coords', 'block_height', 'block_width', 'tag',\n",
       "       'num_child', 'color_r', 'color_g', 'color_b', 'font_size', 'display',\n",
       "       'font_weight', 'width', 'height', 'font_family', 'text_align',\n",
       "       'line_height', 'locale'],\n",
       "      dtype='object')"
      ]
     },
     "execution_count": 129,
     "metadata": {},
     "output_type": "execute_result"
    }
   ],
   "source": [
    "DATA_NUM.head().iloc[:,3:].columns"
   ]
  },
  {
   "cell_type": "markdown",
   "metadata": {},
   "source": [
    "## Save data and encoders for futher work"
   ]
  },
  {
   "cell_type": "code",
   "execution_count": 243,
   "metadata": {
    "collapsed": false
   },
   "outputs": [
    {
     "name": "stdout",
     "output_type": "stream",
     "text": [
      "Stored 'DATA_NUM' (DataFrame)\n",
      "Stored 'le_tag' (ndarray)\n",
      "Stored 'le_css_text_align' (ndarray)\n",
      "Stored 'le_css_font' (ndarray)\n",
      "Stored 'le_css_display' (ndarray)\n"
     ]
    }
   ],
   "source": [
    "# Store clean numeric data\n",
    "%store DATA_NUM\n",
    "\n",
    "# Store tag encoding\n",
    "%store le_tag\n",
    "\n",
    "# Store css propertirs encodings\n",
    "%store le_css_text_align\n",
    "%store le_css_font\n",
    "%store le_css_display"
   ]
  },
  {
   "cell_type": "code",
   "execution_count": 244,
   "metadata": {
    "collapsed": false
   },
   "outputs": [
    {
     "data": {
      "text/plain": [
       "(290074, 21)"
      ]
     },
     "execution_count": 244,
     "metadata": {},
     "output_type": "execute_result"
    }
   ],
   "source": [
    "DATA_NUM.shape"
   ]
  },
  {
   "cell_type": "code",
   "execution_count": null,
   "metadata": {
    "collapsed": false
   },
   "outputs": [],
   "source": []
  },
  {
   "cell_type": "code",
   "execution_count": 245,
   "metadata": {
    "collapsed": false
   },
   "outputs": [],
   "source": [
    "import h5py\n",
    "DATA_NUM.to_hdf('store.h5', 'DATA_NUM')"
   ]
  }
 ],
 "metadata": {
  "anaconda-cloud": {},
  "kernelspec": {
   "display_name": "Python [default]",
   "language": "python",
   "name": "python3"
  },
  "language_info": {
   "codemirror_mode": {
    "name": "ipython",
    "version": 3
   },
   "file_extension": ".py",
   "mimetype": "text/x-python",
   "name": "python",
   "nbconvert_exporter": "python",
   "pygments_lexer": "ipython3",
   "version": "3.5.2"
  }
 },
 "nbformat": 4,
 "nbformat_minor": 1
}
