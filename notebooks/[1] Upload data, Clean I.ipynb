{
 "cells": [
  {
   "cell_type": "code",
   "execution_count": 59,
   "metadata": {
    "collapsed": true
   },
   "outputs": [],
   "source": [
    "%matplotlib inline\n",
    "import warnings\n",
    "warnings.filterwarnings('ignore')\n",
    "\n",
    "from utils_all import *\n",
    "\n",
    "import pandas as pd\n",
    "import numpy as np\n",
    "import os\n",
    "\n",
    "import paramiko"
   ]
  },
  {
   "cell_type": "markdown",
   "metadata": {},
   "source": [
    "# Upload or update data and Cleaning 1"
   ]
  },
  {
   "cell_type": "markdown",
   "metadata": {},
   "source": [
    "In this notebook we will load all related data from MetaCentrum disctributed system and store it. \n",
    "Also in the end we will do primary cleaning of dataset (I ot of III stages)"
   ]
  },
  {
   "cell_type": "markdown",
   "metadata": {},
   "source": [
    "### Update local data storage and fetch data from MetaCentrum"
   ]
  },
  {
   "cell_type": "code",
   "execution_count": 15,
   "metadata": {
    "collapsed": false
   },
   "outputs": [],
   "source": [
    "# Folder settings\n",
    "DIR = '/Users/jetbrains/Yandex.Disk.localized/Diploma/DATA_DIPLOMA'\n",
    "DIR_EVENT = DIR + '/data_parsed/'\n",
    "DIR_ALL = DIR + '/data_all_elements/'\n",
    "\n",
    "REMOTE_DIR = '/storage/brno2/home/shchegal/Diploma/parser'\n",
    "REMOTE_DIR_EVENT = REMOTE_DIR + '/data_parsed'\n",
    "REMOTE_DIR_ALL = REMOTE_DIR + '/data_all_elements_parsed'"
   ]
  },
  {
   "cell_type": "code",
   "execution_count": 16,
   "metadata": {
    "collapsed": false
   },
   "outputs": [],
   "source": [
    "def load_remote_data(remote_dir, local_dir):\n",
    "    ssh = paramiko.SSHClient()\n",
    "    ssh.set_missing_host_key_policy(paramiko.AutoAddPolicy())\n",
    "    ssh.connect('skirit.metacentrum.cz', username='', password='')\n",
    "    local_files = os.listdir(local_dir)\n",
    "    sftp = ssh.open_sftp()\n",
    "    dir_items = sftp.listdir_attr(remote_dir)\n",
    "    for item in dir_items:\n",
    "        file_name = item.filename\n",
    "        if item.filename not in local_files:\n",
    "            local_path = os.path.join(local_dir, file_name)\n",
    "            remote_path = remote_dir + '/' + file_name\n",
    "            sftp.get(remote_path, local_path)"
   ]
  },
  {
   "cell_type": "markdown",
   "metadata": {},
   "source": [
    "Load data from MetaCentrum to local folder. \n",
    "2 steps: data for event components and data for all elements. Do it only if you have a new data.\n",
    "It doesn't load files which already located locally"
   ]
  },
  {
   "cell_type": "code",
   "execution_count": 12,
   "metadata": {
    "collapsed": true
   },
   "outputs": [],
   "source": [
    "# Load data with event component, long operation\n",
    "load_remote_data(REMOTE_DIR_EVENT, DIR_EVENT)"
   ]
  },
  {
   "cell_type": "code",
   "execution_count": 17,
   "metadata": {
    "collapsed": false
   },
   "outputs": [],
   "source": [
    "#load data with all elements, long operation\n",
    "load_remote_data(REMOTE_DIR_ALL, DIR_ALL)"
   ]
  },
  {
   "cell_type": "markdown",
   "metadata": {
    "deletable": true,
    "editable": true
   },
   "source": [
    "### Write data to the file\n"
   ]
  },
  {
   "cell_type": "code",
   "execution_count": 18,
   "metadata": {
    "ExecuteTime": {
     "end_time": "2017-03-30T14:27:59.990876Z",
     "start_time": "2017-03-30T14:27:59.985805"
    },
    "collapsed": false,
    "deletable": true,
    "editable": true
   },
   "outputs": [],
   "source": [
    "files_events = os.listdir(DIR_EVENT)[1:]\n",
    "files_all = os.listdir(DIR_ALL)[1:]"
   ]
  },
  {
   "cell_type": "markdown",
   "metadata": {},
   "source": [
    "Read both Events and ALL files and write into one file DATA.csv "
   ]
  },
  {
   "cell_type": "code",
   "execution_count": 22,
   "metadata": {
    "ExecuteTime": {
     "end_time": "2017-03-30T14:28:04.244678Z",
     "start_time": "2017-03-30T14:28:04.194372"
    },
    "collapsed": false,
    "deletable": true,
    "editable": true
   },
   "outputs": [],
   "source": [
    "with open(DIR + \"/DATA.csv\", \"w\") as outfile:\n",
    "    for f in files_events:\n",
    "        with open(DIR_EVENT + f, \"r\") as infile:\n",
    "            outfile.write(infile.read())\n",
    "    for f in files_all:\n",
    "        with open(DIR_ALL + f, \"r\") as infile:\n",
    "            outfile.write(infile.read().replace(\"b'\",\"'\").replace(\"'\",\"\"))"
   ]
  },
  {
   "cell_type": "code",
   "execution_count": 23,
   "metadata": {
    "collapsed": false
   },
   "outputs": [],
   "source": [
    "DATA = pd.read_csv(DIR + '/DATA.csv', delimiter='\\t')"
   ]
  },
  {
   "cell_type": "code",
   "execution_count": 24,
   "metadata": {
    "collapsed": false
   },
   "outputs": [
    {
     "name": "stdout",
     "output_type": "stream",
     "text": [
      "<class 'pandas.core.frame.DataFrame'>\n",
      "RangeIndex: 1597769 entries, 0 to 1597768\n",
      "Columns: 297 entries, http://www.therapeutenfinder.com/veranstaltungen/10357-neu-psycho-holistischer-stammtisch-2015-07-12-m\\u00FCnchen.html\n",
      " to auto.52\n",
      "dtypes: float64(2), object(295)\n",
      "memory usage: 3.5+ GB\n"
     ]
    }
   ],
   "source": [
    "DATA.info()"
   ]
  },
  {
   "cell_type": "code",
   "execution_count": 25,
   "metadata": {
    "collapsed": false
   },
   "outputs": [
    {
     "data": {
      "text/plain": [
       "(1597769, 297)"
      ]
     },
     "execution_count": 25,
     "metadata": {},
     "output_type": "execute_result"
    }
   ],
   "source": [
    "DATA.shape"
   ]
  },
  {
   "cell_type": "code",
   "execution_count": 26,
   "metadata": {
    "collapsed": false
   },
   "outputs": [
    {
     "data": {
      "text/html": [
       "<div>\n",
       "<table border=\"1\" class=\"dataframe\">\n",
       "  <thead>\n",
       "    <tr style=\"text-align: right;\">\n",
       "      <th></th>\n",
       "      <th>http://www.therapeutenfinder.com/veranstaltungen/10357-neu-psycho-holistischer-stammtisch-2015-07-12-m\\u00FCnchen.html</th>\n",
       "      <th>name</th>\n",
       "      <th>Neu! Psycho-Holistischer Stammtisch</th>\n",
       "      <th>52</th>\n",
       "      <th>587</th>\n",
       "      <th>52.1</th>\n",
       "      <th>288</th>\n",
       "      <th>h1</th>\n",
       "      <th>Unnamed: 8</th>\n",
       "      <th>4</th>\n",
       "      <th>...</th>\n",
       "      <th>normal.17</th>\n",
       "      <th>single</th>\n",
       "      <th>none.52</th>\n",
       "      <th>stretch.5</th>\n",
       "      <th>auto.50</th>\n",
       "      <th>auto.51</th>\n",
       "      <th>none.53</th>\n",
       "      <th>none.54</th>\n",
       "      <th>1.11</th>\n",
       "      <th>auto.52</th>\n",
       "    </tr>\n",
       "  </thead>\n",
       "  <tbody>\n",
       "    <tr>\n",
       "      <th>0</th>\n",
       "      <td>https://d.lib.ncsu.edu/collections/catalog/unc...</td>\n",
       "      <td>name</td>\n",
       "      <td>NaN</td>\n",
       "      <td>0</td>\n",
       "      <td>0</td>\n",
       "      <td>0</td>\n",
       "      <td>0</td>\n",
       "      <td>meta</td>\n",
       "      <td>NaN</td>\n",
       "      <td>3</td>\n",
       "      <td>...</td>\n",
       "      <td>normal</td>\n",
       "      <td>single</td>\n",
       "      <td>none</td>\n",
       "      <td>stretch</td>\n",
       "      <td>auto</td>\n",
       "      <td>auto</td>\n",
       "      <td>none</td>\n",
       "      <td>none</td>\n",
       "      <td>1.0</td>\n",
       "      <td>auto</td>\n",
       "    </tr>\n",
       "    <tr>\n",
       "      <th>1</th>\n",
       "      <td>https://d.lib.ncsu.edu/collections/catalog/unc...</td>\n",
       "      <td>startDate</td>\n",
       "      <td>1923</td>\n",
       "      <td>31</td>\n",
       "      <td>2135</td>\n",
       "      <td>19</td>\n",
       "      <td>40</td>\n",
       "      <td>time</td>\n",
       "      <td>NaN</td>\n",
       "      <td>3</td>\n",
       "      <td>...</td>\n",
       "      <td>normal</td>\n",
       "      <td>single</td>\n",
       "      <td>none</td>\n",
       "      <td>stretch</td>\n",
       "      <td>auto</td>\n",
       "      <td>auto</td>\n",
       "      <td>none</td>\n",
       "      <td>none</td>\n",
       "      <td>1.0</td>\n",
       "      <td>auto</td>\n",
       "    </tr>\n",
       "    <tr>\n",
       "      <th>2</th>\n",
       "      <td>https://d.lib.ncsu.edu/collections/catalog/unc...</td>\n",
       "      <td>description</td>\n",
       "      <td>NaN</td>\n",
       "      <td>0</td>\n",
       "      <td>0</td>\n",
       "      <td>0</td>\n",
       "      <td>0</td>\n",
       "      <td>meta</td>\n",
       "      <td>NaN</td>\n",
       "      <td>3</td>\n",
       "      <td>...</td>\n",
       "      <td>normal</td>\n",
       "      <td>single</td>\n",
       "      <td>none</td>\n",
       "      <td>stretch</td>\n",
       "      <td>auto</td>\n",
       "      <td>auto</td>\n",
       "      <td>none</td>\n",
       "      <td>none</td>\n",
       "      <td>1.0</td>\n",
       "      <td>auto</td>\n",
       "    </tr>\n",
       "    <tr>\n",
       "      <th>3</th>\n",
       "      <td>http://www.ticketbis.com/ar/entradas-schalke-0...</td>\n",
       "      <td>name</td>\n",
       "      <td>FC Ingolstadt - Schalke 04</td>\n",
       "      <td>26</td>\n",
       "      <td>1245</td>\n",
       "      <td>14</td>\n",
       "      <td>163</td>\n",
       "      <td>span</td>\n",
       "      <td>NaN</td>\n",
       "      <td>1</td>\n",
       "      <td>...</td>\n",
       "      <td>normal</td>\n",
       "      <td>single</td>\n",
       "      <td>none</td>\n",
       "      <td>stretch</td>\n",
       "      <td>auto</td>\n",
       "      <td>auto</td>\n",
       "      <td>none</td>\n",
       "      <td>none</td>\n",
       "      <td>1.0</td>\n",
       "      <td>auto</td>\n",
       "    </tr>\n",
       "    <tr>\n",
       "      <th>4</th>\n",
       "      <td>http://www.sortiraparis.com/scenes/concert-mus...</td>\n",
       "      <td>name</td>\n",
       "      <td>Alice au pays de la jungle</td>\n",
       "      <td>14</td>\n",
       "      <td>391</td>\n",
       "      <td>21</td>\n",
       "      <td>640</td>\n",
       "      <td>h1</td>\n",
       "      <td>NaN</td>\n",
       "      <td>9</td>\n",
       "      <td>...</td>\n",
       "      <td>normal</td>\n",
       "      <td>single</td>\n",
       "      <td>none</td>\n",
       "      <td>stretch</td>\n",
       "      <td>auto</td>\n",
       "      <td>auto</td>\n",
       "      <td>none</td>\n",
       "      <td>none</td>\n",
       "      <td>1.0</td>\n",
       "      <td>auto</td>\n",
       "    </tr>\n",
       "  </tbody>\n",
       "</table>\n",
       "<p>5 rows × 297 columns</p>\n",
       "</div>"
      ],
      "text/plain": [
       "  http://www.therapeutenfinder.com/veranstaltungen/10357-neu-psycho-holistischer-stammtisch-2015-07-12-m\\u00FCnchen.html\\n  \\\n",
       "0  https://d.lib.ncsu.edu/collections/catalog/unc...                                                                         \n",
       "1  https://d.lib.ncsu.edu/collections/catalog/unc...                                                                         \n",
       "2  https://d.lib.ncsu.edu/collections/catalog/unc...                                                                         \n",
       "3  http://www.ticketbis.com/ar/entradas-schalke-0...                                                                         \n",
       "4  http://www.sortiraparis.com/scenes/concert-mus...                                                                         \n",
       "\n",
       "          name Neu! Psycho-Holistischer Stammtisch  52   587 52.1  288    h1  \\\n",
       "0         name                                 NaN   0     0    0    0  meta   \n",
       "1    startDate                                1923  31  2135   19   40  time   \n",
       "2  description                                 NaN   0     0    0    0  meta   \n",
       "3         name          FC Ingolstadt - Schalke 04  26  1245   14  163  span   \n",
       "4         name          Alice au pays de la jungle  14   391   21  640    h1   \n",
       "\n",
       "  Unnamed: 8  4   ...   normal.17  single none.52 stretch.5 auto.50 auto.51  \\\n",
       "0        NaN  3   ...      normal  single    none   stretch    auto    auto   \n",
       "1        NaN  3   ...      normal  single    none   stretch    auto    auto   \n",
       "2        NaN  3   ...      normal  single    none   stretch    auto    auto   \n",
       "3        NaN  1   ...      normal  single    none   stretch    auto    auto   \n",
       "4        NaN  9   ...      normal  single    none   stretch    auto    auto   \n",
       "\n",
       "  none.53 none.54 1.11 auto.52  \n",
       "0    none    none  1.0    auto  \n",
       "1    none    none  1.0    auto  \n",
       "2    none    none  1.0    auto  \n",
       "3    none    none  1.0    auto  \n",
       "4    none    none  1.0    auto  \n",
       "\n",
       "[5 rows x 297 columns]"
      ]
     },
     "execution_count": 26,
     "metadata": {},
     "output_type": "execute_result"
    }
   ],
   "source": [
    "DATA.head()"
   ]
  },
  {
   "cell_type": "markdown",
   "metadata": {},
   "source": [
    "Load several local files with headers"
   ]
  },
  {
   "cell_type": "code",
   "execution_count": 27,
   "metadata": {
    "collapsed": false,
    "deletable": true,
    "editable": true
   },
   "outputs": [],
   "source": [
    "data_local = pd.read_csv('/Users/jetbrains/PycharmProjects/SocioPath/data/data.csv', )"
   ]
  },
  {
   "cell_type": "code",
   "execution_count": 28,
   "metadata": {
    "collapsed": false,
    "deletable": true,
    "editable": true
   },
   "outputs": [],
   "source": [
    "DATA.columns = data_local.columns"
   ]
  },
  {
   "cell_type": "code",
   "execution_count": 29,
   "metadata": {
    "collapsed": false,
    "deletable": true,
    "editable": true
   },
   "outputs": [
    {
     "data": {
      "text/plain": [
       "443303"
      ]
     },
     "execution_count": 29,
     "metadata": {},
     "output_type": "execute_result"
    }
   ],
   "source": [
    "DATA.url.unique().size"
   ]
  },
  {
   "cell_type": "code",
   "execution_count": 30,
   "metadata": {
    "collapsed": false
   },
   "outputs": [
    {
     "data": {
      "text/html": [
       "<div>\n",
       "<table border=\"1\" class=\"dataframe\">\n",
       "  <thead>\n",
       "    <tr style=\"text-align: right;\">\n",
       "      <th></th>\n",
       "      <th>url</th>\n",
       "      <th>meta_name</th>\n",
       "      <th>text</th>\n",
       "      <th>x_coords</th>\n",
       "      <th>y_coords</th>\n",
       "      <th>block_height</th>\n",
       "      <th>block_width</th>\n",
       "      <th>tag</th>\n",
       "      <th>num_child</th>\n",
       "      <th>num_siblings</th>\n",
       "      <th>...</th>\n",
       "      <th>white-space</th>\n",
       "      <th>-webkit-box-lines</th>\n",
       "      <th>-webkit-animation-name</th>\n",
       "      <th>-webkit-align-items</th>\n",
       "      <th>page-break-inside</th>\n",
       "      <th>-webkit-grid-auto-rows</th>\n",
       "      <th>-webkit-clip-path</th>\n",
       "      <th>max-height</th>\n",
       "      <th>stroke-width</th>\n",
       "      <th>buffered-rendering</th>\n",
       "    </tr>\n",
       "  </thead>\n",
       "  <tbody>\n",
       "    <tr>\n",
       "      <th>0</th>\n",
       "      <td>https://d.lib.ncsu.edu/collections/catalog/unc...</td>\n",
       "      <td>name</td>\n",
       "      <td>NaN</td>\n",
       "      <td>0</td>\n",
       "      <td>0</td>\n",
       "      <td>0</td>\n",
       "      <td>0</td>\n",
       "      <td>meta</td>\n",
       "      <td>NaN</td>\n",
       "      <td>3</td>\n",
       "      <td>...</td>\n",
       "      <td>normal</td>\n",
       "      <td>single</td>\n",
       "      <td>none</td>\n",
       "      <td>stretch</td>\n",
       "      <td>auto</td>\n",
       "      <td>auto</td>\n",
       "      <td>none</td>\n",
       "      <td>none</td>\n",
       "      <td>1.0</td>\n",
       "      <td>auto</td>\n",
       "    </tr>\n",
       "    <tr>\n",
       "      <th>1</th>\n",
       "      <td>https://d.lib.ncsu.edu/collections/catalog/unc...</td>\n",
       "      <td>startDate</td>\n",
       "      <td>1923</td>\n",
       "      <td>31</td>\n",
       "      <td>2135</td>\n",
       "      <td>19</td>\n",
       "      <td>40</td>\n",
       "      <td>time</td>\n",
       "      <td>NaN</td>\n",
       "      <td>3</td>\n",
       "      <td>...</td>\n",
       "      <td>normal</td>\n",
       "      <td>single</td>\n",
       "      <td>none</td>\n",
       "      <td>stretch</td>\n",
       "      <td>auto</td>\n",
       "      <td>auto</td>\n",
       "      <td>none</td>\n",
       "      <td>none</td>\n",
       "      <td>1.0</td>\n",
       "      <td>auto</td>\n",
       "    </tr>\n",
       "    <tr>\n",
       "      <th>2</th>\n",
       "      <td>https://d.lib.ncsu.edu/collections/catalog/unc...</td>\n",
       "      <td>description</td>\n",
       "      <td>NaN</td>\n",
       "      <td>0</td>\n",
       "      <td>0</td>\n",
       "      <td>0</td>\n",
       "      <td>0</td>\n",
       "      <td>meta</td>\n",
       "      <td>NaN</td>\n",
       "      <td>3</td>\n",
       "      <td>...</td>\n",
       "      <td>normal</td>\n",
       "      <td>single</td>\n",
       "      <td>none</td>\n",
       "      <td>stretch</td>\n",
       "      <td>auto</td>\n",
       "      <td>auto</td>\n",
       "      <td>none</td>\n",
       "      <td>none</td>\n",
       "      <td>1.0</td>\n",
       "      <td>auto</td>\n",
       "    </tr>\n",
       "    <tr>\n",
       "      <th>3</th>\n",
       "      <td>http://www.ticketbis.com/ar/entradas-schalke-0...</td>\n",
       "      <td>name</td>\n",
       "      <td>FC Ingolstadt - Schalke 04</td>\n",
       "      <td>26</td>\n",
       "      <td>1245</td>\n",
       "      <td>14</td>\n",
       "      <td>163</td>\n",
       "      <td>span</td>\n",
       "      <td>NaN</td>\n",
       "      <td>1</td>\n",
       "      <td>...</td>\n",
       "      <td>normal</td>\n",
       "      <td>single</td>\n",
       "      <td>none</td>\n",
       "      <td>stretch</td>\n",
       "      <td>auto</td>\n",
       "      <td>auto</td>\n",
       "      <td>none</td>\n",
       "      <td>none</td>\n",
       "      <td>1.0</td>\n",
       "      <td>auto</td>\n",
       "    </tr>\n",
       "    <tr>\n",
       "      <th>4</th>\n",
       "      <td>http://www.sortiraparis.com/scenes/concert-mus...</td>\n",
       "      <td>name</td>\n",
       "      <td>Alice au pays de la jungle</td>\n",
       "      <td>14</td>\n",
       "      <td>391</td>\n",
       "      <td>21</td>\n",
       "      <td>640</td>\n",
       "      <td>h1</td>\n",
       "      <td>NaN</td>\n",
       "      <td>9</td>\n",
       "      <td>...</td>\n",
       "      <td>normal</td>\n",
       "      <td>single</td>\n",
       "      <td>none</td>\n",
       "      <td>stretch</td>\n",
       "      <td>auto</td>\n",
       "      <td>auto</td>\n",
       "      <td>none</td>\n",
       "      <td>none</td>\n",
       "      <td>1.0</td>\n",
       "      <td>auto</td>\n",
       "    </tr>\n",
       "  </tbody>\n",
       "</table>\n",
       "<p>5 rows × 297 columns</p>\n",
       "</div>"
      ],
      "text/plain": [
       "                                                 url    meta_name  \\\n",
       "0  https://d.lib.ncsu.edu/collections/catalog/unc...         name   \n",
       "1  https://d.lib.ncsu.edu/collections/catalog/unc...    startDate   \n",
       "2  https://d.lib.ncsu.edu/collections/catalog/unc...  description   \n",
       "3  http://www.ticketbis.com/ar/entradas-schalke-0...         name   \n",
       "4  http://www.sortiraparis.com/scenes/concert-mus...         name   \n",
       "\n",
       "                         text x_coords y_coords block_height block_width  \\\n",
       "0                         NaN        0        0            0           0   \n",
       "1                        1923       31     2135           19          40   \n",
       "2                         NaN        0        0            0           0   \n",
       "3  FC Ingolstadt - Schalke 04       26     1245           14         163   \n",
       "4  Alice au pays de la jungle       14      391           21         640   \n",
       "\n",
       "    tag num_child num_siblings        ...         white-space  \\\n",
       "0  meta       NaN            3        ...              normal   \n",
       "1  time       NaN            3        ...              normal   \n",
       "2  meta       NaN            3        ...              normal   \n",
       "3  span       NaN            1        ...              normal   \n",
       "4    h1       NaN            9        ...              normal   \n",
       "\n",
       "  -webkit-box-lines -webkit-animation-name -webkit-align-items  \\\n",
       "0            single                   none             stretch   \n",
       "1            single                   none             stretch   \n",
       "2            single                   none             stretch   \n",
       "3            single                   none             stretch   \n",
       "4            single                   none             stretch   \n",
       "\n",
       "  page-break-inside -webkit-grid-auto-rows -webkit-clip-path max-height  \\\n",
       "0              auto                   auto              none       none   \n",
       "1              auto                   auto              none       none   \n",
       "2              auto                   auto              none       none   \n",
       "3              auto                   auto              none       none   \n",
       "4              auto                   auto              none       none   \n",
       "\n",
       "  stroke-width buffered-rendering  \n",
       "0          1.0               auto  \n",
       "1          1.0               auto  \n",
       "2          1.0               auto  \n",
       "3          1.0               auto  \n",
       "4          1.0               auto  \n",
       "\n",
       "[5 rows x 297 columns]"
      ]
     },
     "execution_count": 30,
     "metadata": {},
     "output_type": "execute_result"
    }
   ],
   "source": [
    "DATA.head()"
   ]
  },
  {
   "cell_type": "markdown",
   "metadata": {},
   "source": [
    "### Very first clean dataset "
   ]
  },
  {
   "cell_type": "markdown",
   "metadata": {},
   "source": [
    "Clean dataset from NA in URL, otherwise it doesn't fit to a memory. Also clean_df remove zero width and height elements and elements with meta tags."
   ]
  },
  {
   "cell_type": "code",
   "execution_count": 42,
   "metadata": {
    "collapsed": false
   },
   "outputs": [],
   "source": [
    "DATA_CL = clean_df(DATA.dropna(subset=['url']))"
   ]
  },
  {
   "cell_type": "code",
   "execution_count": 51,
   "metadata": {
    "collapsed": false
   },
   "outputs": [
    {
     "data": {
      "text/plain": [
       "(1597769, 297)"
      ]
     },
     "execution_count": 51,
     "metadata": {},
     "output_type": "execute_result"
    }
   ],
   "source": [
    "DATA.shape"
   ]
  },
  {
   "cell_type": "code",
   "execution_count": 52,
   "metadata": {
    "collapsed": false
   },
   "outputs": [
    {
     "data": {
      "text/plain": [
       "(291030, 297)"
      ]
     },
     "execution_count": 52,
     "metadata": {},
     "output_type": "execute_result"
    }
   ],
   "source": [
    "DATA_CL.shape"
   ]
  },
  {
   "cell_type": "code",
   "execution_count": 53,
   "metadata": {
    "collapsed": false
   },
   "outputs": [
    {
     "data": {
      "text/plain": [
       "not_event_element     135689\n",
       "name                   63740\n",
       "location               38096\n",
       "startDate              33677\n",
       "description            19818\n",
       "auto                       4\n",
       "0 fill                     1\n",
       "none                       1\n",
       "normal                     1\n",
       "manual                     1\n",
       "rgb(136, 136, 136)         1\n",
       "Name: meta_name, dtype: int64"
      ]
     },
     "execution_count": 53,
     "metadata": {},
     "output_type": "execute_result"
    }
   ],
   "source": [
    "DATA_CL.meta_name.value_counts()"
   ]
  },
  {
   "cell_type": "code",
   "execution_count": 64,
   "metadata": {
    "collapsed": false
   },
   "outputs": [],
   "source": [
    "store = pd.HDFStore('store.h5')\n",
    "store['DATA_CL'] = DATA_CL"
   ]
  },
  {
   "cell_type": "code",
   "execution_count": 55,
   "metadata": {
    "collapsed": false
   },
   "outputs": [
    {
     "name": "stdout",
     "output_type": "stream",
     "text": [
      "Stored 'DATA_CL' (DataFrame)\n"
     ]
    }
   ],
   "source": [
    "%store DATA_CL"
   ]
  }
 ],
 "metadata": {
  "anaconda-cloud": {},
  "kernelspec": {
   "display_name": "Python [default]",
   "language": "python",
   "name": "python3"
  },
  "language_info": {
   "codemirror_mode": {
    "name": "ipython",
    "version": 3
   },
   "file_extension": ".py",
   "mimetype": "text/x-python",
   "name": "python",
   "nbconvert_exporter": "python",
   "pygments_lexer": "ipython3",
   "version": "3.5.2"
  }
 },
 "nbformat": 4,
 "nbformat_minor": 0
}
