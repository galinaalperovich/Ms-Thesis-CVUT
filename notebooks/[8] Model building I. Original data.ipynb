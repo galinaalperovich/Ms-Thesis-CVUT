{
 "cells": [
  {
   "cell_type": "code",
   "execution_count": 56,
   "metadata": {
    "collapsed": true
   },
   "outputs": [],
   "source": [
    "%matplotlib inline"
   ]
  },
  {
   "cell_type": "code",
   "execution_count": 57,
   "metadata": {
    "collapsed": true
   },
   "outputs": [],
   "source": [
    "import warnings\n",
    "warnings.filterwarnings('ignore')"
   ]
  },
  {
   "cell_type": "code",
   "execution_count": 58,
   "metadata": {
    "collapsed": false
   },
   "outputs": [],
   "source": [
    "from utils_all import *\n",
    "\n",
    "from sklearn.cross_validation import train_test_split\n",
    "from sklearn.ensemble import RandomForestClassifier\n",
    "from sklearn import preprocessing\n",
    "\n",
    "from sklearn.ensemble import ExtraTreesClassifier\n",
    "from sklearn.svm import SVC\n",
    "from sklearn.linear_model import LogisticRegression\n",
    "from sklearn.model_selection import GridSearchCV\n",
    "\n",
    "from sklearn import metrics\n",
    "\n",
    "import pandas as pd\n",
    "import numpy as np\n",
    "import os\n",
    "\n",
    "import matplotlib.pyplot as plt\n",
    "from sklearn.model_selection import cross_val_score"
   ]
  },
  {
   "cell_type": "markdown",
   "metadata": {},
   "source": [
    "# Model building I. Original data"
   ]
  },
  {
   "cell_type": "markdown",
   "metadata": {},
   "source": [
    "In this notebook we will perform: \n",
    "* Classification models on original numeric features without standartization and without domain intersection controlling = > results are overestimated!"
   ]
  },
  {
   "cell_type": "code",
   "execution_count": 59,
   "metadata": {
    "collapsed": true
   },
   "outputs": [],
   "source": [
    "%store -r DATA_NUM_CL_WITH_NAN_TXT_XY"
   ]
  },
  {
   "cell_type": "code",
   "execution_count": 60,
   "metadata": {
    "collapsed": false
   },
   "outputs": [],
   "source": [
    "data = DATA_NUM_CL_WITH_NAN_TXT_XY"
   ]
  },
  {
   "cell_type": "markdown",
   "metadata": {},
   "source": [
    "Construct numeric dataset"
   ]
  },
  {
   "cell_type": "code",
   "execution_count": 61,
   "metadata": {
    "collapsed": true
   },
   "outputs": [],
   "source": [
    "data_num = data.select_dtypes(['int64', 'float64'])\n",
    "data_num = data_num.fillna(data_num.mean())\n",
    "data_num['meta_name'] = data.meta_name"
   ]
  },
  {
   "cell_type": "code",
   "execution_count": 62,
   "metadata": {
    "collapsed": true
   },
   "outputs": [],
   "source": [
    "def analyse_original_data(field_name, data, estimator_name):\n",
    "    df_pos = data[data['meta_name'] == field_name]\n",
    "    df_neg = data[data['meta_name'] != field_name]\n",
    "\n",
    "    num_pos = df_pos.shape[0]\n",
    "    df_neg_smpl = df_neg.sample(num_pos)\n",
    "\n",
    "    no_column_name = 'no_' + field_name\n",
    "    X, real_train_meta_name = get_X(df_pos, df_neg_smpl, no_column_name)\n",
    "    \n",
    "    le_y = LabelEncoder()\n",
    "    y = le_y.fit_transform(X.meta_name.values)\n",
    "    X = X.drop('meta_name', 1)\n",
    "    \n",
    "    X_train, X_test, y_train, y_test = train_test_split(X, y, test_size=0.3)\n",
    "    clf = get_clf_by_name(estimator_name, param_grid={})\n",
    "    clf.fit(X_train, y_train)\n",
    "    test_score = clf.score(X_test, y_test)\n",
    "    y_test_pred = clf.predict(X_test)\n",
    "\n",
    "    f1 = metrics.f1_score(y_pred=y_test_pred, y_true=y_test)\n",
    "    precision = metrics.precision_score(y_pred=y_test_pred, y_true=y_test)\n",
    "    recall = metrics.recall_score(y_pred=y_test_pred, y_true=y_test)\n",
    "    accuracy = test_score\n",
    "    \n",
    "    result = pd.DataFrame({\"accuracy\": [accuracy],\n",
    "                           \"f1\": [f1],\n",
    "                           \"precision\": [precision],\n",
    "                           \"recall\": [recall]\n",
    "                           })\n",
    "    print(\"METRICS:\")\n",
    "    print(result)\n",
    "    \n",
    "    return result"
   ]
  },
  {
   "cell_type": "markdown",
   "metadata": {},
   "source": [
    "# Random Forest classifier"
   ]
  },
  {
   "cell_type": "markdown",
   "metadata": {},
   "source": [
    "### Name event component"
   ]
  },
  {
   "cell_type": "code",
   "execution_count": 63,
   "metadata": {
    "collapsed": false
   },
   "outputs": [
    {
     "name": "stdout",
     "output_type": "stream",
     "text": [
      "METRICS:\n",
      "   accuracy        f1  precision    recall\n",
      "0  0.978289  0.978305   0.983731  0.972938\n"
     ]
    }
   ],
   "source": [
    "result_name = analyse_original_data(\"name\", data_num, \"Random Forest\")"
   ]
  },
  {
   "cell_type": "markdown",
   "metadata": {},
   "source": [
    "### Location event component\n"
   ]
  },
  {
   "cell_type": "code",
   "execution_count": 64,
   "metadata": {
    "collapsed": false
   },
   "outputs": [
    {
     "name": "stdout",
     "output_type": "stream",
     "text": [
      "METRICS:\n",
      "   accuracy        f1  precision    recall\n",
      "0  0.965686  0.966049   0.968535  0.963574\n"
     ]
    }
   ],
   "source": [
    "result_location = analyse_original_data(\"location\", data_num, \"Random Forest\")"
   ]
  },
  {
   "cell_type": "code",
   "execution_count": null,
   "metadata": {
    "collapsed": true
   },
   "outputs": [],
   "source": []
  },
  {
   "cell_type": "code",
   "execution_count": null,
   "metadata": {
    "collapsed": true
   },
   "outputs": [],
   "source": []
  },
  {
   "cell_type": "markdown",
   "metadata": {},
   "source": [
    "### Start Date event component\n"
   ]
  },
  {
   "cell_type": "code",
   "execution_count": 65,
   "metadata": {
    "collapsed": false
   },
   "outputs": [
    {
     "name": "stdout",
     "output_type": "stream",
     "text": [
      "METRICS:\n",
      "   accuracy        f1  precision    recall\n",
      "0   0.98089  0.980895   0.974512  0.987363\n"
     ]
    }
   ],
   "source": [
    "result_date = analyse_original_data(\"startDate\", data_num, \"Random Forest\")"
   ]
  },
  {
   "cell_type": "code",
   "execution_count": null,
   "metadata": {
    "collapsed": true
   },
   "outputs": [],
   "source": []
  },
  {
   "cell_type": "code",
   "execution_count": null,
   "metadata": {
    "collapsed": true
   },
   "outputs": [],
   "source": []
  },
  {
   "cell_type": "markdown",
   "metadata": {
    "collapsed": true
   },
   "source": [
    "### Description event component\n"
   ]
  },
  {
   "cell_type": "code",
   "execution_count": 66,
   "metadata": {
    "collapsed": false
   },
   "outputs": [
    {
     "name": "stdout",
     "output_type": "stream",
     "text": [
      "METRICS:\n",
      "   accuracy        f1  precision    recall\n",
      "0  0.946375  0.946816   0.957576  0.936296\n"
     ]
    }
   ],
   "source": [
    "result_descr = analyse_original_data(\"description\", data_num, \"Random Forest\")"
   ]
  },
  {
   "cell_type": "markdown",
   "metadata": {},
   "source": [
    "# Result for Random forest"
   ]
  },
  {
   "cell_type": "code",
   "execution_count": 67,
   "metadata": {
    "collapsed": false
   },
   "outputs": [],
   "source": [
    "result_all_rf = pd.concat([result_name, result_date, result_location, result_descr])\n",
    "result_all_rf['meta_name'] = ['name', 'date', 'location', 'description']\n",
    "result_all_rf.ix[:,'model'] = 'Random forest'"
   ]
  },
  {
   "cell_type": "code",
   "execution_count": 68,
   "metadata": {
    "collapsed": false
   },
   "outputs": [
    {
     "data": {
      "text/html": [
       "<div>\n",
       "<table border=\"1\" class=\"dataframe\">\n",
       "  <thead>\n",
       "    <tr style=\"text-align: right;\">\n",
       "      <th></th>\n",
       "      <th>accuracy</th>\n",
       "      <th>f1</th>\n",
       "      <th>precision</th>\n",
       "      <th>recall</th>\n",
       "      <th>meta_name</th>\n",
       "      <th>model</th>\n",
       "    </tr>\n",
       "  </thead>\n",
       "  <tbody>\n",
       "    <tr>\n",
       "      <th>0</th>\n",
       "      <td>0.9783</td>\n",
       "      <td>0.9783</td>\n",
       "      <td>0.9837</td>\n",
       "      <td>0.9729</td>\n",
       "      <td>name</td>\n",
       "      <td>Random forest</td>\n",
       "    </tr>\n",
       "    <tr>\n",
       "      <th>0</th>\n",
       "      <td>0.9809</td>\n",
       "      <td>0.9809</td>\n",
       "      <td>0.9745</td>\n",
       "      <td>0.9874</td>\n",
       "      <td>date</td>\n",
       "      <td>Random forest</td>\n",
       "    </tr>\n",
       "    <tr>\n",
       "      <th>0</th>\n",
       "      <td>0.9657</td>\n",
       "      <td>0.9660</td>\n",
       "      <td>0.9685</td>\n",
       "      <td>0.9636</td>\n",
       "      <td>location</td>\n",
       "      <td>Random forest</td>\n",
       "    </tr>\n",
       "    <tr>\n",
       "      <th>0</th>\n",
       "      <td>0.9464</td>\n",
       "      <td>0.9468</td>\n",
       "      <td>0.9576</td>\n",
       "      <td>0.9363</td>\n",
       "      <td>description</td>\n",
       "      <td>Random forest</td>\n",
       "    </tr>\n",
       "  </tbody>\n",
       "</table>\n",
       "</div>"
      ],
      "text/plain": [
       "   accuracy      f1  precision  recall    meta_name          model\n",
       "0    0.9783  0.9783     0.9837  0.9729         name  Random forest\n",
       "0    0.9809  0.9809     0.9745  0.9874         date  Random forest\n",
       "0    0.9657  0.9660     0.9685  0.9636     location  Random forest\n",
       "0    0.9464  0.9468     0.9576  0.9363  description  Random forest"
      ]
     },
     "execution_count": 68,
     "metadata": {},
     "output_type": "execute_result"
    }
   ],
   "source": [
    "result_all_rf.round(4)"
   ]
  },
  {
   "cell_type": "markdown",
   "metadata": {},
   "source": [
    "# Logisitc regression"
   ]
  },
  {
   "cell_type": "code",
   "execution_count": 69,
   "metadata": {
    "collapsed": false
   },
   "outputs": [
    {
     "name": "stdout",
     "output_type": "stream",
     "text": [
      "METRICS:\n",
      "   accuracy        f1  precision    recall\n",
      "0  0.818031  0.815416   0.814656  0.816178\n",
      "METRICS:\n",
      "   accuracy        f1  precision   recall\n",
      "0  0.900355  0.902276   0.892479  0.91229\n",
      "METRICS:\n",
      "   accuracy        f1  precision    recall\n",
      "0  0.820069  0.823529   0.806202  0.841618\n",
      "METRICS:\n",
      "   accuracy        f1  precision    recall\n",
      "0  0.870846  0.877944    0.87234  0.883621\n"
     ]
    }
   ],
   "source": [
    "result_name = analyse_original_data(\"name\", data_num, \"Logistic regression\")\n",
    "result_date = analyse_original_data(\"startDate\", data_num, \"Logistic regression\")\n",
    "result_location = analyse_original_data(\"location\", data_num, \"Logistic regression\")\n",
    "result_descr = analyse_original_data(\"description\", data_num, \"Logistic regression\")"
   ]
  },
  {
   "cell_type": "markdown",
   "metadata": {},
   "source": [
    "# Result for Logisitc regression"
   ]
  },
  {
   "cell_type": "code",
   "execution_count": 70,
   "metadata": {
    "collapsed": false
   },
   "outputs": [
    {
     "data": {
      "text/html": [
       "<div>\n",
       "<table border=\"1\" class=\"dataframe\">\n",
       "  <thead>\n",
       "    <tr style=\"text-align: right;\">\n",
       "      <th></th>\n",
       "      <th>accuracy</th>\n",
       "      <th>f1</th>\n",
       "      <th>precision</th>\n",
       "      <th>recall</th>\n",
       "      <th>meta_name</th>\n",
       "      <th>model</th>\n",
       "    </tr>\n",
       "  </thead>\n",
       "  <tbody>\n",
       "    <tr>\n",
       "      <th>0</th>\n",
       "      <td>0.8180</td>\n",
       "      <td>0.8154</td>\n",
       "      <td>0.8147</td>\n",
       "      <td>0.8162</td>\n",
       "      <td>name</td>\n",
       "      <td>Logistic regression</td>\n",
       "    </tr>\n",
       "    <tr>\n",
       "      <th>0</th>\n",
       "      <td>0.9004</td>\n",
       "      <td>0.9023</td>\n",
       "      <td>0.8925</td>\n",
       "      <td>0.9123</td>\n",
       "      <td>date</td>\n",
       "      <td>Logistic regression</td>\n",
       "    </tr>\n",
       "    <tr>\n",
       "      <th>0</th>\n",
       "      <td>0.8201</td>\n",
       "      <td>0.8235</td>\n",
       "      <td>0.8062</td>\n",
       "      <td>0.8416</td>\n",
       "      <td>location</td>\n",
       "      <td>Logistic regression</td>\n",
       "    </tr>\n",
       "    <tr>\n",
       "      <th>0</th>\n",
       "      <td>0.8708</td>\n",
       "      <td>0.8779</td>\n",
       "      <td>0.8723</td>\n",
       "      <td>0.8836</td>\n",
       "      <td>description</td>\n",
       "      <td>Logistic regression</td>\n",
       "    </tr>\n",
       "  </tbody>\n",
       "</table>\n",
       "</div>"
      ],
      "text/plain": [
       "   accuracy      f1  precision  recall    meta_name                model\n",
       "0    0.8180  0.8154     0.8147  0.8162         name  Logistic regression\n",
       "0    0.9004  0.9023     0.8925  0.9123         date  Logistic regression\n",
       "0    0.8201  0.8235     0.8062  0.8416     location  Logistic regression\n",
       "0    0.8708  0.8779     0.8723  0.8836  description  Logistic regression"
      ]
     },
     "execution_count": 70,
     "metadata": {},
     "output_type": "execute_result"
    }
   ],
   "source": [
    "result_all_lr = pd.concat([result_name, result_date, result_location, result_descr])\n",
    "result_all_lr['meta_name'] = ['name', 'date', 'location', 'description']\n",
    "result_all_lr.ix[:,'model'] = 'Logistic regression'\n",
    "result_all_lr.round(4)"
   ]
  },
  {
   "cell_type": "code",
   "execution_count": null,
   "metadata": {
    "collapsed": true
   },
   "outputs": [],
   "source": []
  },
  {
   "cell_type": "markdown",
   "metadata": {},
   "source": [
    "# SVM"
   ]
  },
  {
   "cell_type": "code",
   "execution_count": 71,
   "metadata": {
    "collapsed": false
   },
   "outputs": [
    {
     "name": "stdout",
     "output_type": "stream",
     "text": [
      "METRICS:\n",
      "   accuracy        f1  precision    recall\n",
      "0  0.576817  0.702034   0.541413  0.998158\n",
      "METRICS:\n",
      "   accuracy        f1  precision    recall\n",
      "0  0.568933  0.212469   0.990698  0.118994\n",
      "METRICS:\n",
      "   accuracy        f1  precision    recall\n",
      "0   0.59083  0.714888   0.556459  0.999438\n",
      "METRICS:\n",
      "   accuracy        f1  precision  recall\n",
      "0  0.507553  0.664609   0.497689     1.0\n"
     ]
    }
   ],
   "source": [
    "result_name = analyse_original_data(\"name\", data_num, \"SVM\")\n",
    "result_date = analyse_original_data(\"startDate\", data_num, \"SVM\")\n",
    "result_location = analyse_original_data(\"location\", data_num, \"SVM\")\n",
    "result_descr = analyse_original_data(\"description\", data_num, \"SVM\")"
   ]
  },
  {
   "cell_type": "markdown",
   "metadata": {},
   "source": [
    "# Result for SVM"
   ]
  },
  {
   "cell_type": "code",
   "execution_count": 72,
   "metadata": {
    "collapsed": false
   },
   "outputs": [
    {
     "data": {
      "text/html": [
       "<div>\n",
       "<table border=\"1\" class=\"dataframe\">\n",
       "  <thead>\n",
       "    <tr style=\"text-align: right;\">\n",
       "      <th></th>\n",
       "      <th>accuracy</th>\n",
       "      <th>f1</th>\n",
       "      <th>precision</th>\n",
       "      <th>recall</th>\n",
       "      <th>meta_name</th>\n",
       "      <th>model</th>\n",
       "    </tr>\n",
       "  </thead>\n",
       "  <tbody>\n",
       "    <tr>\n",
       "      <th>0</th>\n",
       "      <td>0.5768</td>\n",
       "      <td>0.7020</td>\n",
       "      <td>0.5414</td>\n",
       "      <td>0.9982</td>\n",
       "      <td>name</td>\n",
       "      <td>SVM</td>\n",
       "    </tr>\n",
       "    <tr>\n",
       "      <th>0</th>\n",
       "      <td>0.5689</td>\n",
       "      <td>0.2125</td>\n",
       "      <td>0.9907</td>\n",
       "      <td>0.1190</td>\n",
       "      <td>date</td>\n",
       "      <td>SVM</td>\n",
       "    </tr>\n",
       "    <tr>\n",
       "      <th>0</th>\n",
       "      <td>0.5908</td>\n",
       "      <td>0.7149</td>\n",
       "      <td>0.5565</td>\n",
       "      <td>0.9994</td>\n",
       "      <td>location</td>\n",
       "      <td>SVM</td>\n",
       "    </tr>\n",
       "    <tr>\n",
       "      <th>0</th>\n",
       "      <td>0.5076</td>\n",
       "      <td>0.6646</td>\n",
       "      <td>0.4977</td>\n",
       "      <td>1.0000</td>\n",
       "      <td>description</td>\n",
       "      <td>SVM</td>\n",
       "    </tr>\n",
       "  </tbody>\n",
       "</table>\n",
       "</div>"
      ],
      "text/plain": [
       "   accuracy      f1  precision  recall    meta_name model\n",
       "0    0.5768  0.7020     0.5414  0.9982         name   SVM\n",
       "0    0.5689  0.2125     0.9907  0.1190         date   SVM\n",
       "0    0.5908  0.7149     0.5565  0.9994     location   SVM\n",
       "0    0.5076  0.6646     0.4977  1.0000  description   SVM"
      ]
     },
     "execution_count": 72,
     "metadata": {},
     "output_type": "execute_result"
    }
   ],
   "source": [
    "result_all_svm = pd.concat([result_name, result_date, result_location, result_descr])\n",
    "result_all_svm['meta_name'] = ['name', 'date', 'location', 'description']\n",
    "result_all_svm.ix[:,'model'] = 'SVM'\n",
    "result_all_svm.round(4)"
   ]
  },
  {
   "cell_type": "markdown",
   "metadata": {},
   "source": [
    "# Extreme Random Forest"
   ]
  },
  {
   "cell_type": "code",
   "execution_count": 73,
   "metadata": {
    "collapsed": false
   },
   "outputs": [
    {
     "name": "stdout",
     "output_type": "stream",
     "text": [
      "METRICS:\n",
      "   accuracy        f1  precision    recall\n",
      "0  0.975989  0.975991   0.979505  0.972502\n",
      "METRICS:\n",
      "   accuracy        f1  precision    recall\n",
      "0  0.984985  0.985392   0.986702  0.984085\n",
      "METRICS:\n",
      "   accuracy        f1  precision    recall\n",
      "0  0.968281  0.968226   0.969907  0.966551\n",
      "METRICS:\n",
      "   accuracy        f1  precision    recall\n",
      "0  0.964502  0.963929   0.982786  0.945783\n"
     ]
    }
   ],
   "source": [
    "result_name = analyse_original_data(\"name\", data_num, \"Extreme Random Forest\")\n",
    "result_date = analyse_original_data(\"startDate\", data_num, \"Extreme Random Forest\")\n",
    "result_location = analyse_original_data(\"location\", data_num, \"Extreme Random Forest\")\n",
    "result_descr = analyse_original_data(\"description\", data_num, \"Extreme Random Forest\")"
   ]
  },
  {
   "cell_type": "markdown",
   "metadata": {},
   "source": [
    "# Results for Extreme Random Forest"
   ]
  },
  {
   "cell_type": "code",
   "execution_count": 74,
   "metadata": {
    "collapsed": false
   },
   "outputs": [
    {
     "data": {
      "text/html": [
       "<div>\n",
       "<table border=\"1\" class=\"dataframe\">\n",
       "  <thead>\n",
       "    <tr style=\"text-align: right;\">\n",
       "      <th></th>\n",
       "      <th>accuracy</th>\n",
       "      <th>f1</th>\n",
       "      <th>precision</th>\n",
       "      <th>recall</th>\n",
       "      <th>meta_name</th>\n",
       "      <th>model</th>\n",
       "    </tr>\n",
       "  </thead>\n",
       "  <tbody>\n",
       "    <tr>\n",
       "      <th>0</th>\n",
       "      <td>0.9760</td>\n",
       "      <td>0.9760</td>\n",
       "      <td>0.9795</td>\n",
       "      <td>0.9725</td>\n",
       "      <td>name</td>\n",
       "      <td>Extreme Random Forest</td>\n",
       "    </tr>\n",
       "    <tr>\n",
       "      <th>0</th>\n",
       "      <td>0.9850</td>\n",
       "      <td>0.9854</td>\n",
       "      <td>0.9867</td>\n",
       "      <td>0.9841</td>\n",
       "      <td>date</td>\n",
       "      <td>Extreme Random Forest</td>\n",
       "    </tr>\n",
       "    <tr>\n",
       "      <th>0</th>\n",
       "      <td>0.9683</td>\n",
       "      <td>0.9682</td>\n",
       "      <td>0.9699</td>\n",
       "      <td>0.9666</td>\n",
       "      <td>location</td>\n",
       "      <td>Extreme Random Forest</td>\n",
       "    </tr>\n",
       "    <tr>\n",
       "      <th>0</th>\n",
       "      <td>0.9645</td>\n",
       "      <td>0.9639</td>\n",
       "      <td>0.9828</td>\n",
       "      <td>0.9458</td>\n",
       "      <td>description</td>\n",
       "      <td>Extreme Random Forest</td>\n",
       "    </tr>\n",
       "  </tbody>\n",
       "</table>\n",
       "</div>"
      ],
      "text/plain": [
       "   accuracy      f1  precision  recall    meta_name                  model\n",
       "0    0.9760  0.9760     0.9795  0.9725         name  Extreme Random Forest\n",
       "0    0.9850  0.9854     0.9867  0.9841         date  Extreme Random Forest\n",
       "0    0.9683  0.9682     0.9699  0.9666     location  Extreme Random Forest\n",
       "0    0.9645  0.9639     0.9828  0.9458  description  Extreme Random Forest"
      ]
     },
     "execution_count": 74,
     "metadata": {},
     "output_type": "execute_result"
    }
   ],
   "source": [
    "result_all_erf = pd.concat([result_name, result_date, result_location, result_descr])\n",
    "result_all_erf['meta_name'] = ['name', 'date', 'location', 'description']\n",
    "result_all_erf.ix[:,'model'] = 'Extreme Random Forest'\n",
    "result_all_erf.round(4)"
   ]
  },
  {
   "cell_type": "code",
   "execution_count": 75,
   "metadata": {
    "collapsed": true
   },
   "outputs": [],
   "source": [
    "result_all = pd.concat([result_all_rf, result_all_svm, result_all_lr, result_all_erf])"
   ]
  },
  {
   "cell_type": "markdown",
   "metadata": {},
   "source": [
    "# Result for all models"
   ]
  },
  {
   "cell_type": "code",
   "execution_count": 76,
   "metadata": {
    "collapsed": false
   },
   "outputs": [],
   "source": [
    "result_all = result_all.sort_values(by=['meta_name'],ascending=False).round(4)"
   ]
  },
  {
   "cell_type": "code",
   "execution_count": 80,
   "metadata": {
    "collapsed": true
   },
   "outputs": [],
   "source": [
    "result_all.round(2).to_latex(open('summary_result_original','w'))"
   ]
  },
  {
   "cell_type": "code",
   "execution_count": 81,
   "metadata": {
    "collapsed": false
   },
   "outputs": [
    {
     "data": {
      "text/html": [
       "<div>\n",
       "<table border=\"1\" class=\"dataframe\">\n",
       "  <thead>\n",
       "    <tr style=\"text-align: right;\">\n",
       "      <th></th>\n",
       "      <th>accuracy</th>\n",
       "      <th>f1</th>\n",
       "      <th>precision</th>\n",
       "      <th>recall</th>\n",
       "      <th>meta_name</th>\n",
       "      <th>model</th>\n",
       "    </tr>\n",
       "  </thead>\n",
       "  <tbody>\n",
       "    <tr>\n",
       "      <th>0</th>\n",
       "      <td>0.9783</td>\n",
       "      <td>0.9783</td>\n",
       "      <td>0.9837</td>\n",
       "      <td>0.9729</td>\n",
       "      <td>name</td>\n",
       "      <td>Random forest</td>\n",
       "    </tr>\n",
       "    <tr>\n",
       "      <th>0</th>\n",
       "      <td>0.5768</td>\n",
       "      <td>0.7020</td>\n",
       "      <td>0.5414</td>\n",
       "      <td>0.9982</td>\n",
       "      <td>name</td>\n",
       "      <td>SVM</td>\n",
       "    </tr>\n",
       "    <tr>\n",
       "      <th>0</th>\n",
       "      <td>0.8180</td>\n",
       "      <td>0.8154</td>\n",
       "      <td>0.8147</td>\n",
       "      <td>0.8162</td>\n",
       "      <td>name</td>\n",
       "      <td>Logistic regression</td>\n",
       "    </tr>\n",
       "    <tr>\n",
       "      <th>0</th>\n",
       "      <td>0.9760</td>\n",
       "      <td>0.9760</td>\n",
       "      <td>0.9795</td>\n",
       "      <td>0.9725</td>\n",
       "      <td>name</td>\n",
       "      <td>Extreme Random Forest</td>\n",
       "    </tr>\n",
       "    <tr>\n",
       "      <th>0</th>\n",
       "      <td>0.9657</td>\n",
       "      <td>0.9660</td>\n",
       "      <td>0.9685</td>\n",
       "      <td>0.9636</td>\n",
       "      <td>location</td>\n",
       "      <td>Random forest</td>\n",
       "    </tr>\n",
       "    <tr>\n",
       "      <th>0</th>\n",
       "      <td>0.5908</td>\n",
       "      <td>0.7149</td>\n",
       "      <td>0.5565</td>\n",
       "      <td>0.9994</td>\n",
       "      <td>location</td>\n",
       "      <td>SVM</td>\n",
       "    </tr>\n",
       "    <tr>\n",
       "      <th>0</th>\n",
       "      <td>0.8201</td>\n",
       "      <td>0.8235</td>\n",
       "      <td>0.8062</td>\n",
       "      <td>0.8416</td>\n",
       "      <td>location</td>\n",
       "      <td>Logistic regression</td>\n",
       "    </tr>\n",
       "    <tr>\n",
       "      <th>0</th>\n",
       "      <td>0.9683</td>\n",
       "      <td>0.9682</td>\n",
       "      <td>0.9699</td>\n",
       "      <td>0.9666</td>\n",
       "      <td>location</td>\n",
       "      <td>Extreme Random Forest</td>\n",
       "    </tr>\n",
       "    <tr>\n",
       "      <th>0</th>\n",
       "      <td>0.9464</td>\n",
       "      <td>0.9468</td>\n",
       "      <td>0.9576</td>\n",
       "      <td>0.9363</td>\n",
       "      <td>description</td>\n",
       "      <td>Random forest</td>\n",
       "    </tr>\n",
       "    <tr>\n",
       "      <th>0</th>\n",
       "      <td>0.5076</td>\n",
       "      <td>0.6646</td>\n",
       "      <td>0.4977</td>\n",
       "      <td>1.0000</td>\n",
       "      <td>description</td>\n",
       "      <td>SVM</td>\n",
       "    </tr>\n",
       "    <tr>\n",
       "      <th>0</th>\n",
       "      <td>0.8708</td>\n",
       "      <td>0.8779</td>\n",
       "      <td>0.8723</td>\n",
       "      <td>0.8836</td>\n",
       "      <td>description</td>\n",
       "      <td>Logistic regression</td>\n",
       "    </tr>\n",
       "    <tr>\n",
       "      <th>0</th>\n",
       "      <td>0.9645</td>\n",
       "      <td>0.9639</td>\n",
       "      <td>0.9828</td>\n",
       "      <td>0.9458</td>\n",
       "      <td>description</td>\n",
       "      <td>Extreme Random Forest</td>\n",
       "    </tr>\n",
       "    <tr>\n",
       "      <th>0</th>\n",
       "      <td>0.9809</td>\n",
       "      <td>0.9809</td>\n",
       "      <td>0.9745</td>\n",
       "      <td>0.9874</td>\n",
       "      <td>date</td>\n",
       "      <td>Random forest</td>\n",
       "    </tr>\n",
       "    <tr>\n",
       "      <th>0</th>\n",
       "      <td>0.5689</td>\n",
       "      <td>0.2125</td>\n",
       "      <td>0.9907</td>\n",
       "      <td>0.1190</td>\n",
       "      <td>date</td>\n",
       "      <td>SVM</td>\n",
       "    </tr>\n",
       "    <tr>\n",
       "      <th>0</th>\n",
       "      <td>0.9004</td>\n",
       "      <td>0.9023</td>\n",
       "      <td>0.8925</td>\n",
       "      <td>0.9123</td>\n",
       "      <td>date</td>\n",
       "      <td>Logistic regression</td>\n",
       "    </tr>\n",
       "    <tr>\n",
       "      <th>0</th>\n",
       "      <td>0.9850</td>\n",
       "      <td>0.9854</td>\n",
       "      <td>0.9867</td>\n",
       "      <td>0.9841</td>\n",
       "      <td>date</td>\n",
       "      <td>Extreme Random Forest</td>\n",
       "    </tr>\n",
       "  </tbody>\n",
       "</table>\n",
       "</div>"
      ],
      "text/plain": [
       "   accuracy      f1  precision  recall    meta_name                  model\n",
       "0    0.9783  0.9783     0.9837  0.9729         name          Random forest\n",
       "0    0.5768  0.7020     0.5414  0.9982         name                    SVM\n",
       "0    0.8180  0.8154     0.8147  0.8162         name    Logistic regression\n",
       "0    0.9760  0.9760     0.9795  0.9725         name  Extreme Random Forest\n",
       "0    0.9657  0.9660     0.9685  0.9636     location          Random forest\n",
       "0    0.5908  0.7149     0.5565  0.9994     location                    SVM\n",
       "0    0.8201  0.8235     0.8062  0.8416     location    Logistic regression\n",
       "0    0.9683  0.9682     0.9699  0.9666     location  Extreme Random Forest\n",
       "0    0.9464  0.9468     0.9576  0.9363  description          Random forest\n",
       "0    0.5076  0.6646     0.4977  1.0000  description                    SVM\n",
       "0    0.8708  0.8779     0.8723  0.8836  description    Logistic regression\n",
       "0    0.9645  0.9639     0.9828  0.9458  description  Extreme Random Forest\n",
       "0    0.9809  0.9809     0.9745  0.9874         date          Random forest\n",
       "0    0.5689  0.2125     0.9907  0.1190         date                    SVM\n",
       "0    0.9004  0.9023     0.8925  0.9123         date    Logistic regression\n",
       "0    0.9850  0.9854     0.9867  0.9841         date  Extreme Random Forest"
      ]
     },
     "execution_count": 81,
     "metadata": {},
     "output_type": "execute_result"
    }
   ],
   "source": [
    "result_all"
   ]
  },
  {
   "cell_type": "markdown",
   "metadata": {},
   "source": [
    "Here we used:\n",
    "* Numerica features\n",
    "* No cross validation\n",
    "* No fair test train split\n",
    "* => RESULTS ARE OVERESTIMATED\n",
   ]
  },
  {
   "cell_type": "code",
   "execution_count": null,
   "metadata": {
    "collapsed": true
   },
   "outputs": [],
   "source": []
  }
 ],
 "metadata": {
  "anaconda-cloud": {},
  "kernelspec": {
   "display_name": "Python [conda env:py35]",
   "language": "python",
   "name": "conda-env-py35-py"
  },
  "language_info": {
   "codemirror_mode": {
    "name": "ipython",
    "version": 3
   },
   "file_extension": ".py",
   "mimetype": "text/x-python",
   "name": "python",
   "nbconvert_exporter": "python",
   "pygments_lexer": "ipython3",
   "version": "3.5.2"
  }
 },
 "nbformat": 4,
 "nbformat_minor": 0
}
